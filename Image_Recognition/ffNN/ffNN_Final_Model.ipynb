{
 "cells": [
  {
   "cell_type": "markdown",
   "id": "37c61406",
   "metadata": {
    "editable": true,
    "id": "QYuALZOG-AMq",
    "papermill": {
     "duration": 0.00633,
     "end_time": "2025-10-15T09:02:39.770021",
     "exception": false,
     "start_time": "2025-10-15T09:02:39.763691",
     "status": "completed"
    },
    "slideshow": {
     "slide_type": ""
    },
    "tags": []
   },
   "source": [
    "# CV Course Project: Assignment - Image Recognition\n",
    "\n",
    "---\n",
    "\n",
    "**Group:**\n",
    "- Alumno 1: San Millan Rodrigues, Nadine (n.srodrigues@alumnos.upm.es)\n",
    "- Alumno 2: Sukhorukova, Anastasia (anastasia.s@alumnos.upm.es)\n",
    "- Alumno 3: Reyes Castro, Didier Yamil (didier.reyes.castro@alumnos.upm.es)\n",
    "\n",
    "**Course:** Computer Vision (CV) - 2025/26\n",
    "\n",
    "**Institution:** Polytechnic University of Madrid (UPM)\n",
    "\n",
    "**Date:** January 2026\n",
    "\n",
    "---\n",
    "\n",
    "## Goals\n",
    "\n",
    "The goals of the assignment are:\n",
    "* Develop proficiency in using Tensorflow/Keras for training Neural Nets (NNs).\n",
    "* Put into practice the acquired knowledge to optimize the parameters and architecture of a feedforward Neural Net (ffNN), in the context of an image recognition problem.\n",
    "* Put into practice NNs specially conceived for analysing images. Design and optimize the parameters of a Convolutional Neural Net (CNN) to deal with previous task.\n",
    "* Train popular architectures from scratch (e.g., GoogLeNet, VGG, ResNet, ...), and compare the results with the ones provided by their pre-trained versions using transfer learning.\n",
    "\n",
    "Follow the link below to download the classification data set  “xview_recognition”: [https://drive.upm.es/s/2DDPE2zHw5dbM3G](https://drive.upm.es/s/2DDPE2zHw5dbM3G)"
   ]
  },
  {
   "cell_type": "markdown",
   "id": "327f980f",
   "metadata": {
    "papermill": {
     "duration": 0.004838,
     "end_time": "2025-10-15T09:02:39.780636",
     "exception": false,
     "start_time": "2025-10-15T09:02:39.775798",
     "status": "completed"
    },
    "tags": []
   },
   "source": [
    "## 0 Setup and Data Loading"
   ]
  },
  {
   "cell_type": "markdown",
   "id": "01e750d8",
   "metadata": {
    "papermill": {
     "duration": 0.004565,
     "end_time": "2025-10-15T09:02:39.789950",
     "exception": false,
     "start_time": "2025-10-15T09:02:39.785385",
     "status": "completed"
    },
    "tags": []
   },
   "source": [
    "### 0.1 Install and Import Required Libraries"
   ]
  },
  {
   "cell_type": "code",
   "execution_count": 1,
   "id": "608285ae",
   "metadata": {
    "execution": {
     "iopub.execute_input": "2025-10-15T09:02:39.800957Z",
     "iopub.status.busy": "2025-10-15T09:02:39.800692Z",
     "iopub.status.idle": "2025-10-15T09:02:47.700120Z",
     "shell.execute_reply": "2025-10-15T09:02:47.699319Z"
    },
    "papermill": {
     "duration": 7.906864,
     "end_time": "2025-10-15T09:02:47.701785",
     "exception": false,
     "start_time": "2025-10-15T09:02:39.794921",
     "status": "completed"
    },
    "tags": []
   },
   "outputs": [
    {
     "name": "stdout",
     "output_type": "stream",
     "text": [
      "Requirement already satisfied: tensorflow in /usr/local/lib/python3.11/dist-packages (2.18.0)\r\n",
      "Requirement already satisfied: numpy in /usr/local/lib/python3.11/dist-packages (1.26.4)\r\n",
      "Collecting rasterio\r\n",
      "  Downloading rasterio-1.4.3-cp311-cp311-manylinux_2_17_x86_64.manylinux2014_x86_64.whl.metadata (9.1 kB)\r\n",
      "Requirement already satisfied: scikit-learn in /usr/local/lib/python3.11/dist-packages (1.2.2)\r\n",
      "Requirement already satisfied: matplotlib in /usr/local/lib/python3.11/dist-packages (3.7.2)\r\n",
      "Requirement already satisfied: keras in /usr/local/lib/python3.11/dist-packages (3.8.0)\r\n",
      "Requirement already satisfied: absl-py>=1.0.0 in /usr/local/lib/python3.11/dist-packages (from tensorflow) (1.4.0)\r\n",
      "Requirement already satisfied: astunparse>=1.6.0 in /usr/local/lib/python3.11/dist-packages (from tensorflow) (1.6.3)\r\n",
      "Requirement already satisfied: flatbuffers>=24.3.25 in /usr/local/lib/python3.11/dist-packages (from tensorflow) (25.2.10)\r\n",
      "Requirement already satisfied: gast!=0.5.0,!=0.5.1,!=0.5.2,>=0.2.1 in /usr/local/lib/python3.11/dist-packages (from tensorflow) (0.6.0)\r\n",
      "Requirement already satisfied: google-pasta>=0.1.1 in /usr/local/lib/python3.11/dist-packages (from tensorflow) (0.2.0)\r\n",
      "Requirement already satisfied: libclang>=13.0.0 in /usr/local/lib/python3.11/dist-packages (from tensorflow) (18.1.1)\r\n",
      "Requirement already satisfied: opt-einsum>=2.3.2 in /usr/local/lib/python3.11/dist-packages (from tensorflow) (3.4.0)\r\n",
      "Requirement already satisfied: packaging in /usr/local/lib/python3.11/dist-packages (from tensorflow) (25.0)\r\n",
      "Requirement already satisfied: protobuf!=4.21.0,!=4.21.1,!=4.21.2,!=4.21.3,!=4.21.4,!=4.21.5,<6.0.0dev,>=3.20.3 in /usr/local/lib/python3.11/dist-packages (from tensorflow) (3.20.3)\r\n",
      "Requirement already satisfied: requests<3,>=2.21.0 in /usr/local/lib/python3.11/dist-packages (from tensorflow) (2.32.5)\r\n",
      "Requirement already satisfied: setuptools in /usr/local/lib/python3.11/dist-packages (from tensorflow) (75.2.0)\r\n",
      "Requirement already satisfied: six>=1.12.0 in /usr/local/lib/python3.11/dist-packages (from tensorflow) (1.17.0)\r\n",
      "Requirement already satisfied: termcolor>=1.1.0 in /usr/local/lib/python3.11/dist-packages (from tensorflow) (3.1.0)\r\n",
      "Requirement already satisfied: typing-extensions>=3.6.6 in /usr/local/lib/python3.11/dist-packages (from tensorflow) (4.15.0)\r\n",
      "Requirement already satisfied: wrapt>=1.11.0 in /usr/local/lib/python3.11/dist-packages (from tensorflow) (1.17.2)\r\n",
      "Requirement already satisfied: grpcio<2.0,>=1.24.3 in /usr/local/lib/python3.11/dist-packages (from tensorflow) (1.75.1)\r\n",
      "Requirement already satisfied: tensorboard<2.19,>=2.18 in /usr/local/lib/python3.11/dist-packages (from tensorflow) (2.18.0)\r\n",
      "Requirement already satisfied: h5py>=3.11.0 in /usr/local/lib/python3.11/dist-packages (from tensorflow) (3.14.0)\r\n",
      "Requirement already satisfied: ml-dtypes<0.5.0,>=0.4.0 in /usr/local/lib/python3.11/dist-packages (from tensorflow) (0.4.1)\r\n",
      "Requirement already satisfied: tensorflow-io-gcs-filesystem>=0.23.1 in /usr/local/lib/python3.11/dist-packages (from tensorflow) (0.37.1)\r\n",
      "Requirement already satisfied: mkl_fft in /usr/local/lib/python3.11/dist-packages (from numpy) (1.3.8)\r\n",
      "Requirement already satisfied: mkl_random in /usr/local/lib/python3.11/dist-packages (from numpy) (1.2.4)\r\n",
      "Requirement already satisfied: mkl_umath in /usr/local/lib/python3.11/dist-packages (from numpy) (0.1.1)\r\n",
      "Requirement already satisfied: mkl in /usr/local/lib/python3.11/dist-packages (from numpy) (2025.2.0)\r\n",
      "Requirement already satisfied: tbb4py in /usr/local/lib/python3.11/dist-packages (from numpy) (2022.2.0)\r\n",
      "Requirement already satisfied: mkl-service in /usr/local/lib/python3.11/dist-packages (from numpy) (2.4.1)\r\n",
      "Collecting affine (from rasterio)\r\n",
      "  Downloading affine-2.4.0-py3-none-any.whl.metadata (4.0 kB)\r\n",
      "Requirement already satisfied: attrs in /usr/local/lib/python3.11/dist-packages (from rasterio) (25.3.0)\r\n",
      "Requirement already satisfied: certifi in /usr/local/lib/python3.11/dist-packages (from rasterio) (2025.8.3)\r\n",
      "Requirement already satisfied: click>=4.0 in /usr/local/lib/python3.11/dist-packages (from rasterio) (8.3.0)\r\n",
      "Requirement already satisfied: cligj>=0.5 in /usr/local/lib/python3.11/dist-packages (from rasterio) (0.7.2)\r\n",
      "Requirement already satisfied: click-plugins in /usr/local/lib/python3.11/dist-packages (from rasterio) (1.1.1.2)\r\n",
      "Requirement already satisfied: pyparsing in /usr/local/lib/python3.11/dist-packages (from rasterio) (3.0.9)\r\n",
      "Requirement already satisfied: scipy>=1.3.2 in /usr/local/lib/python3.11/dist-packages (from scikit-learn) (1.15.3)\r\n",
      "Requirement already satisfied: joblib>=1.1.1 in /usr/local/lib/python3.11/dist-packages (from scikit-learn) (1.5.2)\r\n",
      "Requirement already satisfied: threadpoolctl>=2.0.0 in /usr/local/lib/python3.11/dist-packages (from scikit-learn) (3.6.0)\r\n",
      "Requirement already satisfied: contourpy>=1.0.1 in /usr/local/lib/python3.11/dist-packages (from matplotlib) (1.3.2)\r\n",
      "Requirement already satisfied: cycler>=0.10 in /usr/local/lib/python3.11/dist-packages (from matplotlib) (0.12.1)\r\n",
      "Requirement already satisfied: fonttools>=4.22.0 in /usr/local/lib/python3.11/dist-packages (from matplotlib) (4.59.0)\r\n",
      "Requirement already satisfied: kiwisolver>=1.0.1 in /usr/local/lib/python3.11/dist-packages (from matplotlib) (1.4.8)\r\n",
      "Requirement already satisfied: pillow>=6.2.0 in /usr/local/lib/python3.11/dist-packages (from matplotlib) (11.3.0)\r\n",
      "Requirement already satisfied: python-dateutil>=2.7 in /usr/local/lib/python3.11/dist-packages (from matplotlib) (2.9.0.post0)\r\n",
      "Requirement already satisfied: rich in /usr/local/lib/python3.11/dist-packages (from keras) (14.1.0)\r\n",
      "Requirement already satisfied: namex in /usr/local/lib/python3.11/dist-packages (from keras) (0.1.0)\r\n",
      "Requirement already satisfied: optree in /usr/local/lib/python3.11/dist-packages (from keras) (0.16.0)\r\n",
      "Requirement already satisfied: wheel<1.0,>=0.23.0 in /usr/local/lib/python3.11/dist-packages (from astunparse>=1.6.0->tensorflow) (0.45.1)\r\n",
      "Requirement already satisfied: charset_normalizer<4,>=2 in /usr/local/lib/python3.11/dist-packages (from requests<3,>=2.21.0->tensorflow) (3.4.3)\r\n",
      "Requirement already satisfied: idna<4,>=2.5 in /usr/local/lib/python3.11/dist-packages (from requests<3,>=2.21.0->tensorflow) (3.10)\r\n",
      "Requirement already satisfied: urllib3<3,>=1.21.1 in /usr/local/lib/python3.11/dist-packages (from requests<3,>=2.21.0->tensorflow) (2.5.0)\r\n",
      "Requirement already satisfied: markdown>=2.6.8 in /usr/local/lib/python3.11/dist-packages (from tensorboard<2.19,>=2.18->tensorflow) (3.8.2)\r\n",
      "Requirement already satisfied: tensorboard-data-server<0.8.0,>=0.7.0 in /usr/local/lib/python3.11/dist-packages (from tensorboard<2.19,>=2.18->tensorflow) (0.7.2)\r\n",
      "Requirement already satisfied: werkzeug>=1.0.1 in /usr/local/lib/python3.11/dist-packages (from tensorboard<2.19,>=2.18->tensorflow) (3.1.3)\r\n",
      "Requirement already satisfied: intel-openmp<2026,>=2024 in /usr/local/lib/python3.11/dist-packages (from mkl->numpy) (2024.2.0)\r\n",
      "Requirement already satisfied: tbb==2022.* in /usr/local/lib/python3.11/dist-packages (from mkl->numpy) (2022.2.0)\r\n",
      "Requirement already satisfied: tcmlib==1.* in /usr/local/lib/python3.11/dist-packages (from tbb==2022.*->mkl->numpy) (1.4.0)\r\n",
      "Requirement already satisfied: intel-cmplr-lib-rt in /usr/local/lib/python3.11/dist-packages (from mkl_umath->numpy) (2024.2.0)\r\n",
      "Requirement already satisfied: markdown-it-py>=2.2.0 in /usr/local/lib/python3.11/dist-packages (from rich->keras) (4.0.0)\r\n",
      "Requirement already satisfied: pygments<3.0.0,>=2.13.0 in /usr/local/lib/python3.11/dist-packages (from rich->keras) (2.19.2)\r\n",
      "Requirement already satisfied: intel-cmplr-lib-ur==2024.2.0 in /usr/local/lib/python3.11/dist-packages (from intel-openmp<2026,>=2024->mkl->numpy) (2024.2.0)\r\n",
      "Requirement already satisfied: mdurl~=0.1 in /usr/local/lib/python3.11/dist-packages (from markdown-it-py>=2.2.0->rich->keras) (0.1.2)\r\n",
      "Requirement already satisfied: MarkupSafe>=2.1.1 in /usr/local/lib/python3.11/dist-packages (from werkzeug>=1.0.1->tensorboard<2.19,>=2.18->tensorflow) (3.0.2)\r\n",
      "Downloading rasterio-1.4.3-cp311-cp311-manylinux_2_17_x86_64.manylinux2014_x86_64.whl (22.2 MB)\r\n",
      "\u001b[2K   \u001b[90m━━━━━━━━━━━━━━━━━━━━━━━━━━━━━━━━━━━━━━━━\u001b[0m \u001b[32m22.2/22.2 MB\u001b[0m \u001b[31m80.3 MB/s\u001b[0m eta \u001b[36m0:00:00\u001b[0m\r\n",
      "\u001b[?25hDownloading affine-2.4.0-py3-none-any.whl (15 kB)\r\n",
      "Installing collected packages: affine, rasterio\r\n",
      "Successfully installed affine-2.4.0 rasterio-1.4.3\r\n"
     ]
    }
   ],
   "source": [
    "!pip install tensorflow numpy rasterio scikit-learn matplotlib keras"
   ]
  },
  {
   "cell_type": "markdown",
   "id": "3a672d60",
   "metadata": {
    "papermill": {
     "duration": 0.00554,
     "end_time": "2025-10-15T09:02:47.713986",
     "exception": false,
     "start_time": "2025-10-15T09:02:47.708446",
     "status": "completed"
    },
    "tags": []
   },
   "source": [
    "Loading the necessary libraries."
   ]
  },
  {
   "cell_type": "code",
   "execution_count": 2,
   "id": "7a44e065",
   "metadata": {
    "execution": {
     "iopub.execute_input": "2025-10-15T09:02:47.726820Z",
     "iopub.status.busy": "2025-10-15T09:02:47.726184Z",
     "iopub.status.idle": "2025-10-15T09:03:13.067241Z",
     "shell.execute_reply": "2025-10-15T09:03:13.066579Z"
    },
    "papermill": {
     "duration": 25.349112,
     "end_time": "2025-10-15T09:03:13.068655",
     "exception": false,
     "start_time": "2025-10-15T09:02:47.719543",
     "status": "completed"
    },
    "tags": []
   },
   "outputs": [
    {
     "name": "stderr",
     "output_type": "stream",
     "text": [
      "2025-10-15 09:02:53.707676: E external/local_xla/xla/stream_executor/cuda/cuda_fft.cc:477] Unable to register cuFFT factory: Attempting to register factory for plugin cuFFT when one has already been registered\n",
      "WARNING: All log messages before absl::InitializeLog() is called are written to STDERR\n",
      "E0000 00:00:1760518974.246540      19 cuda_dnn.cc:8310] Unable to register cuDNN factory: Attempting to register factory for plugin cuDNN when one has already been registered\n",
      "E0000 00:00:1760518974.377524      19 cuda_blas.cc:1418] Unable to register cuBLAS factory: Attempting to register factory for plugin cuBLAS when one has already been registered\n"
     ]
    }
   ],
   "source": [
    "# Python libraries\n",
    "import uuid\n",
    "import warnings\n",
    "import json\n",
    "import os\n",
    "import math\n",
    "\n",
    "# External libraries\n",
    "import numpy as np\n",
    "import rasterio\n",
    "import matplotlib.pyplot as plt\n",
    "\n",
    "from sklearn.model_selection import train_test_split\n",
    "from sklearn.metrics import confusion_matrix\n",
    "\n",
    "import tensorflow as tf\n",
    "from tensorflow.keras import Input\n",
    "from tensorflow.keras.models import Sequential\n",
    "from tensorflow.keras.layers import Dense, Activation, Flatten, Rescaling, BatchNormalization, Dropout, LeakyReLU # type: ignore\n",
    "from tensorflow.keras.optimizers import Adam, AdamW, SGD\n",
    "from tensorflow.keras.optimizers.schedules import CosineDecayRestarts\n",
    "from tensorflow.keras.callbacks import TerminateOnNaN, EarlyStopping, ReduceLROnPlateau, ModelCheckpoint\n"
   ]
  },
  {
   "cell_type": "markdown",
   "id": "700a08b7",
   "metadata": {
    "papermill": {
     "duration": 0.00536,
     "end_time": "2025-10-15T09:03:13.080213",
     "exception": false,
     "start_time": "2025-10-15T09:03:13.074853",
     "status": "completed"
    },
    "tags": []
   },
   "source": [
    "Check if GPU is available for training the models."
   ]
  },
  {
   "cell_type": "code",
   "execution_count": 3,
   "id": "12c23f03",
   "metadata": {
    "ExecuteTime": {
     "end_time": "2024-10-26T00:00:21.031186Z",
     "start_time": "2024-10-26T00:00:17.131476Z"
    },
    "editable": true,
    "execution": {
     "iopub.execute_input": "2025-10-15T09:03:13.092321Z",
     "iopub.status.busy": "2025-10-15T09:03:13.091451Z",
     "iopub.status.idle": "2025-10-15T09:03:14.506453Z",
     "shell.execute_reply": "2025-10-15T09:03:14.505556Z"
    },
    "papermill": {
     "duration": 1.422399,
     "end_time": "2025-10-15T09:03:14.508012",
     "exception": false,
     "start_time": "2025-10-15T09:03:13.085613",
     "status": "completed"
    },
    "slideshow": {
     "slide_type": ""
    },
    "tags": []
   },
   "outputs": [
    {
     "name": "stdout",
     "output_type": "stream",
     "text": [
      "[PhysicalDevice(name='/physical_device:GPU:0', device_type='GPU'), PhysicalDevice(name='/physical_device:GPU:1', device_type='GPU')]\n"
     ]
    }
   ],
   "source": [
    "print(tf.config.list_physical_devices('GPU'))"
   ]
  },
  {
   "cell_type": "markdown",
   "id": "63a5e834",
   "metadata": {
    "papermill": {
     "duration": 0.006277,
     "end_time": "2025-10-15T09:03:14.521309",
     "exception": false,
     "start_time": "2025-10-15T09:03:14.515032",
     "status": "completed"
    },
    "tags": []
   },
   "source": [
    "### 0.2 Load the Dataset & Image Loader\n",
    "\n",
    "Before loading the dataset, set the path to the folder containing the images."
   ]
  },
  {
   "cell_type": "code",
   "execution_count": 4,
   "id": "8dd10d7a",
   "metadata": {
    "execution": {
     "iopub.execute_input": "2025-10-15T09:03:14.535069Z",
     "iopub.status.busy": "2025-10-15T09:03:14.534752Z",
     "iopub.status.idle": "2025-10-15T09:03:14.538830Z",
     "shell.execute_reply": "2025-10-15T09:03:14.538056Z"
    },
    "papermill": {
     "duration": 0.012506,
     "end_time": "2025-10-15T09:03:14.540130",
     "exception": false,
     "start_time": "2025-10-15T09:03:14.527624",
     "status": "completed"
    },
    "tags": []
   },
   "outputs": [],
   "source": [
    "IMAGES_PATH = '/kaggle/input/xview-dataset/xview_recognition/'"
   ]
  },
  {
   "cell_type": "code",
   "execution_count": 5,
   "id": "3c783db6",
   "metadata": {
    "ExecuteTime": {
     "end_time": "2024-10-26T00:00:21.066937Z",
     "start_time": "2024-10-26T00:00:21.059126Z"
    },
    "editable": true,
    "execution": {
     "iopub.execute_input": "2025-10-15T09:03:14.554500Z",
     "iopub.status.busy": "2025-10-15T09:03:14.553737Z",
     "iopub.status.idle": "2025-10-15T09:03:14.559588Z",
     "shell.execute_reply": "2025-10-15T09:03:14.558947Z"
    },
    "id": "OYtqD3Oh-AMw",
    "papermill": {
     "duration": 0.014139,
     "end_time": "2025-10-15T09:03:14.560905",
     "exception": false,
     "start_time": "2025-10-15T09:03:14.546766",
     "status": "completed"
    },
    "slideshow": {
     "slide_type": ""
    },
    "tags": []
   },
   "outputs": [],
   "source": [
    "class GenericObject:\n",
    "    \"\"\"\n",
    "    Generic object data.\n",
    "    \"\"\"\n",
    "    def __init__(self):\n",
    "        self.id = uuid.uuid4()\n",
    "        self.bb = (-1, -1, -1, -1)\n",
    "        self.category= -1\n",
    "        self.score = -1\n",
    "\n",
    "class GenericImage:\n",
    "    \"\"\"\n",
    "    Generic image data.\n",
    "    \"\"\"\n",
    "    def __init__(self, filename):\n",
    "        self.filename = filename\n",
    "        self.tile = np.array([-1, -1, -1, -1])  # (pt_x, pt_y, pt_x+width, pt_y+height)\n",
    "        self.objects = list([])\n",
    "\n",
    "    def add_object(self, obj: GenericObject):\n",
    "        self.objects.append(obj)"
   ]
  },
  {
   "cell_type": "code",
   "execution_count": 6,
   "id": "1062ee1a",
   "metadata": {
    "ExecuteTime": {
     "end_time": "2024-10-26T00:00:21.153693Z",
     "start_time": "2024-10-26T00:00:21.149079Z"
    },
    "execution": {
     "iopub.execute_input": "2025-10-15T09:03:14.575177Z",
     "iopub.status.busy": "2025-10-15T09:03:14.574453Z",
     "iopub.status.idle": "2025-10-15T09:03:14.578685Z",
     "shell.execute_reply": "2025-10-15T09:03:14.578041Z"
    },
    "id": "I_GygShu-AMz",
    "papermill": {
     "duration": 0.012246,
     "end_time": "2025-10-15T09:03:14.579713",
     "exception": false,
     "start_time": "2025-10-15T09:03:14.567467",
     "status": "completed"
    },
    "tags": []
   },
   "outputs": [],
   "source": [
    "categories = {0: 'Cargo plane', 1: 'Small car', 2: 'Bus', 3: 'Truck', 4: 'Motorboat', 5: 'Fishing vessel', 6: 'Dump truck', 7: 'Excavator', 8: 'Building', 9: 'Helipad', 10: 'Storage tank', 11: 'Shipping container', 12: 'Pylon'}"
   ]
  },
  {
   "cell_type": "code",
   "execution_count": 7,
   "id": "6ed71b99",
   "metadata": {
    "ExecuteTime": {
     "end_time": "2024-10-26T00:00:21.292654Z",
     "start_time": "2024-10-26T00:00:21.205321Z"
    },
    "editable": true,
    "execution": {
     "iopub.execute_input": "2025-10-15T09:03:14.593956Z",
     "iopub.status.busy": "2025-10-15T09:03:14.593199Z",
     "iopub.status.idle": "2025-10-15T09:03:14.598745Z",
     "shell.execute_reply": "2025-10-15T09:03:14.597983Z"
    },
    "id": "fRBA7ReQ-AM0",
    "papermill": {
     "duration": 0.014099,
     "end_time": "2025-10-15T09:03:14.600094",
     "exception": false,
     "start_time": "2025-10-15T09:03:14.585995",
     "status": "completed"
    },
    "slideshow": {
     "slide_type": ""
    },
    "tags": []
   },
   "outputs": [],
   "source": [
    "def load_geoimage(filename):\n",
    "    warnings.filterwarnings('ignore', category=rasterio.errors.NotGeoreferencedWarning)\n",
    "    src_raster = rasterio.open(IMAGES_PATH + filename, 'r')\n",
    "    # RasterIO to OpenCV (see inconsistencies between libjpeg and libjpeg-turbo)\n",
    "    input_type = src_raster.profile['dtype']\n",
    "    input_channels = src_raster.count\n",
    "    img = np.zeros((src_raster.height, src_raster.width, src_raster.count), dtype=input_type)\n",
    "    for band in range(input_channels):\n",
    "        img[:, :, band] = src_raster.read(band+1)\n",
    "    return img"
   ]
  },
  {
   "cell_type": "code",
   "execution_count": 8,
   "id": "cdd3db88",
   "metadata": {
    "ExecuteTime": {
     "end_time": "2024-10-26T00:00:21.416449Z",
     "start_time": "2024-10-26T00:00:21.311510Z"
    },
    "editable": true,
    "execution": {
     "iopub.execute_input": "2025-10-15T09:03:14.614391Z",
     "iopub.status.busy": "2025-10-15T09:03:14.613971Z",
     "iopub.status.idle": "2025-10-15T09:03:14.756879Z",
     "shell.execute_reply": "2025-10-15T09:03:14.756186Z"
    },
    "id": "Orto292C-AM3",
    "papermill": {
     "duration": 0.151708,
     "end_time": "2025-10-15T09:03:14.758430",
     "exception": false,
     "start_time": "2025-10-15T09:03:14.606722",
     "status": "completed"
    },
    "slideshow": {
     "slide_type": ""
    },
    "tags": []
   },
   "outputs": [],
   "source": [
    "# Load database\n",
    "json_file = IMAGES_PATH + 'xview_ann_train.json'\n",
    "with open(json_file) as ifs:\n",
    "    json_data = json.load(ifs)\n",
    "ifs.close()"
   ]
  },
  {
   "cell_type": "code",
   "execution_count": 9,
   "id": "49200c90",
   "metadata": {
    "ExecuteTime": {
     "end_time": "2024-10-26T00:00:22.874518Z",
     "start_time": "2024-10-26T00:00:22.204948Z"
    },
    "execution": {
     "iopub.execute_input": "2025-10-15T09:03:14.772449Z",
     "iopub.status.busy": "2025-10-15T09:03:14.772157Z",
     "iopub.status.idle": "2025-10-15T09:03:15.183095Z",
     "shell.execute_reply": "2025-10-15T09:03:15.182188Z"
    },
    "id": "4GjFLHs4-AM4",
    "outputId": "5581df22-d4e9-42ac-9f94-061fd8c7acd9",
    "papermill": {
     "duration": 0.419367,
     "end_time": "2025-10-15T09:03:15.184504",
     "exception": false,
     "start_time": "2025-10-15T09:03:14.765137",
     "status": "completed"
    },
    "tags": []
   },
   "outputs": [
    {
     "name": "stdout",
     "output_type": "stream",
     "text": [
      "{'Cargo plane': 635, 'Small car': 3324, 'Bus': 1768, 'Truck': 2210, 'Motorboat': 1069, 'Fishing vessel': 706, 'Dump truck': 1236, 'Excavator': 789, 'Building': 3594, 'Helipad': 111, 'Storage tank': 1469, 'Shipping container': 1523, 'Pylon': 312}\n"
     ]
    }
   ],
   "source": [
    "counts = dict.fromkeys(categories.values(), 0)\n",
    "anns_dataset = []\n",
    "for json_img, json_ann in zip(json_data['images'].values(), json_data['annotations'].values()):\n",
    "    image = GenericImage(json_img['filename'])\n",
    "    image.tile = np.array([0, 0, json_img['width'], json_img['height']])\n",
    "    obj = GenericObject()\n",
    "    obj.bb = (int(json_ann['bbox'][0]), int(json_ann['bbox'][1]), int(json_ann['bbox'][2]), int(json_ann['bbox'][3]))\n",
    "    obj.category = json_ann['category_id']\n",
    "    # Resampling strategy to reduce training time\n",
    "    counts[obj.category] += 1\n",
    "    image.add_object(obj)\n",
    "    anns_dataset.append(image)\n",
    "print(counts)"
   ]
  },
  {
   "cell_type": "code",
   "execution_count": 10,
   "id": "be796ed1",
   "metadata": {
    "execution": {
     "iopub.execute_input": "2025-10-15T09:03:15.197995Z",
     "iopub.status.busy": "2025-10-15T09:03:15.197739Z",
     "iopub.status.idle": "2025-10-15T09:03:15.203144Z",
     "shell.execute_reply": "2025-10-15T09:03:15.202401Z"
    },
    "papermill": {
     "duration": 0.013596,
     "end_time": "2025-10-15T09:03:15.204454",
     "exception": false,
     "start_time": "2025-10-15T09:03:15.190858",
     "status": "completed"
    },
    "tags": []
   },
   "outputs": [],
   "source": [
    "def generator_images(objs, batch_size, do_shuffle=False):\n",
    "    while True:\n",
    "        if do_shuffle:\n",
    "            np.random.shuffle(objs)\n",
    "        groups = [objs[i:i+batch_size] for i in range(0, len(objs), batch_size)]\n",
    "        for group in groups:\n",
    "            images, labels = [], []\n",
    "            for (filename, obj) in group:\n",
    "                # Load image\n",
    "                images.append(load_geoimage(filename))\n",
    "                probabilities = np.zeros(len(categories))\n",
    "                probabilities[list(categories.values()).index(obj.category)] = 1\n",
    "                labels.append(probabilities)\n",
    "            images = np.array(images).astype(np.float32)\n",
    "            labels = np.array(labels).astype(np.float32)\n",
    "            yield images, labels"
   ]
  },
  {
   "cell_type": "markdown",
   "id": "b95216ec",
   "metadata": {
    "papermill": {
     "duration": 0.005781,
     "end_time": "2025-10-15T09:03:15.216041",
     "exception": false,
     "start_time": "2025-10-15T09:03:15.210260",
     "status": "completed"
    },
    "tags": []
   },
   "source": [
    "### 0.3 Setup"
   ]
  },
  {
   "cell_type": "code",
   "execution_count": 11,
   "id": "14027642",
   "metadata": {
    "execution": {
     "iopub.execute_input": "2025-10-15T09:03:15.228263Z",
     "iopub.status.busy": "2025-10-15T09:03:15.228057Z",
     "iopub.status.idle": "2025-10-15T09:03:15.232225Z",
     "shell.execute_reply": "2025-10-15T09:03:15.231469Z"
    },
    "papermill": {
     "duration": 0.011274,
     "end_time": "2025-10-15T09:03:15.233216",
     "exception": false,
     "start_time": "2025-10-15T09:03:15.221942",
     "status": "completed"
    },
    "tags": []
   },
   "outputs": [],
   "source": [
    "# Fix random seed for reproducibility\n",
    "RANDOM_SEED = 42\n",
    "def set_seed(seed_value):\n",
    "    np.random.seed(seed_value)\n",
    "    tf.random.set_seed(seed_value)\n",
    "set_seed(RANDOM_SEED)\n",
    "\n",
    "# Number of categories for classification\n",
    "NUM_CATEGORIES = len(categories)"
   ]
  },
  {
   "cell_type": "markdown",
   "id": "8f004f4a",
   "metadata": {
    "papermill": {
     "duration": 0.005138,
     "end_time": "2025-10-15T09:03:15.244096",
     "exception": false,
     "start_time": "2025-10-15T09:03:15.238958",
     "status": "completed"
    },
    "tags": []
   },
   "source": [
    "## 1 Model Adjustments\n",
    "\n",
    "The following architecture is used:\n",
    "- Validation split: 10% (stratified)\n",
    "- Input layer: The images are rescaled from [0, 255] to [0, 1]\n",
    "- Batch: 16\n",
    "- Epochs: 40\n",
    "- Layers: 1024 > 512 > 256 > 13\n",
    "- Activation function: LeakyReLU (negative slope = 0.1)\n",
    "- Batch Normalization and Dropout (0.2) after each hidden layer.\n",
    "- Loss function: Categorical Focal Crossentropy\n",
    "- Optimiser: AdamW (learning rate = 1e-4)"
   ]
  },
  {
   "cell_type": "markdown",
   "id": "10fee5a1",
   "metadata": {
    "papermill": {
     "duration": 0.005292,
     "end_time": "2025-10-15T09:03:15.254807",
     "exception": false,
     "start_time": "2025-10-15T09:03:15.249515",
     "status": "completed"
    },
    "tags": []
   },
   "source": [
    "### 1.1 Setup"
   ]
  },
  {
   "cell_type": "code",
   "execution_count": 12,
   "id": "80d541c1",
   "metadata": {
    "execution": {
     "iopub.execute_input": "2025-10-15T09:03:15.266602Z",
     "iopub.status.busy": "2025-10-15T09:03:15.266354Z",
     "iopub.status.idle": "2025-10-15T09:03:15.303694Z",
     "shell.execute_reply": "2025-10-15T09:03:15.303034Z"
    },
    "papermill": {
     "duration": 0.044644,
     "end_time": "2025-10-15T09:03:15.304842",
     "exception": false,
     "start_time": "2025-10-15T09:03:15.260198",
     "status": "completed"
    },
    "tags": []
   },
   "outputs": [
    {
     "name": "stdout",
     "output_type": "stream",
     "text": [
      "Number of training images: 16871\n",
      "Number of validation images: 1875\n"
     ]
    }
   ],
   "source": [
    "train2, val2 = train_test_split(anns_dataset,\n",
    "                                test_size=0.1, \n",
    "                                random_state=RANDOM_SEED, \n",
    "                                stratify=[obj.category for ann in anns_dataset for obj in ann.objects])\n",
    "print('Number of training images: ' + str(len(train2)))\n",
    "print('Number of validation images: ' + str(len(val2)))"
   ]
  },
  {
   "cell_type": "code",
   "execution_count": 13,
   "id": "ebfec638",
   "metadata": {
    "execution": {
     "iopub.execute_input": "2025-10-15T09:03:15.316926Z",
     "iopub.status.busy": "2025-10-15T09:03:15.316711Z",
     "iopub.status.idle": "2025-10-15T09:03:15.320142Z",
     "shell.execute_reply": "2025-10-15T09:03:15.319594Z"
    },
    "papermill": {
     "duration": 0.010923,
     "end_time": "2025-10-15T09:03:15.321166",
     "exception": false,
     "start_time": "2025-10-15T09:03:15.310243",
     "status": "completed"
    },
    "tags": []
   },
   "outputs": [],
   "source": [
    "# ------ See class distribution in training and validation sets ------\n",
    "#\n",
    "#import numpy as np\n",
    "#import matplotlib.pyplot as plt\n",
    "#from collections import Counter\n",
    "\n",
    "# 1. Extract the category labels from your datasets\n",
    "#train_labels = [obj.category for ann in train2 for obj in ann.objects]\n",
    "#valid_labels = [obj.category for ann in val2 for obj in ann.objects]\n",
    "\n",
    "# 2. Count the occurrences of each category\n",
    "#train_counts = Counter(train_labels)\n",
    "#valid_counts = Counter(valid_labels)\n",
    "\n",
    "# 3. Print the counts and proportions\n",
    "#print(\"--- Training Set Proportions ---\")\n",
    "#for cat, count in sorted(train_counts.items()):\n",
    "#    percentage = (count / len(train_labels)) * 100\n",
    "#    print(f\"{cat} | Count: {count:<5} | Percentage: {percentage:.2f}%\")\n",
    "\n",
    "#print(\"\\n--- Validation Set Proportions ---\")\n",
    "#for cat, count in sorted(valid_counts.items()):\n",
    "#    percentage = (count / len(valid_labels)) * 100\n",
    "#    print(f\"{cat} | Count: {count:<5} | Percentage: {percentage:.2f}%\")"
   ]
  },
  {
   "cell_type": "code",
   "execution_count": 14,
   "id": "a3d9efaa",
   "metadata": {
    "execution": {
     "iopub.execute_input": "2025-10-15T09:03:15.333021Z",
     "iopub.status.busy": "2025-10-15T09:03:15.332843Z",
     "iopub.status.idle": "2025-10-15T09:03:17.717044Z",
     "shell.execute_reply": "2025-10-15T09:03:17.716339Z"
    },
    "papermill": {
     "duration": 2.391617,
     "end_time": "2025-10-15T09:03:17.718525",
     "exception": false,
     "start_time": "2025-10-15T09:03:15.326908",
     "status": "completed"
    },
    "tags": []
   },
   "outputs": [
    {
     "name": "stdout",
     "output_type": "stream",
     "text": [
      "Compiling the model...\n"
     ]
    },
    {
     "name": "stderr",
     "output_type": "stream",
     "text": [
      "I0000 00:00:1760518995.597206      19 gpu_device.cc:2022] Created device /job:localhost/replica:0/task:0/device:GPU:0 with 13942 MB memory:  -> device: 0, name: Tesla T4, pci bus id: 0000:00:04.0, compute capability: 7.5\n",
      "I0000 00:00:1760518995.598040      19 gpu_device.cc:2022] Created device /job:localhost/replica:0/task:0/device:GPU:1 with 13942 MB memory:  -> device: 1, name: Tesla T4, pci bus id: 0000:00:05.0, compute capability: 7.5\n"
     ]
    },
    {
     "data": {
      "text/html": [
       "<pre style=\"white-space:pre;overflow-x:auto;line-height:normal;font-family:Menlo,'DejaVu Sans Mono',consolas,'Courier New',monospace\"><span style=\"font-weight: bold\">Model: \"sequential\"</span>\n",
       "</pre>\n"
      ],
      "text/plain": [
       "\u001b[1mModel: \"sequential\"\u001b[0m\n"
      ]
     },
     "metadata": {},
     "output_type": "display_data"
    },
    {
     "data": {
      "text/html": [
       "<pre style=\"white-space:pre;overflow-x:auto;line-height:normal;font-family:Menlo,'DejaVu Sans Mono',consolas,'Courier New',monospace\">┏━━━━━━━━━━━━━━━━━━━━━━━━━━━━━━━━━┳━━━━━━━━━━━━━━━━━━━━━━━━┳━━━━━━━━━━━━━━━┓\n",
       "┃<span style=\"font-weight: bold\"> Layer (type)                    </span>┃<span style=\"font-weight: bold\"> Output Shape           </span>┃<span style=\"font-weight: bold\">       Param # </span>┃\n",
       "┡━━━━━━━━━━━━━━━━━━━━━━━━━━━━━━━━━╇━━━━━━━━━━━━━━━━━━━━━━━━╇━━━━━━━━━━━━━━━┩\n",
       "│ rescaling (<span style=\"color: #0087ff; text-decoration-color: #0087ff\">Rescaling</span>)           │ (<span style=\"color: #00d7ff; text-decoration-color: #00d7ff\">None</span>, <span style=\"color: #00af00; text-decoration-color: #00af00\">224</span>, <span style=\"color: #00af00; text-decoration-color: #00af00\">224</span>, <span style=\"color: #00af00; text-decoration-color: #00af00\">3</span>)    │             <span style=\"color: #00af00; text-decoration-color: #00af00\">0</span> │\n",
       "├─────────────────────────────────┼────────────────────────┼───────────────┤\n",
       "│ flatten (<span style=\"color: #0087ff; text-decoration-color: #0087ff\">Flatten</span>)               │ (<span style=\"color: #00d7ff; text-decoration-color: #00d7ff\">None</span>, <span style=\"color: #00af00; text-decoration-color: #00af00\">150528</span>)         │             <span style=\"color: #00af00; text-decoration-color: #00af00\">0</span> │\n",
       "├─────────────────────────────────┼────────────────────────┼───────────────┤\n",
       "│ dense (<span style=\"color: #0087ff; text-decoration-color: #0087ff\">Dense</span>)                   │ (<span style=\"color: #00d7ff; text-decoration-color: #00d7ff\">None</span>, <span style=\"color: #00af00; text-decoration-color: #00af00\">1024</span>)           │   <span style=\"color: #00af00; text-decoration-color: #00af00\">154,141,696</span> │\n",
       "├─────────────────────────────────┼────────────────────────┼───────────────┤\n",
       "│ batch_normalization             │ (<span style=\"color: #00d7ff; text-decoration-color: #00d7ff\">None</span>, <span style=\"color: #00af00; text-decoration-color: #00af00\">1024</span>)           │         <span style=\"color: #00af00; text-decoration-color: #00af00\">4,096</span> │\n",
       "│ (<span style=\"color: #0087ff; text-decoration-color: #0087ff\">BatchNormalization</span>)            │                        │               │\n",
       "├─────────────────────────────────┼────────────────────────┼───────────────┤\n",
       "│ leaky_re_lu (<span style=\"color: #0087ff; text-decoration-color: #0087ff\">LeakyReLU</span>)         │ (<span style=\"color: #00d7ff; text-decoration-color: #00d7ff\">None</span>, <span style=\"color: #00af00; text-decoration-color: #00af00\">1024</span>)           │             <span style=\"color: #00af00; text-decoration-color: #00af00\">0</span> │\n",
       "├─────────────────────────────────┼────────────────────────┼───────────────┤\n",
       "│ dropout (<span style=\"color: #0087ff; text-decoration-color: #0087ff\">Dropout</span>)               │ (<span style=\"color: #00d7ff; text-decoration-color: #00d7ff\">None</span>, <span style=\"color: #00af00; text-decoration-color: #00af00\">1024</span>)           │             <span style=\"color: #00af00; text-decoration-color: #00af00\">0</span> │\n",
       "├─────────────────────────────────┼────────────────────────┼───────────────┤\n",
       "│ dense_1 (<span style=\"color: #0087ff; text-decoration-color: #0087ff\">Dense</span>)                 │ (<span style=\"color: #00d7ff; text-decoration-color: #00d7ff\">None</span>, <span style=\"color: #00af00; text-decoration-color: #00af00\">512</span>)            │       <span style=\"color: #00af00; text-decoration-color: #00af00\">524,800</span> │\n",
       "├─────────────────────────────────┼────────────────────────┼───────────────┤\n",
       "│ batch_normalization_1           │ (<span style=\"color: #00d7ff; text-decoration-color: #00d7ff\">None</span>, <span style=\"color: #00af00; text-decoration-color: #00af00\">512</span>)            │         <span style=\"color: #00af00; text-decoration-color: #00af00\">2,048</span> │\n",
       "│ (<span style=\"color: #0087ff; text-decoration-color: #0087ff\">BatchNormalization</span>)            │                        │               │\n",
       "├─────────────────────────────────┼────────────────────────┼───────────────┤\n",
       "│ leaky_re_lu_1 (<span style=\"color: #0087ff; text-decoration-color: #0087ff\">LeakyReLU</span>)       │ (<span style=\"color: #00d7ff; text-decoration-color: #00d7ff\">None</span>, <span style=\"color: #00af00; text-decoration-color: #00af00\">512</span>)            │             <span style=\"color: #00af00; text-decoration-color: #00af00\">0</span> │\n",
       "├─────────────────────────────────┼────────────────────────┼───────────────┤\n",
       "│ dropout_1 (<span style=\"color: #0087ff; text-decoration-color: #0087ff\">Dropout</span>)             │ (<span style=\"color: #00d7ff; text-decoration-color: #00d7ff\">None</span>, <span style=\"color: #00af00; text-decoration-color: #00af00\">512</span>)            │             <span style=\"color: #00af00; text-decoration-color: #00af00\">0</span> │\n",
       "├─────────────────────────────────┼────────────────────────┼───────────────┤\n",
       "│ dense_2 (<span style=\"color: #0087ff; text-decoration-color: #0087ff\">Dense</span>)                 │ (<span style=\"color: #00d7ff; text-decoration-color: #00d7ff\">None</span>, <span style=\"color: #00af00; text-decoration-color: #00af00\">256</span>)            │       <span style=\"color: #00af00; text-decoration-color: #00af00\">131,328</span> │\n",
       "├─────────────────────────────────┼────────────────────────┼───────────────┤\n",
       "│ batch_normalization_2           │ (<span style=\"color: #00d7ff; text-decoration-color: #00d7ff\">None</span>, <span style=\"color: #00af00; text-decoration-color: #00af00\">256</span>)            │         <span style=\"color: #00af00; text-decoration-color: #00af00\">1,024</span> │\n",
       "│ (<span style=\"color: #0087ff; text-decoration-color: #0087ff\">BatchNormalization</span>)            │                        │               │\n",
       "├─────────────────────────────────┼────────────────────────┼───────────────┤\n",
       "│ leaky_re_lu_2 (<span style=\"color: #0087ff; text-decoration-color: #0087ff\">LeakyReLU</span>)       │ (<span style=\"color: #00d7ff; text-decoration-color: #00d7ff\">None</span>, <span style=\"color: #00af00; text-decoration-color: #00af00\">256</span>)            │             <span style=\"color: #00af00; text-decoration-color: #00af00\">0</span> │\n",
       "├─────────────────────────────────┼────────────────────────┼───────────────┤\n",
       "│ dropout_2 (<span style=\"color: #0087ff; text-decoration-color: #0087ff\">Dropout</span>)             │ (<span style=\"color: #00d7ff; text-decoration-color: #00d7ff\">None</span>, <span style=\"color: #00af00; text-decoration-color: #00af00\">256</span>)            │             <span style=\"color: #00af00; text-decoration-color: #00af00\">0</span> │\n",
       "├─────────────────────────────────┼────────────────────────┼───────────────┤\n",
       "│ dense_3 (<span style=\"color: #0087ff; text-decoration-color: #0087ff\">Dense</span>)                 │ (<span style=\"color: #00d7ff; text-decoration-color: #00d7ff\">None</span>, <span style=\"color: #00af00; text-decoration-color: #00af00\">13</span>)             │         <span style=\"color: #00af00; text-decoration-color: #00af00\">3,341</span> │\n",
       "└─────────────────────────────────┴────────────────────────┴───────────────┘\n",
       "</pre>\n"
      ],
      "text/plain": [
       "┏━━━━━━━━━━━━━━━━━━━━━━━━━━━━━━━━━┳━━━━━━━━━━━━━━━━━━━━━━━━┳━━━━━━━━━━━━━━━┓\n",
       "┃\u001b[1m \u001b[0m\u001b[1mLayer (type)                   \u001b[0m\u001b[1m \u001b[0m┃\u001b[1m \u001b[0m\u001b[1mOutput Shape          \u001b[0m\u001b[1m \u001b[0m┃\u001b[1m \u001b[0m\u001b[1m      Param #\u001b[0m\u001b[1m \u001b[0m┃\n",
       "┡━━━━━━━━━━━━━━━━━━━━━━━━━━━━━━━━━╇━━━━━━━━━━━━━━━━━━━━━━━━╇━━━━━━━━━━━━━━━┩\n",
       "│ rescaling (\u001b[38;5;33mRescaling\u001b[0m)           │ (\u001b[38;5;45mNone\u001b[0m, \u001b[38;5;34m224\u001b[0m, \u001b[38;5;34m224\u001b[0m, \u001b[38;5;34m3\u001b[0m)    │             \u001b[38;5;34m0\u001b[0m │\n",
       "├─────────────────────────────────┼────────────────────────┼───────────────┤\n",
       "│ flatten (\u001b[38;5;33mFlatten\u001b[0m)               │ (\u001b[38;5;45mNone\u001b[0m, \u001b[38;5;34m150528\u001b[0m)         │             \u001b[38;5;34m0\u001b[0m │\n",
       "├─────────────────────────────────┼────────────────────────┼───────────────┤\n",
       "│ dense (\u001b[38;5;33mDense\u001b[0m)                   │ (\u001b[38;5;45mNone\u001b[0m, \u001b[38;5;34m1024\u001b[0m)           │   \u001b[38;5;34m154,141,696\u001b[0m │\n",
       "├─────────────────────────────────┼────────────────────────┼───────────────┤\n",
       "│ batch_normalization             │ (\u001b[38;5;45mNone\u001b[0m, \u001b[38;5;34m1024\u001b[0m)           │         \u001b[38;5;34m4,096\u001b[0m │\n",
       "│ (\u001b[38;5;33mBatchNormalization\u001b[0m)            │                        │               │\n",
       "├─────────────────────────────────┼────────────────────────┼───────────────┤\n",
       "│ leaky_re_lu (\u001b[38;5;33mLeakyReLU\u001b[0m)         │ (\u001b[38;5;45mNone\u001b[0m, \u001b[38;5;34m1024\u001b[0m)           │             \u001b[38;5;34m0\u001b[0m │\n",
       "├─────────────────────────────────┼────────────────────────┼───────────────┤\n",
       "│ dropout (\u001b[38;5;33mDropout\u001b[0m)               │ (\u001b[38;5;45mNone\u001b[0m, \u001b[38;5;34m1024\u001b[0m)           │             \u001b[38;5;34m0\u001b[0m │\n",
       "├─────────────────────────────────┼────────────────────────┼───────────────┤\n",
       "│ dense_1 (\u001b[38;5;33mDense\u001b[0m)                 │ (\u001b[38;5;45mNone\u001b[0m, \u001b[38;5;34m512\u001b[0m)            │       \u001b[38;5;34m524,800\u001b[0m │\n",
       "├─────────────────────────────────┼────────────────────────┼───────────────┤\n",
       "│ batch_normalization_1           │ (\u001b[38;5;45mNone\u001b[0m, \u001b[38;5;34m512\u001b[0m)            │         \u001b[38;5;34m2,048\u001b[0m │\n",
       "│ (\u001b[38;5;33mBatchNormalization\u001b[0m)            │                        │               │\n",
       "├─────────────────────────────────┼────────────────────────┼───────────────┤\n",
       "│ leaky_re_lu_1 (\u001b[38;5;33mLeakyReLU\u001b[0m)       │ (\u001b[38;5;45mNone\u001b[0m, \u001b[38;5;34m512\u001b[0m)            │             \u001b[38;5;34m0\u001b[0m │\n",
       "├─────────────────────────────────┼────────────────────────┼───────────────┤\n",
       "│ dropout_1 (\u001b[38;5;33mDropout\u001b[0m)             │ (\u001b[38;5;45mNone\u001b[0m, \u001b[38;5;34m512\u001b[0m)            │             \u001b[38;5;34m0\u001b[0m │\n",
       "├─────────────────────────────────┼────────────────────────┼───────────────┤\n",
       "│ dense_2 (\u001b[38;5;33mDense\u001b[0m)                 │ (\u001b[38;5;45mNone\u001b[0m, \u001b[38;5;34m256\u001b[0m)            │       \u001b[38;5;34m131,328\u001b[0m │\n",
       "├─────────────────────────────────┼────────────────────────┼───────────────┤\n",
       "│ batch_normalization_2           │ (\u001b[38;5;45mNone\u001b[0m, \u001b[38;5;34m256\u001b[0m)            │         \u001b[38;5;34m1,024\u001b[0m │\n",
       "│ (\u001b[38;5;33mBatchNormalization\u001b[0m)            │                        │               │\n",
       "├─────────────────────────────────┼────────────────────────┼───────────────┤\n",
       "│ leaky_re_lu_2 (\u001b[38;5;33mLeakyReLU\u001b[0m)       │ (\u001b[38;5;45mNone\u001b[0m, \u001b[38;5;34m256\u001b[0m)            │             \u001b[38;5;34m0\u001b[0m │\n",
       "├─────────────────────────────────┼────────────────────────┼───────────────┤\n",
       "│ dropout_2 (\u001b[38;5;33mDropout\u001b[0m)             │ (\u001b[38;5;45mNone\u001b[0m, \u001b[38;5;34m256\u001b[0m)            │             \u001b[38;5;34m0\u001b[0m │\n",
       "├─────────────────────────────────┼────────────────────────┼───────────────┤\n",
       "│ dense_3 (\u001b[38;5;33mDense\u001b[0m)                 │ (\u001b[38;5;45mNone\u001b[0m, \u001b[38;5;34m13\u001b[0m)             │         \u001b[38;5;34m3,341\u001b[0m │\n",
       "└─────────────────────────────────┴────────────────────────┴───────────────┘\n"
      ]
     },
     "metadata": {},
     "output_type": "display_data"
    },
    {
     "data": {
      "text/html": [
       "<pre style=\"white-space:pre;overflow-x:auto;line-height:normal;font-family:Menlo,'DejaVu Sans Mono',consolas,'Courier New',monospace\"><span style=\"font-weight: bold\"> Total params: </span><span style=\"color: #00af00; text-decoration-color: #00af00\">154,808,333</span> (590.55 MB)\n",
       "</pre>\n"
      ],
      "text/plain": [
       "\u001b[1m Total params: \u001b[0m\u001b[38;5;34m154,808,333\u001b[0m (590.55 MB)\n"
      ]
     },
     "metadata": {},
     "output_type": "display_data"
    },
    {
     "data": {
      "text/html": [
       "<pre style=\"white-space:pre;overflow-x:auto;line-height:normal;font-family:Menlo,'DejaVu Sans Mono',consolas,'Courier New',monospace\"><span style=\"font-weight: bold\"> Trainable params: </span><span style=\"color: #00af00; text-decoration-color: #00af00\">154,804,749</span> (590.53 MB)\n",
       "</pre>\n"
      ],
      "text/plain": [
       "\u001b[1m Trainable params: \u001b[0m\u001b[38;5;34m154,804,749\u001b[0m (590.53 MB)\n"
      ]
     },
     "metadata": {},
     "output_type": "display_data"
    },
    {
     "data": {
      "text/html": [
       "<pre style=\"white-space:pre;overflow-x:auto;line-height:normal;font-family:Menlo,'DejaVu Sans Mono',consolas,'Courier New',monospace\"><span style=\"font-weight: bold\"> Non-trainable params: </span><span style=\"color: #00af00; text-decoration-color: #00af00\">3,584</span> (14.00 KB)\n",
       "</pre>\n"
      ],
      "text/plain": [
       "\u001b[1m Non-trainable params: \u001b[0m\u001b[38;5;34m3,584\u001b[0m (14.00 KB)\n"
      ]
     },
     "metadata": {},
     "output_type": "display_data"
    }
   ],
   "source": [
    "print('Compiling the model...')\n",
    "\n",
    "model = Sequential([\n",
    "    Input(shape=(224, 224, 3)), # 224x224 images with 3 channels (RGB)\n",
    "    Rescaling(1./255), # Rescale pixel values to [0, 1]\n",
    "    Flatten(), # Flatten the 3D tensor to 1D\n",
    "\n",
    "    Dense(1024, kernel_initializer='he_normal'),\n",
    "    BatchNormalization(),\n",
    "    LeakyReLU(negative_slope=0.1),\n",
    "    Dropout(0.2),\n",
    "    \n",
    "    Dense(512, kernel_initializer='he_normal'),\n",
    "    BatchNormalization(),\n",
    "    LeakyReLU(negative_slope=0.1),\n",
    "    Dropout(0.2),\n",
    "\n",
    "    Dense(256, kernel_initializer='he_normal'),\n",
    "    BatchNormalization(),\n",
    "    LeakyReLU(negative_slope=0.1),\n",
    "    Dropout(0.2),\n",
    "\n",
    "    Dense(NUM_CATEGORIES, activation='softmax') # Output layer with softmax activation\n",
    "])\n",
    "\n",
    "model.summary()\n",
    "\n",
    "\n",
    "opt =  AdamW(learning_rate=1e-4, beta_1=0.9, beta_2=0.999, epsilon=1e-8, amsgrad=True, clipnorm=1.0)\n",
    "model.compile(optimizer=opt, loss='categorical_focal_crossentropy', metrics=['accuracy'])"
   ]
  },
  {
   "cell_type": "code",
   "execution_count": 15,
   "id": "4086028a",
   "metadata": {
    "execution": {
     "iopub.execute_input": "2025-10-15T09:03:17.735397Z",
     "iopub.status.busy": "2025-10-15T09:03:17.734730Z",
     "iopub.status.idle": "2025-10-15T09:03:17.739851Z",
     "shell.execute_reply": "2025-10-15T09:03:17.739101Z"
    },
    "papermill": {
     "duration": 0.014734,
     "end_time": "2025-10-15T09:03:17.741138",
     "exception": false,
     "start_time": "2025-10-15T09:03:17.726404",
     "status": "completed"
    },
    "tags": []
   },
   "outputs": [],
   "source": [
    "# Callbacks\n",
    "MODEL_NAME = 'ffNN_model.keras'\n",
    "\n",
    "model_checkpoint = ModelCheckpoint(MODEL_NAME, monitor='val_accuracy', verbose=1, save_best_only=True)\n",
    "reduce_lr = ReduceLROnPlateau(monitor='val_accuracy', factor=0.1, patience=10, verbose=1)\n",
    "early_stop = EarlyStopping(monitor='val_accuracy', patience=40, verbose=1)\n",
    "terminate = TerminateOnNaN()\n",
    "callbacks = [model_checkpoint, reduce_lr, early_stop, terminate]"
   ]
  },
  {
   "cell_type": "code",
   "execution_count": 16,
   "id": "77f1674b",
   "metadata": {
    "execution": {
     "iopub.execute_input": "2025-10-15T09:03:17.757286Z",
     "iopub.status.busy": "2025-10-15T09:03:17.756466Z",
     "iopub.status.idle": "2025-10-15T09:03:17.779389Z",
     "shell.execute_reply": "2025-10-15T09:03:17.778733Z"
    },
    "papermill": {
     "duration": 0.032129,
     "end_time": "2025-10-15T09:03:17.780750",
     "exception": false,
     "start_time": "2025-10-15T09:03:17.748621",
     "status": "completed"
    },
    "tags": []
   },
   "outputs": [],
   "source": [
    "# Generate the list of objects from annotations\n",
    "objs_train = [(ann.filename, obj) for ann in train2 for obj in ann.objects]\n",
    "objs_valid = [(ann.filename, obj) for ann in val2 for obj in ann.objects]\n",
    "\n",
    "# Generators\n",
    "BATCH_SIZE = 16\n",
    "train_generator = generator_images(objs_train, BATCH_SIZE, do_shuffle=True)\n",
    "valid_generator = generator_images(objs_valid, BATCH_SIZE, do_shuffle=False)"
   ]
  },
  {
   "cell_type": "markdown",
   "id": "07d0405f",
   "metadata": {
    "papermill": {
     "duration": 0.006815,
     "end_time": "2025-10-15T09:03:17.795214",
     "exception": false,
     "start_time": "2025-10-15T09:03:17.788399",
     "status": "completed"
    },
    "tags": []
   },
   "source": [
    "### 1.2 Training"
   ]
  },
  {
   "cell_type": "code",
   "execution_count": 17,
   "id": "21008c81",
   "metadata": {
    "execution": {
     "iopub.execute_input": "2025-10-15T09:03:17.819509Z",
     "iopub.status.busy": "2025-10-15T09:03:17.818953Z",
     "iopub.status.idle": "2025-10-15T10:47:12.145658Z",
     "shell.execute_reply": "2025-10-15T10:47:12.144683Z"
    },
    "papermill": {
     "duration": 6234.34475,
     "end_time": "2025-10-15T10:47:12.147114",
     "exception": false,
     "start_time": "2025-10-15T09:03:17.802364",
     "status": "completed"
    },
    "tags": []
   },
   "outputs": [
    {
     "name": "stdout",
     "output_type": "stream",
     "text": [
      "Training model...\n",
      "Epoch 1/40\n"
     ]
    },
    {
     "name": "stderr",
     "output_type": "stream",
     "text": [
      "WARNING: All log messages before absl::InitializeLog() is called are written to STDERR\n",
      "I0000 00:00:1760519007.596173      66 service.cc:148] XLA service 0x7ec9c000a0d0 initialized for platform CUDA (this does not guarantee that XLA will be used). Devices:\n",
      "I0000 00:00:1760519007.597874      66 service.cc:156]   StreamExecutor device (0): Tesla T4, Compute Capability 7.5\n",
      "I0000 00:00:1760519007.597897      66 service.cc:156]   StreamExecutor device (1): Tesla T4, Compute Capability 7.5\n",
      "I0000 00:00:1760519008.301519      66 cuda_dnn.cc:529] Loaded cuDNN version 90300\n"
     ]
    },
    {
     "name": "stdout",
     "output_type": "stream",
     "text": [
      "\u001b[1m   1/1055\u001b[0m \u001b[37m━━━━━━━━━━━━━━━━━━━━\u001b[0m \u001b[1m3:29:13\u001b[0m 12s/step - accuracy: 0.1250 - loss: 0.7721"
     ]
    },
    {
     "name": "stderr",
     "output_type": "stream",
     "text": [
      "I0000 00:00:1760519013.112831      66 device_compiler.h:188] Compiled cluster using XLA!  This line is logged at most once for the lifetime of the process.\n"
     ]
    },
    {
     "name": "stdout",
     "output_type": "stream",
     "text": [
      "\u001b[1m1055/1055\u001b[0m \u001b[32m━━━━━━━━━━━━━━━━━━━━\u001b[0m\u001b[37m\u001b[0m \u001b[1m0s\u001b[0m 1s/step - accuracy: 0.2802 - loss: 0.4461\n",
      "Epoch 1: val_accuracy improved from -inf to 0.42613, saving model to ffNN_model.keras\n",
      "\u001b[1m1055/1055\u001b[0m \u001b[32m━━━━━━━━━━━━━━━━━━━━\u001b[0m\u001b[37m\u001b[0m \u001b[1m1354s\u001b[0m 1s/step - accuracy: 0.2803 - loss: 0.4461 - val_accuracy: 0.4261 - val_loss: 0.3016 - learning_rate: 1.0000e-04\n",
      "Epoch 2/40\n",
      "\u001b[1m1054/1055\u001b[0m \u001b[32m━━━━━━━━━━━━━━━━━━━\u001b[0m\u001b[37m━\u001b[0m \u001b[1m0s\u001b[0m 99ms/step - accuracy: 0.3834 - loss: 0.3310\n",
      "Epoch 2: val_accuracy improved from 0.42613 to 0.46720, saving model to ffNN_model.keras\n",
      "\u001b[1m1055/1055\u001b[0m \u001b[32m━━━━━━━━━━━━━━━━━━━━\u001b[0m\u001b[37m\u001b[0m \u001b[1m127s\u001b[0m 121ms/step - accuracy: 0.3834 - loss: 0.3310 - val_accuracy: 0.4672 - val_loss: 0.2746 - learning_rate: 1.0000e-04\n",
      "Epoch 3/40\n",
      "\u001b[1m1054/1055\u001b[0m \u001b[32m━━━━━━━━━━━━━━━━━━━\u001b[0m\u001b[37m━\u001b[0m \u001b[1m0s\u001b[0m 90ms/step - accuracy: 0.4143 - loss: 0.3035\n",
      "Epoch 3: val_accuracy improved from 0.46720 to 0.48693, saving model to ffNN_model.keras\n",
      "\u001b[1m1055/1055\u001b[0m \u001b[32m━━━━━━━━━━━━━━━━━━━━\u001b[0m\u001b[37m\u001b[0m \u001b[1m119s\u001b[0m 113ms/step - accuracy: 0.4143 - loss: 0.3035 - val_accuracy: 0.4869 - val_loss: 0.2616 - learning_rate: 1.0000e-04\n",
      "Epoch 4/40\n",
      "\u001b[1m1054/1055\u001b[0m \u001b[32m━━━━━━━━━━━━━━━━━━━\u001b[0m\u001b[37m━\u001b[0m \u001b[1m0s\u001b[0m 92ms/step - accuracy: 0.4304 - loss: 0.2916\n",
      "Epoch 4: val_accuracy improved from 0.48693 to 0.49813, saving model to ffNN_model.keras\n",
      "\u001b[1m1055/1055\u001b[0m \u001b[32m━━━━━━━━━━━━━━━━━━━━\u001b[0m\u001b[37m\u001b[0m \u001b[1m122s\u001b[0m 116ms/step - accuracy: 0.4304 - loss: 0.2916 - val_accuracy: 0.4981 - val_loss: 0.2470 - learning_rate: 1.0000e-04\n",
      "Epoch 5/40\n",
      "\u001b[1m1054/1055\u001b[0m \u001b[32m━━━━━━━━━━━━━━━━━━━\u001b[0m\u001b[37m━\u001b[0m \u001b[1m0s\u001b[0m 92ms/step - accuracy: 0.4625 - loss: 0.2696\n",
      "Epoch 5: val_accuracy improved from 0.49813 to 0.50560, saving model to ffNN_model.keras\n",
      "\u001b[1m1055/1055\u001b[0m \u001b[32m━━━━━━━━━━━━━━━━━━━━\u001b[0m\u001b[37m\u001b[0m \u001b[1m122s\u001b[0m 116ms/step - accuracy: 0.4625 - loss: 0.2696 - val_accuracy: 0.5056 - val_loss: 0.2419 - learning_rate: 1.0000e-04\n",
      "Epoch 6/40\n",
      "\u001b[1m1054/1055\u001b[0m \u001b[32m━━━━━━━━━━━━━━━━━━━\u001b[0m\u001b[37m━\u001b[0m \u001b[1m0s\u001b[0m 91ms/step - accuracy: 0.4703 - loss: 0.2643\n",
      "Epoch 6: val_accuracy improved from 0.50560 to 0.53227, saving model to ffNN_model.keras\n",
      "\u001b[1m1055/1055\u001b[0m \u001b[32m━━━━━━━━━━━━━━━━━━━━\u001b[0m\u001b[37m\u001b[0m \u001b[1m121s\u001b[0m 115ms/step - accuracy: 0.4703 - loss: 0.2643 - val_accuracy: 0.5323 - val_loss: 0.2301 - learning_rate: 1.0000e-04\n",
      "Epoch 7/40\n",
      "\u001b[1m1054/1055\u001b[0m \u001b[32m━━━━━━━━━━━━━━━━━━━\u001b[0m\u001b[37m━\u001b[0m \u001b[1m0s\u001b[0m 84ms/step - accuracy: 0.4851 - loss: 0.2532\n",
      "Epoch 7: val_accuracy did not improve from 0.53227\n",
      "\u001b[1m1055/1055\u001b[0m \u001b[32m━━━━━━━━━━━━━━━━━━━━\u001b[0m\u001b[37m\u001b[0m \u001b[1m103s\u001b[0m 98ms/step - accuracy: 0.4851 - loss: 0.2532 - val_accuracy: 0.5221 - val_loss: 0.2351 - learning_rate: 1.0000e-04\n",
      "Epoch 8/40\n",
      "\u001b[1m1054/1055\u001b[0m \u001b[32m━━━━━━━━━━━━━━━━━━━\u001b[0m\u001b[37m━\u001b[0m \u001b[1m0s\u001b[0m 81ms/step - accuracy: 0.4883 - loss: 0.2504\n",
      "Epoch 8: val_accuracy did not improve from 0.53227\n",
      "\u001b[1m1055/1055\u001b[0m \u001b[32m━━━━━━━━━━━━━━━━━━━━\u001b[0m\u001b[37m\u001b[0m \u001b[1m98s\u001b[0m 93ms/step - accuracy: 0.4883 - loss: 0.2504 - val_accuracy: 0.5280 - val_loss: 0.2324 - learning_rate: 1.0000e-04\n",
      "Epoch 9/40\n",
      "\u001b[1m1054/1055\u001b[0m \u001b[32m━━━━━━━━━━━━━━━━━━━\u001b[0m\u001b[37m━\u001b[0m \u001b[1m0s\u001b[0m 80ms/step - accuracy: 0.5196 - loss: 0.2370\n",
      "Epoch 9: val_accuracy did not improve from 0.53227\n",
      "\u001b[1m1055/1055\u001b[0m \u001b[32m━━━━━━━━━━━━━━━━━━━━\u001b[0m\u001b[37m\u001b[0m \u001b[1m98s\u001b[0m 93ms/step - accuracy: 0.5196 - loss: 0.2370 - val_accuracy: 0.5179 - val_loss: 0.2334 - learning_rate: 1.0000e-04\n",
      "Epoch 10/40\n",
      "\u001b[1m1054/1055\u001b[0m \u001b[32m━━━━━━━━━━━━━━━━━━━\u001b[0m\u001b[37m━\u001b[0m \u001b[1m0s\u001b[0m 82ms/step - accuracy: 0.5158 - loss: 0.2320\n",
      "Epoch 10: val_accuracy improved from 0.53227 to 0.55307, saving model to ffNN_model.keras\n",
      "\u001b[1m1055/1055\u001b[0m \u001b[32m━━━━━━━━━━━━━━━━━━━━\u001b[0m\u001b[37m\u001b[0m \u001b[1m114s\u001b[0m 108ms/step - accuracy: 0.5158 - loss: 0.2320 - val_accuracy: 0.5531 - val_loss: 0.2174 - learning_rate: 1.0000e-04\n",
      "Epoch 11/40\n",
      "\u001b[1m1054/1055\u001b[0m \u001b[32m━━━━━━━━━━━━━━━━━━━\u001b[0m\u001b[37m━\u001b[0m \u001b[1m0s\u001b[0m 80ms/step - accuracy: 0.5248 - loss: 0.2285\n",
      "Epoch 11: val_accuracy improved from 0.55307 to 0.55787, saving model to ffNN_model.keras\n",
      "\u001b[1m1055/1055\u001b[0m \u001b[32m━━━━━━━━━━━━━━━━━━━━\u001b[0m\u001b[37m\u001b[0m \u001b[1m112s\u001b[0m 106ms/step - accuracy: 0.5248 - loss: 0.2285 - val_accuracy: 0.5579 - val_loss: 0.2148 - learning_rate: 1.0000e-04\n",
      "Epoch 12/40\n",
      "\u001b[1m1055/1055\u001b[0m \u001b[32m━━━━━━━━━━━━━━━━━━━━\u001b[0m\u001b[37m\u001b[0m \u001b[1m0s\u001b[0m 182ms/step - accuracy: 0.5221 - loss: 0.2276\n",
      "Epoch 12: val_accuracy did not improve from 0.55787\n",
      "\u001b[1m1055/1055\u001b[0m \u001b[32m━━━━━━━━━━━━━━━━━━━━\u001b[0m\u001b[37m\u001b[0m \u001b[1m210s\u001b[0m 199ms/step - accuracy: 0.5221 - loss: 0.2276 - val_accuracy: 0.5509 - val_loss: 0.2190 - learning_rate: 1.0000e-04\n",
      "Epoch 13/40\n",
      "\u001b[1m1055/1055\u001b[0m \u001b[32m━━━━━━━━━━━━━━━━━━━━\u001b[0m\u001b[37m\u001b[0m \u001b[1m0s\u001b[0m 104ms/step - accuracy: 0.5414 - loss: 0.2202\n",
      "Epoch 13: val_accuracy improved from 0.55787 to 0.55840, saving model to ffNN_model.keras\n",
      "\u001b[1m1055/1055\u001b[0m \u001b[32m━━━━━━━━━━━━━━━━━━━━\u001b[0m\u001b[37m\u001b[0m \u001b[1m137s\u001b[0m 130ms/step - accuracy: 0.5414 - loss: 0.2202 - val_accuracy: 0.5584 - val_loss: 0.2196 - learning_rate: 1.0000e-04\n",
      "Epoch 14/40\n",
      "\u001b[1m1055/1055\u001b[0m \u001b[32m━━━━━━━━━━━━━━━━━━━━\u001b[0m\u001b[37m\u001b[0m \u001b[1m0s\u001b[0m 145ms/step - accuracy: 0.5436 - loss: 0.2140\n",
      "Epoch 14: val_accuracy did not improve from 0.55840\n",
      "\u001b[1m1055/1055\u001b[0m \u001b[32m━━━━━━━━━━━━━━━━━━━━\u001b[0m\u001b[37m\u001b[0m \u001b[1m168s\u001b[0m 159ms/step - accuracy: 0.5436 - loss: 0.2140 - val_accuracy: 0.5520 - val_loss: 0.2190 - learning_rate: 1.0000e-04\n",
      "Epoch 15/40\n",
      "\u001b[1m1054/1055\u001b[0m \u001b[32m━━━━━━━━━━━━━━━━━━━\u001b[0m\u001b[37m━\u001b[0m \u001b[1m0s\u001b[0m 90ms/step - accuracy: 0.5543 - loss: 0.2102\n",
      "Epoch 15: val_accuracy improved from 0.55840 to 0.58187, saving model to ffNN_model.keras\n",
      "\u001b[1m1055/1055\u001b[0m \u001b[32m━━━━━━━━━━━━━━━━━━━━\u001b[0m\u001b[37m\u001b[0m \u001b[1m122s\u001b[0m 116ms/step - accuracy: 0.5543 - loss: 0.2102 - val_accuracy: 0.5819 - val_loss: 0.2119 - learning_rate: 1.0000e-04\n",
      "Epoch 16/40\n",
      "\u001b[1m1054/1055\u001b[0m \u001b[32m━━━━━━━━━━━━━━━━━━━\u001b[0m\u001b[37m━\u001b[0m \u001b[1m0s\u001b[0m 140ms/step - accuracy: 0.5629 - loss: 0.2056\n",
      "Epoch 16: val_accuracy did not improve from 0.58187\n",
      "\u001b[1m1055/1055\u001b[0m \u001b[32m━━━━━━━━━━━━━━━━━━━━\u001b[0m\u001b[37m\u001b[0m \u001b[1m163s\u001b[0m 154ms/step - accuracy: 0.5629 - loss: 0.2056 - val_accuracy: 0.5739 - val_loss: 0.2109 - learning_rate: 1.0000e-04\n",
      "Epoch 17/40\n",
      "\u001b[1m1054/1055\u001b[0m \u001b[32m━━━━━━━━━━━━━━━━━━━\u001b[0m\u001b[37m━\u001b[0m \u001b[1m0s\u001b[0m 94ms/step - accuracy: 0.5619 - loss: 0.2067\n",
      "Epoch 17: val_accuracy did not improve from 0.58187\n",
      "\u001b[1m1055/1055\u001b[0m \u001b[32m━━━━━━━━━━━━━━━━━━━━\u001b[0m\u001b[37m\u001b[0m \u001b[1m112s\u001b[0m 106ms/step - accuracy: 0.5619 - loss: 0.2067 - val_accuracy: 0.5760 - val_loss: 0.2089 - learning_rate: 1.0000e-04\n",
      "Epoch 18/40\n",
      "\u001b[1m1054/1055\u001b[0m \u001b[32m━━━━━━━━━━━━━━━━━━━\u001b[0m\u001b[37m━\u001b[0m \u001b[1m0s\u001b[0m 73ms/step - accuracy: 0.5665 - loss: 0.2029\n",
      "Epoch 18: val_accuracy did not improve from 0.58187\n",
      "\u001b[1m1055/1055\u001b[0m \u001b[32m━━━━━━━━━━━━━━━━━━━━\u001b[0m\u001b[37m\u001b[0m \u001b[1m90s\u001b[0m 85ms/step - accuracy: 0.5665 - loss: 0.2029 - val_accuracy: 0.5621 - val_loss: 0.2139 - learning_rate: 1.0000e-04\n",
      "Epoch 19/40\n",
      "\u001b[1m1054/1055\u001b[0m \u001b[32m━━━━━━━━━━━━━━━━━━━\u001b[0m\u001b[37m━\u001b[0m \u001b[1m0s\u001b[0m 73ms/step - accuracy: 0.5745 - loss: 0.1955\n",
      "Epoch 19: val_accuracy did not improve from 0.58187\n",
      "\u001b[1m1055/1055\u001b[0m \u001b[32m━━━━━━━━━━━━━━━━━━━━\u001b[0m\u001b[37m\u001b[0m \u001b[1m90s\u001b[0m 86ms/step - accuracy: 0.5745 - loss: 0.1955 - val_accuracy: 0.5605 - val_loss: 0.2156 - learning_rate: 1.0000e-04\n",
      "Epoch 20/40\n",
      "\u001b[1m1054/1055\u001b[0m \u001b[32m━━━━━━━━━━━━━━━━━━━\u001b[0m\u001b[37m━\u001b[0m \u001b[1m0s\u001b[0m 76ms/step - accuracy: 0.5789 - loss: 0.1958\n",
      "Epoch 20: val_accuracy did not improve from 0.58187\n",
      "\u001b[1m1055/1055\u001b[0m \u001b[32m━━━━━━━━━━━━━━━━━━━━\u001b[0m\u001b[37m\u001b[0m \u001b[1m93s\u001b[0m 89ms/step - accuracy: 0.5789 - loss: 0.1958 - val_accuracy: 0.5509 - val_loss: 0.2154 - learning_rate: 1.0000e-04\n",
      "Epoch 21/40\n",
      "\u001b[1m1054/1055\u001b[0m \u001b[32m━━━━━━━━━━━━━━━━━━━\u001b[0m\u001b[37m━\u001b[0m \u001b[1m0s\u001b[0m 74ms/step - accuracy: 0.5885 - loss: 0.1913\n",
      "Epoch 21: val_accuracy did not improve from 0.58187\n",
      "\u001b[1m1055/1055\u001b[0m \u001b[32m━━━━━━━━━━━━━━━━━━━━\u001b[0m\u001b[37m\u001b[0m \u001b[1m91s\u001b[0m 86ms/step - accuracy: 0.5885 - loss: 0.1913 - val_accuracy: 0.5584 - val_loss: 0.2123 - learning_rate: 1.0000e-04\n",
      "Epoch 22/40\n",
      "\u001b[1m1054/1055\u001b[0m \u001b[32m━━━━━━━━━━━━━━━━━━━\u001b[0m\u001b[37m━\u001b[0m \u001b[1m0s\u001b[0m 74ms/step - accuracy: 0.5895 - loss: 0.1884\n",
      "Epoch 22: val_accuracy did not improve from 0.58187\n",
      "\u001b[1m1055/1055\u001b[0m \u001b[32m━━━━━━━━━━━━━━━━━━━━\u001b[0m\u001b[37m\u001b[0m \u001b[1m90s\u001b[0m 86ms/step - accuracy: 0.5895 - loss: 0.1884 - val_accuracy: 0.5557 - val_loss: 0.2167 - learning_rate: 1.0000e-04\n",
      "Epoch 23/40\n",
      "\u001b[1m1054/1055\u001b[0m \u001b[32m━━━━━━━━━━━━━━━━━━━\u001b[0m\u001b[37m━\u001b[0m \u001b[1m0s\u001b[0m 74ms/step - accuracy: 0.5877 - loss: 0.1855\n",
      "Epoch 23: val_accuracy did not improve from 0.58187\n",
      "\u001b[1m1055/1055\u001b[0m \u001b[32m━━━━━━━━━━━━━━━━━━━━\u001b[0m\u001b[37m\u001b[0m \u001b[1m91s\u001b[0m 87ms/step - accuracy: 0.5877 - loss: 0.1855 - val_accuracy: 0.5536 - val_loss: 0.2158 - learning_rate: 1.0000e-04\n",
      "Epoch 24/40\n",
      "\u001b[1m1054/1055\u001b[0m \u001b[32m━━━━━━━━━━━━━━━━━━━\u001b[0m\u001b[37m━\u001b[0m \u001b[1m0s\u001b[0m 75ms/step - accuracy: 0.5913 - loss: 0.1865\n",
      "Epoch 24: val_accuracy did not improve from 0.58187\n",
      "\u001b[1m1055/1055\u001b[0m \u001b[32m━━━━━━━━━━━━━━━━━━━━\u001b[0m\u001b[37m\u001b[0m \u001b[1m92s\u001b[0m 87ms/step - accuracy: 0.5913 - loss: 0.1865 - val_accuracy: 0.5808 - val_loss: 0.2024 - learning_rate: 1.0000e-04\n",
      "Epoch 25/40\n",
      "\u001b[1m1054/1055\u001b[0m \u001b[32m━━━━━━━━━━━━━━━━━━━\u001b[0m\u001b[37m━\u001b[0m \u001b[1m0s\u001b[0m 74ms/step - accuracy: 0.6030 - loss: 0.1810\n",
      "Epoch 25: val_accuracy did not improve from 0.58187\n",
      "\n",
      "Epoch 25: ReduceLROnPlateau reducing learning rate to 9.999999747378752e-06.\n",
      "\u001b[1m1055/1055\u001b[0m \u001b[32m━━━━━━━━━━━━━━━━━━━━\u001b[0m\u001b[37m\u001b[0m \u001b[1m91s\u001b[0m 86ms/step - accuracy: 0.6029 - loss: 0.1810 - val_accuracy: 0.5787 - val_loss: 0.2015 - learning_rate: 1.0000e-04\n",
      "Epoch 26/40\n",
      "\u001b[1m1054/1055\u001b[0m \u001b[32m━━━━━━━━━━━━━━━━━━━\u001b[0m\u001b[37m━\u001b[0m \u001b[1m0s\u001b[0m 73ms/step - accuracy: 0.6111 - loss: 0.1767\n",
      "Epoch 26: val_accuracy improved from 0.58187 to 0.60053, saving model to ffNN_model.keras\n",
      "\u001b[1m1055/1055\u001b[0m \u001b[32m━━━━━━━━━━━━━━━━━━━━\u001b[0m\u001b[37m\u001b[0m \u001b[1m103s\u001b[0m 98ms/step - accuracy: 0.6111 - loss: 0.1767 - val_accuracy: 0.6005 - val_loss: 0.1907 - learning_rate: 1.0000e-05\n",
      "Epoch 27/40\n",
      "\u001b[1m1054/1055\u001b[0m \u001b[32m━━━━━━━━━━━━━━━━━━━\u001b[0m\u001b[37m━\u001b[0m \u001b[1m0s\u001b[0m 168ms/step - accuracy: 0.6219 - loss: 0.1677\n",
      "Epoch 27: val_accuracy improved from 0.60053 to 0.60320, saving model to ffNN_model.keras\n",
      "\u001b[1m1055/1055\u001b[0m \u001b[32m━━━━━━━━━━━━━━━━━━━━\u001b[0m\u001b[37m\u001b[0m \u001b[1m206s\u001b[0m 196ms/step - accuracy: 0.6219 - loss: 0.1677 - val_accuracy: 0.6032 - val_loss: 0.1904 - learning_rate: 1.0000e-05\n",
      "Epoch 28/40\n",
      "\u001b[1m1055/1055\u001b[0m \u001b[32m━━━━━━━━━━━━━━━━━━━━\u001b[0m\u001b[37m\u001b[0m \u001b[1m0s\u001b[0m 220ms/step - accuracy: 0.6296 - loss: 0.1666\n",
      "Epoch 28: val_accuracy did not improve from 0.60320\n",
      "\u001b[1m1055/1055\u001b[0m \u001b[32m━━━━━━━━━━━━━━━━━━━━\u001b[0m\u001b[37m\u001b[0m \u001b[1m248s\u001b[0m 235ms/step - accuracy: 0.6296 - loss: 0.1666 - val_accuracy: 0.6021 - val_loss: 0.1919 - learning_rate: 1.0000e-05\n",
      "Epoch 29/40\n",
      "\u001b[1m1054/1055\u001b[0m \u001b[32m━━━━━━━━━━━━━━━━━━━\u001b[0m\u001b[37m━\u001b[0m \u001b[1m0s\u001b[0m 101ms/step - accuracy: 0.6272 - loss: 0.1640\n",
      "Epoch 29: val_accuracy improved from 0.60320 to 0.61173, saving model to ffNN_model.keras\n",
      "\u001b[1m1055/1055\u001b[0m \u001b[32m━━━━━━━━━━━━━━━━━━━━\u001b[0m\u001b[37m\u001b[0m \u001b[1m135s\u001b[0m 128ms/step - accuracy: 0.6272 - loss: 0.1640 - val_accuracy: 0.6117 - val_loss: 0.1857 - learning_rate: 1.0000e-05\n",
      "Epoch 30/40\n",
      "\u001b[1m1055/1055\u001b[0m \u001b[32m━━━━━━━━━━━━━━━━━━━━\u001b[0m\u001b[37m\u001b[0m \u001b[1m0s\u001b[0m 224ms/step - accuracy: 0.6376 - loss: 0.1640\n",
      "Epoch 30: val_accuracy did not improve from 0.61173\n",
      "\u001b[1m1055/1055\u001b[0m \u001b[32m━━━━━━━━━━━━━━━━━━━━\u001b[0m\u001b[37m\u001b[0m \u001b[1m253s\u001b[0m 240ms/step - accuracy: 0.6376 - loss: 0.1640 - val_accuracy: 0.6080 - val_loss: 0.1873 - learning_rate: 1.0000e-05\n",
      "Epoch 31/40\n",
      "\u001b[1m1054/1055\u001b[0m \u001b[32m━━━━━━━━━━━━━━━━━━━\u001b[0m\u001b[37m━\u001b[0m \u001b[1m0s\u001b[0m 100ms/step - accuracy: 0.6395 - loss: 0.1598\n",
      "Epoch 31: val_accuracy improved from 0.61173 to 0.61653, saving model to ffNN_model.keras\n",
      "\u001b[1m1055/1055\u001b[0m \u001b[32m━━━━━━━━━━━━━━━━━━━━\u001b[0m\u001b[37m\u001b[0m \u001b[1m132s\u001b[0m 125ms/step - accuracy: 0.6395 - loss: 0.1598 - val_accuracy: 0.6165 - val_loss: 0.1872 - learning_rate: 1.0000e-05\n",
      "Epoch 32/40\n",
      "\u001b[1m1054/1055\u001b[0m \u001b[32m━━━━━━━━━━━━━━━━━━━\u001b[0m\u001b[37m━\u001b[0m \u001b[1m0s\u001b[0m 133ms/step - accuracy: 0.6430 - loss: 0.1582\n",
      "Epoch 32: val_accuracy did not improve from 0.61653\n",
      "\u001b[1m1055/1055\u001b[0m \u001b[32m━━━━━━━━━━━━━━━━━━━━\u001b[0m\u001b[37m\u001b[0m \u001b[1m229s\u001b[0m 217ms/step - accuracy: 0.6430 - loss: 0.1582 - val_accuracy: 0.6128 - val_loss: 0.1889 - learning_rate: 1.0000e-05\n",
      "Epoch 33/40\n",
      "\u001b[1m1054/1055\u001b[0m \u001b[32m━━━━━━━━━━━━━━━━━━━\u001b[0m\u001b[37m━\u001b[0m \u001b[1m0s\u001b[0m 89ms/step - accuracy: 0.6436 - loss: 0.1601\n",
      "Epoch 33: val_accuracy did not improve from 0.61653\n",
      "\u001b[1m1055/1055\u001b[0m \u001b[32m━━━━━━━━━━━━━━━━━━━━\u001b[0m\u001b[37m\u001b[0m \u001b[1m107s\u001b[0m 102ms/step - accuracy: 0.6436 - loss: 0.1601 - val_accuracy: 0.6053 - val_loss: 0.1855 - learning_rate: 1.0000e-05\n",
      "Epoch 34/40\n",
      "\u001b[1m1054/1055\u001b[0m \u001b[32m━━━━━━━━━━━━━━━━━━━\u001b[0m\u001b[37m━\u001b[0m \u001b[1m0s\u001b[0m 76ms/step - accuracy: 0.6407 - loss: 0.1583\n",
      "Epoch 34: val_accuracy did not improve from 0.61653\n",
      "\u001b[1m1055/1055\u001b[0m \u001b[32m━━━━━━━━━━━━━━━━━━━━\u001b[0m\u001b[37m\u001b[0m \u001b[1m93s\u001b[0m 88ms/step - accuracy: 0.6407 - loss: 0.1583 - val_accuracy: 0.6107 - val_loss: 0.1887 - learning_rate: 1.0000e-05\n",
      "Epoch 35/40\n",
      "\u001b[1m1054/1055\u001b[0m \u001b[32m━━━━━━━━━━━━━━━━━━━\u001b[0m\u001b[37m━\u001b[0m \u001b[1m0s\u001b[0m 78ms/step - accuracy: 0.6482 - loss: 0.1565\n",
      "Epoch 35: val_accuracy did not improve from 0.61653\n",
      "\u001b[1m1055/1055\u001b[0m \u001b[32m━━━━━━━━━━━━━━━━━━━━\u001b[0m\u001b[37m\u001b[0m \u001b[1m104s\u001b[0m 98ms/step - accuracy: 0.6482 - loss: 0.1565 - val_accuracy: 0.6149 - val_loss: 0.1850 - learning_rate: 1.0000e-05\n",
      "Epoch 36/40\n",
      "\u001b[1m1054/1055\u001b[0m \u001b[32m━━━━━━━━━━━━━━━━━━━\u001b[0m\u001b[37m━\u001b[0m \u001b[1m0s\u001b[0m 82ms/step - accuracy: 0.6474 - loss: 0.1584\n",
      "Epoch 36: val_accuracy did not improve from 0.61653\n",
      "\u001b[1m1055/1055\u001b[0m \u001b[32m━━━━━━━━━━━━━━━━━━━━\u001b[0m\u001b[37m\u001b[0m \u001b[1m100s\u001b[0m 95ms/step - accuracy: 0.6474 - loss: 0.1584 - val_accuracy: 0.6096 - val_loss: 0.1899 - learning_rate: 1.0000e-05\n",
      "Epoch 37/40\n",
      "\u001b[1m1054/1055\u001b[0m \u001b[32m━━━━━━━━━━━━━━━━━━━\u001b[0m\u001b[37m━\u001b[0m \u001b[1m0s\u001b[0m 77ms/step - accuracy: 0.6399 - loss: 0.1585\n",
      "Epoch 37: val_accuracy did not improve from 0.61653\n",
      "\u001b[1m1055/1055\u001b[0m \u001b[32m━━━━━━━━━━━━━━━━━━━━\u001b[0m\u001b[37m\u001b[0m \u001b[1m94s\u001b[0m 89ms/step - accuracy: 0.6399 - loss: 0.1585 - val_accuracy: 0.6048 - val_loss: 0.1868 - learning_rate: 1.0000e-05\n",
      "Epoch 38/40\n",
      "\u001b[1m1055/1055\u001b[0m \u001b[32m━━━━━━━━━━━━━━━━━━━━\u001b[0m\u001b[37m\u001b[0m \u001b[1m0s\u001b[0m 81ms/step - accuracy: 0.6369 - loss: 0.1588\n",
      "Epoch 38: val_accuracy did not improve from 0.61653\n",
      "\u001b[1m1055/1055\u001b[0m \u001b[32m━━━━━━━━━━━━━━━━━━━━\u001b[0m\u001b[37m\u001b[0m \u001b[1m99s\u001b[0m 94ms/step - accuracy: 0.6369 - loss: 0.1588 - val_accuracy: 0.6080 - val_loss: 0.1890 - learning_rate: 1.0000e-05\n",
      "Epoch 39/40\n",
      "\u001b[1m1054/1055\u001b[0m \u001b[32m━━━━━━━━━━━━━━━━━━━\u001b[0m\u001b[37m━\u001b[0m \u001b[1m0s\u001b[0m 81ms/step - accuracy: 0.6519 - loss: 0.1555\n",
      "Epoch 39: val_accuracy did not improve from 0.61653\n",
      "\u001b[1m1055/1055\u001b[0m \u001b[32m━━━━━━━━━━━━━━━━━━━━\u001b[0m\u001b[37m\u001b[0m \u001b[1m98s\u001b[0m 93ms/step - accuracy: 0.6519 - loss: 0.1555 - val_accuracy: 0.6139 - val_loss: 0.1846 - learning_rate: 1.0000e-05\n",
      "Epoch 40/40\n",
      "\u001b[1m1054/1055\u001b[0m \u001b[32m━━━━━━━━━━━━━━━━━━━\u001b[0m\u001b[37m━\u001b[0m \u001b[1m0s\u001b[0m 79ms/step - accuracy: 0.6475 - loss: 0.1578\n",
      "Epoch 40: val_accuracy did not improve from 0.61653\n",
      "\u001b[1m1055/1055\u001b[0m \u001b[32m━━━━━━━━━━━━━━━━━━━━\u001b[0m\u001b[37m\u001b[0m \u001b[1m96s\u001b[0m 91ms/step - accuracy: 0.6475 - loss: 0.1578 - val_accuracy: 0.6133 - val_loss: 0.1849 - learning_rate: 1.0000e-05\n",
      "Best validation model: epoch 31  - val_accuracy 0.6165333390235901\n"
     ]
    }
   ],
   "source": [
    "print('Training model...')\n",
    "\n",
    "EPOCHS = 40\n",
    "train_steps = math.ceil(len(objs_train)/BATCH_SIZE)\n",
    "valid_steps = math.ceil(len(objs_valid)/BATCH_SIZE)\n",
    "\n",
    "h1 = model.fit(train_generator, \n",
    "              steps_per_epoch=train_steps, \n",
    "              validation_data=valid_generator, \n",
    "              validation_steps=valid_steps, \n",
    "              epochs=EPOCHS, \n",
    "              callbacks=callbacks, \n",
    "              verbose=1)\n",
    "\n",
    "# Best validation model\n",
    "best_idx = int(np.argmax(h1.history['val_accuracy']))\n",
    "best_value = np.max(h1.history['val_accuracy'])\n",
    "print('Best validation model: epoch ' + str(best_idx+1), ' - val_accuracy ' + str(best_value))"
   ]
  },
  {
   "cell_type": "markdown",
   "id": "412115a0",
   "metadata": {
    "papermill": {
     "duration": 1.909093,
     "end_time": "2025-10-15T10:47:16.010294",
     "exception": false,
     "start_time": "2025-10-15T10:47:14.101201",
     "status": "completed"
    },
    "tags": []
   },
   "source": [
    "- Training time: ~2h:30min\n",
    "- GPU: Kaggle TP4 x2\n",
    "- Best validation model: Epoch 31 - Validation accuracy: 0.6165"
   ]
  },
  {
   "cell_type": "markdown",
   "id": "7bd7237b",
   "metadata": {
    "papermill": {
     "duration": 1.798758,
     "end_time": "2025-10-15T10:47:19.728943",
     "exception": false,
     "start_time": "2025-10-15T10:47:17.930185",
     "status": "completed"
    },
    "tags": []
   },
   "source": [
    "### 2.3 Validation"
   ]
  },
  {
   "cell_type": "code",
   "execution_count": 18,
   "id": "67fea23e",
   "metadata": {
    "execution": {
     "iopub.execute_input": "2025-10-15T10:47:23.458255Z",
     "iopub.status.busy": "2025-10-15T10:47:23.457950Z",
     "iopub.status.idle": "2025-10-15T10:47:23.465680Z",
     "shell.execute_reply": "2025-10-15T10:47:23.464764Z"
    },
    "papermill": {
     "duration": 1.866565,
     "end_time": "2025-10-15T10:47:23.466920",
     "exception": false,
     "start_time": "2025-10-15T10:47:21.600355",
     "status": "completed"
    },
    "tags": []
   },
   "outputs": [],
   "source": [
    "def draw_confusion_matrix(cm, categories):\n",
    "    # Draw confusion matrix\n",
    "    fig = plt.figure(figsize=[6.4*pow(len(categories), 0.5), 4.8*pow(len(categories), 0.5)])\n",
    "    ax = fig.add_subplot(111)\n",
    "    cm = cm.astype('float') / np.maximum(cm.sum(axis=1)[:, np.newaxis], np.finfo(np.float64).eps)\n",
    "    im = ax.imshow(cm, interpolation='nearest', cmap=plt.colormaps['Blues'])\n",
    "    ax.figure.colorbar(im, ax=ax)\n",
    "    ax.set(xticks=np.arange(cm.shape[1]), yticks=np.arange(cm.shape[0]), xticklabels=list(categories.values()), yticklabels=list(categories.values()), ylabel='Annotation', xlabel='Prediction')\n",
    "    # Rotate the tick labels and set their alignment\n",
    "    plt.setp(ax.get_xticklabels(), rotation=45, ha=\"right\", rotation_mode=\"anchor\")\n",
    "    # Loop over data dimensions and create text annotations\n",
    "    thresh = cm.max() / 2.0\n",
    "    for i in range(cm.shape[0]):\n",
    "        for j in range(cm.shape[1]):\n",
    "            ax.text(j, i, format(cm[i, j], '.2f'), ha=\"center\", va=\"center\", color=\"white\" if cm[i, j] > thresh else \"black\", fontsize=int(20-pow(len(categories), 0.5)))\n",
    "    fig.tight_layout()\n",
    "    plt.show()"
   ]
  },
  {
   "cell_type": "code",
   "execution_count": 19,
   "id": "2de426c4",
   "metadata": {
    "execution": {
     "iopub.execute_input": "2025-10-15T10:47:27.078903Z",
     "iopub.status.busy": "2025-10-15T10:47:27.078616Z",
     "iopub.status.idle": "2025-10-15T10:51:01.275771Z",
     "shell.execute_reply": "2025-10-15T10:51:01.275054Z"
    },
    "papermill": {
     "duration": 216.003494,
     "end_time": "2025-10-15T10:51:01.277358",
     "exception": false,
     "start_time": "2025-10-15T10:47:25.273864",
     "status": "completed"
    },
    "tags": []
   },
   "outputs": [],
   "source": [
    "model.load_weights(MODEL_NAME)\n",
    "y_true, y_pred = [], []\n",
    "for ann in val2:\n",
    "    # Load image\n",
    "    image = load_geoimage(ann.filename)\n",
    "    for obj_pred in ann.objects:\n",
    "        # Generate prediction\n",
    "        warped_image = np.expand_dims(image, 0)\n",
    "        predictions = model.predict(warped_image, verbose=0)\n",
    "        # Save prediction\n",
    "        pred_category = list(categories.values())[np.argmax(predictions)]\n",
    "        pred_score = np.max(predictions)\n",
    "        y_true.append(obj_pred.category)\n",
    "        y_pred.append(pred_category)"
   ]
  },
  {
   "cell_type": "code",
   "execution_count": 20,
   "id": "50b5ae4b",
   "metadata": {
    "execution": {
     "iopub.execute_input": "2025-10-15T10:51:04.970847Z",
     "iopub.status.busy": "2025-10-15T10:51:04.970169Z",
     "iopub.status.idle": "2025-10-15T10:51:06.286898Z",
     "shell.execute_reply": "2025-10-15T10:51:06.286146Z"
    },
    "papermill": {
     "duration": 3.152091,
     "end_time": "2025-10-15T10:51:06.290312",
     "exception": false,
     "start_time": "2025-10-15T10:51:03.138221",
     "status": "completed"
    },
    "tags": []
   },
   "outputs": [
    {
     "data": {
      "image/png": "[encoded data removed]",
      "text/plain": [
       "<Figure size 2307.55x1730.66 with 2 Axes>"
      ]
     },
     "metadata": {},
     "output_type": "display_data"
    }
   ],
   "source": [
    "# Compute the confusion matrix\n",
    "cm = confusion_matrix(y_true, y_pred, labels=list(categories.values()))\n",
    "draw_confusion_matrix(cm, categories)"
   ]
  },
  {
   "cell_type": "code",
   "execution_count": 21,
   "id": "316d5582",
   "metadata": {
    "execution": {
     "iopub.execute_input": "2025-10-15T10:51:09.953258Z",
     "iopub.status.busy": "2025-10-15T10:51:09.952966Z",
     "iopub.status.idle": "2025-10-15T10:51:09.963598Z",
     "shell.execute_reply": "2025-10-15T10:51:09.962933Z"
    },
    "papermill": {
     "duration": 1.829009,
     "end_time": "2025-10-15T10:51:09.964708",
     "exception": false,
     "start_time": "2025-10-15T10:51:08.135699",
     "status": "completed"
    },
    "tags": []
   },
   "outputs": [
    {
     "name": "stdout",
     "output_type": "stream",
     "text": [
      "Mean Accuracy: 61.653%\n",
      "Mean Recall: 59.252%\n",
      "Mean Precision: 61.695%\n",
      "> Cargo plane: Recall: 73.438% Precision: 83.929% Specificity: 99.503% Dice: 78.333%\n",
      "> Small car: Recall: 79.518% Precision: 70.400% Specificity: 92.806% Dice: 74.682%\n",
      "> Bus: Recall: 45.763% Precision: 52.941% Specificity: 95.760% Dice: 49.091%\n",
      "> Truck: Recall: 21.267% Precision: 35.075% Specificity: 94.740% Dice: 26.479%\n",
      "> Motorboat: Recall: 59.813% Precision: 71.910% Specificity: 98.586% Dice: 65.306%\n",
      "> Fishing vessel: Recall: 59.155% Precision: 44.211% Specificity: 97.062% Dice: 50.602%\n",
      "> Dump truck: Recall: 51.613% Precision: 57.143% Specificity: 97.259% Dice: 54.237%\n",
      "> Excavator: Recall: 62.025% Precision: 63.636% Specificity: 98.441% Dice: 62.821%\n",
      "> Building: Recall: 76.323% Precision: 70.256% Specificity: 92.348% Dice: 73.164%\n",
      "> Helipad: Recall: 27.273% Precision: 60.000% Specificity: 99.893% Dice: 37.500%\n",
      "> Storage tank: Recall: 58.503% Precision: 71.667% Specificity: 98.032% Dice: 64.419%\n",
      "> Shipping container: Recall: 71.711% Precision: 46.581% Specificity: 92.745% Dice: 56.477%\n",
      "> Pylon: Recall: 83.871% Precision: 74.286% Specificity: 99.512% Dice: 78.788%\n"
     ]
    }
   ],
   "source": [
    "# Compute the accuracy\n",
    "correct_samples_class = np.diag(cm).astype(float)\n",
    "total_samples_class = np.sum(cm, axis=1).astype(float)\n",
    "total_predicts_class = np.sum(cm, axis=0).astype(float)\n",
    "print('Mean Accuracy: %.3f%%' % (np.sum(correct_samples_class) / np.sum(total_samples_class) * 100))\n",
    "acc = correct_samples_class / np.maximum(total_samples_class, np.finfo(np.float64).eps)\n",
    "print('Mean Recall: %.3f%%' % (acc.mean() * 100))\n",
    "acc = correct_samples_class / np.maximum(total_predicts_class, np.finfo(np.float64).eps)\n",
    "print('Mean Precision: %.3f%%' % (acc.mean() * 100))\n",
    "for idx in range(len(categories)):\n",
    "    # True/False Positives (TP/FP) refer to the number of predicted positives that were correct/incorrect.\n",
    "    # True/False Negatives (TN/FN) refer to the number of predicted negatives that were correct/incorrect.\n",
    "    tp = cm[idx, idx]\n",
    "    fp = sum(cm[:, idx]) - tp\n",
    "    fn = sum(cm[idx, :]) - tp\n",
    "    tn = sum(np.delete(sum(cm) - cm[idx, :], idx))\n",
    "    # True Positive Rate: proportion of real positive cases that were correctly predicted as positive.\n",
    "    recall = tp / np.maximum(tp+fn, np.finfo(np.float64).eps)\n",
    "    # Precision: proportion of predicted positive cases that were truly real positives.\n",
    "    precision = tp / np.maximum(tp+fp, np.finfo(np.float64).eps)\n",
    "    # True Negative Rate: proportion of real negative cases that were correctly predicted as negative.\n",
    "    specificity = tn / np.maximum(tn+fp, np.finfo(np.float64).eps)\n",
    "    # Dice coefficient refers to two times the intersection of two sets divided by the sum of their areas.\n",
    "    # Dice = 2 |A∩B| / (|A|+|B|) = 2 TP / (2 TP + FP + FN)\n",
    "    f1_score = 2 * ((precision * recall) / np.maximum(precision+recall, np.finfo(np.float64).eps))\n",
    "    print('> %s: Recall: %.3f%% Precision: %.3f%% Specificity: %.3f%% Dice: %.3f%%' % (list(categories.values())[idx], recall*100, precision*100, specificity*100, f1_score*100))"
   ]
  },
  {
   "cell_type": "markdown",
   "id": "68036693",
   "metadata": {
    "papermill": {
     "duration": 1.834041,
     "end_time": "2025-10-15T10:51:13.621643",
     "exception": false,
     "start_time": "2025-10-15T10:51:11.787602",
     "status": "completed"
    },
    "tags": []
   },
   "source": [
    "### 2.4 Testing"
   ]
  },
  {
   "cell_type": "code",
   "execution_count": 22,
   "id": "df2af741",
   "metadata": {
    "execution": {
     "iopub.execute_input": "2025-10-15T10:51:17.237633Z",
     "iopub.status.busy": "2025-10-15T10:51:17.237300Z",
     "iopub.status.idle": "2025-10-15T10:51:18.210833Z",
     "shell.execute_reply": "2025-10-15T10:51:18.210038Z"
    },
    "papermill": {
     "duration": 2.789876,
     "end_time": "2025-10-15T10:51:18.212076",
     "exception": false,
     "start_time": "2025-10-15T10:51:15.422200",
     "status": "completed"
    },
    "tags": []
   },
   "outputs": [
    {
     "name": "stdout",
     "output_type": "stream",
     "text": [
      "Number of testing images: 2365\n"
     ]
    }
   ],
   "source": [
    "anns = []\n",
    "i = 0\n",
    "for (dirpath, dirnames, filenames) in os.walk('/kaggle/input/xview-dataset/xview_recognition/xview_test/'):\n",
    "    for filename in filenames:\n",
    "        image = GenericImage(dirpath + '/' + filename)\n",
    "        image.tile = np.array([0, 0, 224, 224])\n",
    "        obj = GenericObject()\n",
    "        obj.bb = (0, 0, 224, 224)\n",
    "        obj.category = dirpath[dirpath.rfind('/')+1:]\n",
    "        image.add_object(obj)\n",
    "        anns.append(image)\n",
    "print('Number of testing images: ' + str(len(anns)))"
   ]
  },
  {
   "cell_type": "code",
   "execution_count": 23,
   "id": "812f0919",
   "metadata": {
    "execution": {
     "iopub.execute_input": "2025-10-15T10:51:21.852637Z",
     "iopub.status.busy": "2025-10-15T10:51:21.852309Z",
     "iopub.status.idle": "2025-10-15T10:55:56.030899Z",
     "shell.execute_reply": "2025-10-15T10:55:56.030032Z"
    },
    "papermill": {
     "duration": 275.996801,
     "end_time": "2025-10-15T10:55:56.032660",
     "exception": false,
     "start_time": "2025-10-15T10:51:20.035859",
     "status": "completed"
    },
    "tags": []
   },
   "outputs": [],
   "source": [
    "model.load_weights(MODEL_NAME)\n",
    "predictions_data = {\"images\": {}, \"annotations\": {}}\n",
    "\n",
    "for idx, ann in enumerate(anns):\n",
    "    image_data = {\"image_id\": ann.filename.split('/')[-1], \"filename\": ann.filename, \"width\": int(ann.tile[2]), \"height\": int(ann.tile[3])}\n",
    "    predictions_data[\"images\"][idx] = image_data\n",
    "    # Load image\n",
    "    image = load_geoimage(\"/\".join(ann.filename.split('/')[-3:]))\n",
    "    for obj_pred in ann.objects:\n",
    "        # Generate prediction\n",
    "        warped_image = np.expand_dims(image, 0)\n",
    "        predictions = model.predict(warped_image, verbose=0)\n",
    "        # Save prediction\n",
    "        pred_category = list(categories.values())[np.argmax(predictions)]\n",
    "        pred_score = np.max(predictions)\n",
    "        annotation_data = {\"image_id\": ann.filename.split('/')[-1], \"category_id\": pred_category, \"bbox\": [int(x) for x in obj_pred.bb]}\n",
    "        predictions_data[\"annotations\"][idx] = annotation_data"
   ]
  },
  {
   "cell_type": "code",
   "execution_count": 24,
   "id": "32900808",
   "metadata": {
    "execution": {
     "iopub.execute_input": "2025-10-15T10:55:59.739411Z",
     "iopub.status.busy": "2025-10-15T10:55:59.739094Z",
     "iopub.status.idle": "2025-10-15T10:55:59.778440Z",
     "shell.execute_reply": "2025-10-15T10:55:59.777878Z"
    },
    "papermill": {
     "duration": 1.878065,
     "end_time": "2025-10-15T10:55:59.779664",
     "exception": false,
     "start_time": "2025-10-15T10:55:57.901599",
     "status": "completed"
    },
    "tags": []
   },
   "outputs": [],
   "source": [
    "with open(\"prediction.json\", \"w\") as outfile:\n",
    "    json.dump(predictions_data, outfile)"
   ]
  }
 ],
 "metadata": {
  "colab": {
   "provenance": []
  },
  "kaggle": {
   "accelerator": "nvidiaTeslaT4",
   "dataSources": [
    {
     "datasetId": 8497306,
     "sourceId": 13391266,
     "sourceType": "datasetVersion"
    }
   ],
   "isGpuEnabled": true,
   "isInternetEnabled": true,
   "language": "python",
   "sourceType": "notebook"
  },
  "kernelspec": {
   "display_name": "cv",
   "language": "python",
   "name": "python3"
  },
  "language_info": {
   "codemirror_mode": {
    "name": "ipython",
    "version": 3
   },
   "file_extension": ".py",
   "mimetype": "text/x-python",
   "name": "python",
   "nbconvert_exporter": "python",
   "pygments_lexer": "ipython3",
   "version": "3.12.11"
  },
  "papermill": {
   "default_parameters": {},
   "duration": 6811.157254,
   "end_time": "2025-10-15T10:56:05.306284",
   "environment_variables": {},
   "exception": null,
   "input_path": "__notebook__.ipynb",
   "output_path": "__notebook__.ipynb",
   "parameters": {},
   "start_time": "2025-10-15T09:02:34.149030",
   "version": "2.6.0"
  }
 },
 "nbformat": 4,
 "nbformat_minor": 5
}
