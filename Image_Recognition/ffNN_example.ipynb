{
 "cells": [
  {
   "cell_type": "markdown",
   "metadata": {
    "editable": true,
    "id": "QYuALZOG-AMq",
    "slideshow": {
     "slide_type": ""
    },
    "tags": []
   },
   "source": [
    "# CV Course Project: Assignment - Image Recognition\n",
    "\n",
    "---\n",
    "\n",
    "**Group:**\n",
    "- Alumno 1:\n",
    "- Alumno 2:\n",
    "- Alumno 3: Reyes Castro, Didier Yamil (didier.reyes.castro@alumnos.upm.es)\n",
    "\n",
    "**Course:** Computer Vision (CV) - 2025/26\n",
    "\n",
    "**Institution:** Polytechnic University of Madrid (UPM)\n",
    "\n",
    "**Date:** January 2026\n",
    "\n",
    "---\n",
    "\n",
    "## Goals\n",
    "\n",
    "The goals of the assignment are:\n",
    "* Develop proficiency in using Tensorflow/Keras for training Neural Nets (NNs).\n",
    "* Put into practice the acquired knowledge to optimize the parameters and architecture of a feedforward Neural Net (ffNN), in the context of an image recognition problem.\n",
    "* Put into practice NNs specially conceived for analysing images. Design and optimize the parameters of a Convolutional Neural Net (CNN) to deal with previous task.\n",
    "* Train popular architectures from scratch (e.g., GoogLeNet, VGG, ResNet, ...), and compare the results with the ones provided by their pre-trained versions using transfer learning.\n",
    "\n",
    "Follow the link below to download the classification data set  “xview_recognition”: [https://drive.upm.es/s/2DDPE2zHw5dbM3G](https://drive.upm.es/s/2DDPE2zHw5dbM3G)"
   ]
  },
  {
   "cell_type": "markdown",
   "metadata": {},
   "source": [
    "## 0 Setup and Data Loading"
   ]
  },
  {
   "cell_type": "markdown",
   "metadata": {},
   "source": [
    "### 0.1 Install and Import Required Libraries"
   ]
  },
  {
   "cell_type": "markdown",
   "metadata": {},
   "source": [
    "If using Google Colab, uncomment the following line to install the required packages."
   ]
  },
  {
   "cell_type": "code",
   "execution_count": 1,
   "metadata": {},
   "outputs": [],
   "source": [
    "# !pip install tensorflow numpy rasterio scikit-learn matplotlib keras"
   ]
  },
  {
   "cell_type": "markdown",
   "metadata": {},
   "source": [
    "If using Conda, create a new environment and install the required packages:\n",
    "```bash\n",
    "conda create -n cv_project python tensorflow numpy rasterio scikit-learn matplotlib jupyterlab\n",
    "conda activate cv_project\n",
    "```"
   ]
  },
  {
   "cell_type": "markdown",
   "metadata": {},
   "source": [
    "Loading the necessary libraries."
   ]
  },
  {
   "cell_type": "code",
   "execution_count": 2,
   "metadata": {},
   "outputs": [
    {
     "name": "stderr",
     "output_type": "stream",
     "text": [
      "2025-10-01 16:52:21.923536: I tensorflow/core/util/port.cc:153] oneDNN custom operations are on. You may see slightly different numerical results due to floating-point round-off errors from different computation orders. To turn them off, set the environment variable `TF_ENABLE_ONEDNN_OPTS=0`.\n",
      "2025-10-01 16:52:22.042256: E external/local_xla/xla/stream_executor/cuda/cuda_fft.cc:477] Unable to register cuFFT factory: Attempting to register factory for plugin cuFFT when one has already been registered\n",
      "WARNING: All log messages before absl::InitializeLog() is called are written to STDERR\n",
      "E0000 00:00:1759330342.068791     972 cuda_dnn.cc:8310] Unable to register cuDNN factory: Attempting to register factory for plugin cuDNN when one has already been registered\n",
      "E0000 00:00:1759330342.077339     972 cuda_blas.cc:1418] Unable to register cuBLAS factory: Attempting to register factory for plugin cuBLAS when one has already been registered\n",
      "2025-10-01 16:52:22.203839: I tensorflow/core/platform/cpu_feature_guard.cc:210] This TensorFlow binary is optimized to use available CPU instructions in performance-critical operations.\n",
      "To enable the following instructions: SSE4.1 SSE4.2 AVX AVX2 AVX_VNNI FMA, in other operations, rebuild TensorFlow with the appropriate compiler flags.\n"
     ]
    }
   ],
   "source": [
    "# Python libraries\n",
    "import uuid\n",
    "import warnings\n",
    "import json\n",
    "import os\n",
    "import math\n",
    "\n",
    "# External libraries\n",
    "import numpy as np\n",
    "import rasterio\n",
    "import matplotlib.pyplot as plt\n",
    "\n",
    "from sklearn.model_selection import train_test_split\n",
    "from sklearn.metrics import confusion_matrix\n",
    "\n",
    "import tensorflow as tf\n",
    "from tensorflow.keras import Input\n",
    "from tensorflow.keras.models import Sequential\n",
    "from tensorflow.keras.layers import Dense, Activation, Flatten\n",
    "from tensorflow.keras.optimizers import Adam\n",
    "from tensorflow.keras.callbacks import TerminateOnNaN, EarlyStopping, ReduceLROnPlateau, ModelCheckpoint\n"
   ]
  },
  {
   "cell_type": "markdown",
   "metadata": {},
   "source": [
    "Check if GPU is available for training the models."
   ]
  },
  {
   "cell_type": "code",
   "execution_count": 3,
   "metadata": {
    "ExecuteTime": {
     "end_time": "2024-10-26T00:00:21.031186Z",
     "start_time": "2024-10-26T00:00:17.131476Z"
    },
    "editable": true,
    "execution": {
     "iopub.execute_input": "2025-09-18T08:27:59.622636Z",
     "iopub.status.busy": "2025-09-18T08:27:59.622372Z",
     "iopub.status.idle": "2025-09-18T08:28:13.071424Z",
     "shell.execute_reply": "2025-09-18T08:28:13.070171Z"
    },
    "slideshow": {
     "slide_type": ""
    },
    "tags": []
   },
   "outputs": [
    {
     "name": "stdout",
     "output_type": "stream",
     "text": [
      "[PhysicalDevice(name='/physical_device:GPU:0', device_type='GPU')]\n"
     ]
    }
   ],
   "source": [
    "print(tf.config.list_physical_devices('GPU'))"
   ]
  },
  {
   "cell_type": "markdown",
   "metadata": {},
   "source": [
    "### 0.2 Load the Dataset & Image Loader\n",
    "\n",
    "Before loading the dataset, set the path to the folder containing the images."
   ]
  },
  {
   "cell_type": "code",
   "execution_count": 4,
   "metadata": {},
   "outputs": [],
   "source": [
    "IMAGES_PATH = '/mnt/c/Users/didie/Desktop/main/MUIA/CV/Labs/Image_Recognition/xview_recognition/'"
   ]
  },
  {
   "cell_type": "code",
   "execution_count": 5,
   "metadata": {
    "ExecuteTime": {
     "end_time": "2024-10-26T00:00:21.066937Z",
     "start_time": "2024-10-26T00:00:21.059126Z"
    },
    "editable": true,
    "execution": {
     "iopub.execute_input": "2025-09-18T08:28:13.076611Z",
     "iopub.status.busy": "2025-09-18T08:28:13.076007Z",
     "iopub.status.idle": "2025-09-18T08:28:13.083344Z",
     "shell.execute_reply": "2025-09-18T08:28:13.082866Z"
    },
    "id": "OYtqD3Oh-AMw",
    "slideshow": {
     "slide_type": ""
    },
    "tags": []
   },
   "outputs": [],
   "source": [
    "class GenericObject:\n",
    "    \"\"\"\n",
    "    Generic object data.\n",
    "    \"\"\"\n",
    "    def __init__(self):\n",
    "        self.id = uuid.uuid4()\n",
    "        self.bb = (-1, -1, -1, -1)\n",
    "        self.category= -1\n",
    "        self.score = -1\n",
    "\n",
    "class GenericImage:\n",
    "    \"\"\"\n",
    "    Generic image data.\n",
    "    \"\"\"\n",
    "    def __init__(self, filename):\n",
    "        self.filename = filename\n",
    "        self.tile = np.array([-1, -1, -1, -1])  # (pt_x, pt_y, pt_x+width, pt_y+height)\n",
    "        self.objects = list([])\n",
    "\n",
    "    def add_object(self, obj: GenericObject):\n",
    "        self.objects.append(obj)"
   ]
  },
  {
   "cell_type": "code",
   "execution_count": 6,
   "metadata": {
    "ExecuteTime": {
     "end_time": "2024-10-26T00:00:21.153693Z",
     "start_time": "2024-10-26T00:00:21.149079Z"
    },
    "execution": {
     "iopub.execute_input": "2025-09-18T08:28:13.085587Z",
     "iopub.status.busy": "2025-09-18T08:28:13.085423Z",
     "iopub.status.idle": "2025-09-18T08:28:13.089288Z",
     "shell.execute_reply": "2025-09-18T08:28:13.088555Z"
    },
    "id": "I_GygShu-AMz"
   },
   "outputs": [],
   "source": [
    "categories = {0: 'Cargo plane', 1: 'Small car', 2: 'Bus', 3: 'Truck', 4: 'Motorboat', 5: 'Fishing vessel', 6: 'Dump truck', 7: 'Excavator', 8: 'Building', 9: 'Helipad', 10: 'Storage tank', 11: 'Shipping container', 12: 'Pylon'}"
   ]
  },
  {
   "cell_type": "code",
   "execution_count": 7,
   "metadata": {
    "ExecuteTime": {
     "end_time": "2024-10-26T00:00:21.292654Z",
     "start_time": "2024-10-26T00:00:21.205321Z"
    },
    "editable": true,
    "execution": {
     "iopub.execute_input": "2025-09-18T08:28:13.091445Z",
     "iopub.status.busy": "2025-09-18T08:28:13.091293Z",
     "iopub.status.idle": "2025-09-18T08:28:13.821931Z",
     "shell.execute_reply": "2025-09-18T08:28:13.820634Z"
    },
    "id": "fRBA7ReQ-AM0",
    "slideshow": {
     "slide_type": ""
    },
    "tags": []
   },
   "outputs": [],
   "source": [
    "def load_geoimage(filename):\n",
    "    warnings.filterwarnings('ignore', category=rasterio.errors.NotGeoreferencedWarning)\n",
    "    src_raster = rasterio.open(IMAGES_PATH + filename, 'r')\n",
    "    # RasterIO to OpenCV (see inconsistencies between libjpeg and libjpeg-turbo)\n",
    "    input_type = src_raster.profile['dtype']\n",
    "    input_channels = src_raster.count\n",
    "    img = np.zeros((src_raster.height, src_raster.width, src_raster.count), dtype=input_type)\n",
    "    for band in range(input_channels):\n",
    "        img[:, :, band] = src_raster.read(band+1)\n",
    "    return img"
   ]
  },
  {
   "cell_type": "code",
   "execution_count": 8,
   "metadata": {
    "ExecuteTime": {
     "end_time": "2024-10-26T00:00:21.416449Z",
     "start_time": "2024-10-26T00:00:21.311510Z"
    },
    "editable": true,
    "execution": {
     "iopub.execute_input": "2025-09-18T08:28:13.824938Z",
     "iopub.status.busy": "2025-09-18T08:28:13.824715Z",
     "iopub.status.idle": "2025-09-18T08:28:13.893966Z",
     "shell.execute_reply": "2025-09-18T08:28:13.893581Z"
    },
    "id": "Orto292C-AM3",
    "slideshow": {
     "slide_type": ""
    },
    "tags": []
   },
   "outputs": [],
   "source": [
    "# Load database\n",
    "json_file = IMAGES_PATH + 'xview_ann_train.json'\n",
    "with open(json_file) as ifs:\n",
    "    json_data = json.load(ifs)\n",
    "ifs.close()"
   ]
  },
  {
   "cell_type": "code",
   "execution_count": 9,
   "metadata": {
    "ExecuteTime": {
     "end_time": "2024-10-26T00:00:22.874518Z",
     "start_time": "2024-10-26T00:00:22.204948Z"
    },
    "execution": {
     "iopub.execute_input": "2025-09-18T08:28:13.896327Z",
     "iopub.status.busy": "2025-09-18T08:28:13.896163Z",
     "iopub.status.idle": "2025-09-18T08:28:14.116723Z",
     "shell.execute_reply": "2025-09-18T08:28:14.116385Z"
    },
    "id": "4GjFLHs4-AM4",
    "outputId": "5581df22-d4e9-42ac-9f94-061fd8c7acd9"
   },
   "outputs": [
    {
     "name": "stdout",
     "output_type": "stream",
     "text": [
      "{'Cargo plane': 635, 'Small car': 3324, 'Bus': 1768, 'Truck': 2210, 'Motorboat': 1069, 'Fishing vessel': 706, 'Dump truck': 1236, 'Excavator': 789, 'Building': 3594, 'Helipad': 111, 'Storage tank': 1469, 'Shipping container': 1523, 'Pylon': 312}\n"
     ]
    }
   ],
   "source": [
    "counts = dict.fromkeys(categories.values(), 0)\n",
    "anns_dataset = []\n",
    "for json_img, json_ann in zip(json_data['images'].values(), json_data['annotations'].values()):\n",
    "    image = GenericImage(json_img['filename'])\n",
    "    image.tile = np.array([0, 0, json_img['width'], json_img['height']])\n",
    "    obj = GenericObject()\n",
    "    obj.bb = (int(json_ann['bbox'][0]), int(json_ann['bbox'][1]), int(json_ann['bbox'][2]), int(json_ann['bbox'][3]))\n",
    "    obj.category = json_ann['category_id']\n",
    "    # Resampling strategy to reduce training time\n",
    "    counts[obj.category] += 1\n",
    "    image.add_object(obj)\n",
    "    anns_dataset.append(image)\n",
    "print(counts)"
   ]
  },
  {
   "cell_type": "code",
   "execution_count": 10,
   "metadata": {
    "execution": {
     "iopub.execute_input": "2025-09-18T08:28:16.358521Z",
     "iopub.status.busy": "2025-09-18T08:28:16.358389Z",
     "iopub.status.idle": "2025-09-18T08:28:16.362987Z",
     "shell.execute_reply": "2025-09-18T08:28:16.362279Z"
    }
   },
   "outputs": [],
   "source": [
    "def generator_images(objs, batch_size, do_shuffle=False):\n",
    "    while True:\n",
    "        if do_shuffle:\n",
    "            np.random.shuffle(objs)\n",
    "        groups = [objs[i:i+batch_size] for i in range(0, len(objs), batch_size)]\n",
    "        for group in groups:\n",
    "            images, labels = [], []\n",
    "            for (filename, obj) in group:\n",
    "                # Load image\n",
    "                images.append(load_geoimage(filename))\n",
    "                probabilities = np.zeros(len(categories))\n",
    "                probabilities[list(categories.values()).index(obj.category)] = 1\n",
    "                labels.append(probabilities)\n",
    "            images = np.array(images).astype(np.float32)\n",
    "            labels = np.array(labels).astype(np.float32)\n",
    "            yield images, labels"
   ]
  },
  {
   "cell_type": "markdown",
   "metadata": {},
   "source": [
    "### 0.3 Setup"
   ]
  },
  {
   "cell_type": "code",
   "execution_count": null,
   "metadata": {},
   "outputs": [],
   "source": [
    "# Fix random seed for reproducibility\n",
    "RANDOM_SEED = 42\n",
    "def set_seed(seed_value):\n",
    "    np.random.seed(seed_value)\n",
    "    tf.random.set_seed(seed_value)\n",
    "set_seed(RANDOM_SEED)\n",
    "\n",
    "# Number of categories for classification\n",
    "NUM_CATEGORIES = len(categories)"
   ]
  },
  {
   "cell_type": "markdown",
   "metadata": {},
   "source": [
    "### 0.4 Possible Architectures / Parameters to Tune\n",
    "\n",
    "- Normalisation of the input data (rescaling pixels from [0, 255] to [0, 1])\n",
    "- Adam tuning: learning rate, beta 1, beta 2, epsilon, amsgrad\n",
    "- Increase number of epochs\n",
    "- Adding more Dense layers\n",
    "- Change the activation functions of Dense layers: ReLU, leaky ReLU, ELU (which to choose for each layer?)\n",
    "- Change loss function from Crossentropy to Focal Loss\n",
    "- Weight Initialisation (HE initialisation)\n",
    "- Use BatchNorm layers (but where? in all layers?)\n",
    "- Dropout?, Early stopping?\n",
    "- Increase batch size (although it could generalise worst but be parallelised) (also batch size being related to learning rate: learning*N/batch)\n",
    "- Other advanced techniques seen in class: SGD with warm restarts, SAM"
   ]
  },
  {
   "cell_type": "markdown",
   "metadata": {
    "id": "diNBB3qy-AM2"
   },
   "source": [
    "## 1 Model 0: Simple (and Bad) ffNN > Multinomial Logistic Regression Model\n",
    "\n",
    "The following architecture is used as a starting point:\n",
    "- Validation split: 10% (NO stratification)\n",
    "- Input layer: 150,528 neurons (224x224x3) > Activation function: ReLU\n",
    "- Output layer: 13 neurons (the categories to classify) > Activation function: Softmax\n",
    "- Optimiser: Adam with learning_rate=1e-3, beta_1=0.9, beta_2=0.999, epsilon=1e-8, amsgrad=True, clipnorm=1.0\n",
    "- Loss function: Categorical Crossentropy"
   ]
  },
  {
   "cell_type": "markdown",
   "metadata": {},
   "source": [
    "### 1.1 Setup"
   ]
  },
  {
   "cell_type": "code",
   "execution_count": 12,
   "metadata": {
    "ExecuteTime": {
     "end_time": "2024-10-26T00:00:23.656800Z",
     "start_time": "2024-10-26T00:00:23.123245Z"
    },
    "execution": {
     "iopub.execute_input": "2025-09-18T08:28:14.118629Z",
     "iopub.status.busy": "2025-09-18T08:28:14.118484Z",
     "iopub.status.idle": "2025-09-18T08:28:15.638109Z",
     "shell.execute_reply": "2025-09-18T08:28:15.637081Z"
    },
    "id": "NriAECvS-AM6"
   },
   "outputs": [
    {
     "name": "stdout",
     "output_type": "stream",
     "text": [
      "Number of training images: 16871\n",
      "Number of validation images: 1875\n"
     ]
    }
   ],
   "source": [
    "anns_train, anns_valid = train_test_split(anns_dataset, test_size=0.1, random_state=RANDOM_SEED, shuffle=True)\n",
    "print('Number of training images: ' + str(len(anns_train)))\n",
    "print('Number of validation images: ' + str(len(anns_valid)))"
   ]
  },
  {
   "cell_type": "code",
   "execution_count": 13,
   "metadata": {
    "ExecuteTime": {
     "end_time": "2024-10-26T00:00:25.056806Z",
     "start_time": "2024-10-26T00:00:24.261581Z"
    },
    "execution": {
     "iopub.execute_input": "2025-09-18T08:28:15.641605Z",
     "iopub.status.busy": "2025-09-18T08:28:15.641261Z",
     "iopub.status.idle": "2025-09-18T08:28:16.335748Z",
     "shell.execute_reply": "2025-09-18T08:28:16.335083Z"
    },
    "id": "BNkjbY2e-AM7",
    "outputId": "47bde031-306f-464e-8e22-cc70a7fb7c67"
   },
   "outputs": [
    {
     "name": "stdout",
     "output_type": "stream",
     "text": [
      "Compiling the model...\n"
     ]
    },
    {
     "name": "stderr",
     "output_type": "stream",
     "text": [
      "I0000 00:00:1759330345.341155     972 gpu_device.cc:2022] Created device /job:localhost/replica:0/task:0/device:GPU:0 with 1751 MB memory:  -> device: 0, name: NVIDIA GeForce RTX 3050 Ti Laptop GPU, pci bus id: 0000:01:00.0, compute capability: 8.6\n"
     ]
    },
    {
     "data": {
      "text/html": [
       "<pre style=\"white-space:pre;overflow-x:auto;line-height:normal;font-family:Menlo,'DejaVu Sans Mono',consolas,'Courier New',monospace\"><span style=\"font-weight: bold\">Model: \"sequential\"</span>\n",
       "</pre>\n"
      ],
      "text/plain": [
       "\u001b[1mModel: \"sequential\"\u001b[0m\n"
      ]
     },
     "metadata": {},
     "output_type": "display_data"
    },
    {
     "data": {
      "text/html": [
       "<pre style=\"white-space:pre;overflow-x:auto;line-height:normal;font-family:Menlo,'DejaVu Sans Mono',consolas,'Courier New',monospace\">┏━━━━━━━━━━━━━━━━━━━━━━━━━━━━━━━━━┳━━━━━━━━━━━━━━━━━━━━━━━━┳━━━━━━━━━━━━━━━┓\n",
       "┃<span style=\"font-weight: bold\"> Layer (type)                    </span>┃<span style=\"font-weight: bold\"> Output Shape           </span>┃<span style=\"font-weight: bold\">       Param # </span>┃\n",
       "┡━━━━━━━━━━━━━━━━━━━━━━━━━━━━━━━━━╇━━━━━━━━━━━━━━━━━━━━━━━━╇━━━━━━━━━━━━━━━┩\n",
       "│ flatten (<span style=\"color: #0087ff; text-decoration-color: #0087ff\">Flatten</span>)               │ (<span style=\"color: #00d7ff; text-decoration-color: #00d7ff\">None</span>, <span style=\"color: #00af00; text-decoration-color: #00af00\">150528</span>)         │             <span style=\"color: #00af00; text-decoration-color: #00af00\">0</span> │\n",
       "├─────────────────────────────────┼────────────────────────┼───────────────┤\n",
       "│ activation (<span style=\"color: #0087ff; text-decoration-color: #0087ff\">Activation</span>)         │ (<span style=\"color: #00d7ff; text-decoration-color: #00d7ff\">None</span>, <span style=\"color: #00af00; text-decoration-color: #00af00\">150528</span>)         │             <span style=\"color: #00af00; text-decoration-color: #00af00\">0</span> │\n",
       "├─────────────────────────────────┼────────────────────────┼───────────────┤\n",
       "│ dense (<span style=\"color: #0087ff; text-decoration-color: #0087ff\">Dense</span>)                   │ (<span style=\"color: #00d7ff; text-decoration-color: #00d7ff\">None</span>, <span style=\"color: #00af00; text-decoration-color: #00af00\">13</span>)             │     <span style=\"color: #00af00; text-decoration-color: #00af00\">1,956,877</span> │\n",
       "└─────────────────────────────────┴────────────────────────┴───────────────┘\n",
       "</pre>\n"
      ],
      "text/plain": [
       "┏━━━━━━━━━━━━━━━━━━━━━━━━━━━━━━━━━┳━━━━━━━━━━━━━━━━━━━━━━━━┳━━━━━━━━━━━━━━━┓\n",
       "┃\u001b[1m \u001b[0m\u001b[1mLayer (type)                   \u001b[0m\u001b[1m \u001b[0m┃\u001b[1m \u001b[0m\u001b[1mOutput Shape          \u001b[0m\u001b[1m \u001b[0m┃\u001b[1m \u001b[0m\u001b[1m      Param #\u001b[0m\u001b[1m \u001b[0m┃\n",
       "┡━━━━━━━━━━━━━━━━━━━━━━━━━━━━━━━━━╇━━━━━━━━━━━━━━━━━━━━━━━━╇━━━━━━━━━━━━━━━┩\n",
       "│ flatten (\u001b[38;5;33mFlatten\u001b[0m)               │ (\u001b[38;5;45mNone\u001b[0m, \u001b[38;5;34m150528\u001b[0m)         │             \u001b[38;5;34m0\u001b[0m │\n",
       "├─────────────────────────────────┼────────────────────────┼───────────────┤\n",
       "│ activation (\u001b[38;5;33mActivation\u001b[0m)         │ (\u001b[38;5;45mNone\u001b[0m, \u001b[38;5;34m150528\u001b[0m)         │             \u001b[38;5;34m0\u001b[0m │\n",
       "├─────────────────────────────────┼────────────────────────┼───────────────┤\n",
       "│ dense (\u001b[38;5;33mDense\u001b[0m)                   │ (\u001b[38;5;45mNone\u001b[0m, \u001b[38;5;34m13\u001b[0m)             │     \u001b[38;5;34m1,956,877\u001b[0m │\n",
       "└─────────────────────────────────┴────────────────────────┴───────────────┘\n"
      ]
     },
     "metadata": {},
     "output_type": "display_data"
    },
    {
     "data": {
      "text/html": [
       "<pre style=\"white-space:pre;overflow-x:auto;line-height:normal;font-family:Menlo,'DejaVu Sans Mono',consolas,'Courier New',monospace\"><span style=\"font-weight: bold\"> Total params: </span><span style=\"color: #00af00; text-decoration-color: #00af00\">1,956,877</span> (7.46 MB)\n",
       "</pre>\n"
      ],
      "text/plain": [
       "\u001b[1m Total params: \u001b[0m\u001b[38;5;34m1,956,877\u001b[0m (7.46 MB)\n"
      ]
     },
     "metadata": {},
     "output_type": "display_data"
    },
    {
     "data": {
      "text/html": [
       "<pre style=\"white-space:pre;overflow-x:auto;line-height:normal;font-family:Menlo,'DejaVu Sans Mono',consolas,'Courier New',monospace\"><span style=\"font-weight: bold\"> Trainable params: </span><span style=\"color: #00af00; text-decoration-color: #00af00\">1,956,877</span> (7.46 MB)\n",
       "</pre>\n"
      ],
      "text/plain": [
       "\u001b[1m Trainable params: \u001b[0m\u001b[38;5;34m1,956,877\u001b[0m (7.46 MB)\n"
      ]
     },
     "metadata": {},
     "output_type": "display_data"
    },
    {
     "data": {
      "text/html": [
       "<pre style=\"white-space:pre;overflow-x:auto;line-height:normal;font-family:Menlo,'DejaVu Sans Mono',consolas,'Courier New',monospace\"><span style=\"font-weight: bold\"> Non-trainable params: </span><span style=\"color: #00af00; text-decoration-color: #00af00\">0</span> (0.00 B)\n",
       "</pre>\n"
      ],
      "text/plain": [
       "\u001b[1m Non-trainable params: \u001b[0m\u001b[38;5;34m0\u001b[0m (0.00 B)\n"
      ]
     },
     "metadata": {},
     "output_type": "display_data"
    }
   ],
   "source": [
    "print('Compiling the model...')\n",
    "\n",
    "model = Sequential([\n",
    "    Input(shape=(224, 224, 3)), # 224x224 images with 3 channels (RGB)\n",
    "    Flatten(), # Flatten the 3D tensor to 1D\n",
    "    Activation('relu'),\n",
    "    Dense(NUM_CATEGORIES, activation='softmax') # Output layer with softmax activation\n",
    "])\n",
    "\n",
    "model.summary()\n",
    "\n",
    "opt = Adam(learning_rate=1e-3, beta_1=0.9, beta_2=0.999, epsilon=1e-8, amsgrad=True, clipnorm=1.0)\n",
    "model.compile(optimizer=opt, loss='categorical_crossentropy', metrics=['accuracy'])"
   ]
  },
  {
   "cell_type": "markdown",
   "metadata": {},
   "source": [
    "The following are helper functions that monitor the training process:\n",
    "- **ModelCheckpoint:** Save the best model based on validation accuracy.\n",
    "- **ReduceLROnPlateau:** Reduce learning rate when validation accuracy stops improving.\n",
    "- **EarlyStopping:** Stop training when validation accuracy stops improving.\n",
    "- **TerminateOnNaN:** Stop training if NaN loss is encountered."
   ]
  },
  {
   "cell_type": "code",
   "execution_count": 14,
   "metadata": {
    "ExecuteTime": {
     "end_time": "2024-10-26T00:00:26.254555Z",
     "start_time": "2024-10-26T00:00:26.243908Z"
    },
    "execution": {
     "iopub.execute_input": "2025-09-18T08:28:16.352904Z",
     "iopub.status.busy": "2025-09-18T08:28:16.352762Z",
     "iopub.status.idle": "2025-09-18T08:28:16.356742Z",
     "shell.execute_reply": "2025-09-18T08:28:16.356290Z"
    },
    "id": "GGAJEfpB-AM8"
   },
   "outputs": [],
   "source": [
    "# Callbacks\n",
    "model_checkpoint = ModelCheckpoint('model.keras', monitor='val_accuracy', verbose=1, save_best_only=True)\n",
    "reduce_lr = ReduceLROnPlateau('val_accuracy', factor=0.1, patience=10, verbose=1)\n",
    "early_stop = EarlyStopping('val_accuracy', patience=40, verbose=1)\n",
    "terminate = TerminateOnNaN()\n",
    "callbacks = [model_checkpoint, reduce_lr, early_stop, terminate]"
   ]
  },
  {
   "cell_type": "markdown",
   "metadata": {},
   "source": [
    "Transforming the ImageObjects to actual image generators for training and validation."
   ]
  },
  {
   "cell_type": "code",
   "execution_count": 15,
   "metadata": {
    "ExecuteTime": {
     "end_time": "2024-10-26T00:00:27.058834Z",
     "start_time": "2024-10-26T00:00:27.022627Z"
    },
    "execution": {
     "iopub.execute_input": "2025-09-18T08:28:16.364748Z",
     "iopub.status.busy": "2025-09-18T08:28:16.364617Z",
     "iopub.status.idle": "2025-09-18T08:28:16.378947Z",
     "shell.execute_reply": "2025-09-18T08:28:16.377825Z"
    },
    "id": "Yht-QqUH-AM8"
   },
   "outputs": [],
   "source": [
    "# Generate the list of objects from annotations\n",
    "objs_train = [(ann.filename, obj) for ann in anns_train for obj in ann.objects]\n",
    "objs_valid = [(ann.filename, obj) for ann in anns_valid for obj in ann.objects]\n",
    "\n",
    "# Generators\n",
    "BATCH_SIZE = 16\n",
    "train_generator = generator_images(objs_train, BATCH_SIZE, do_shuffle=True)\n",
    "valid_generator = generator_images(objs_valid, BATCH_SIZE, do_shuffle=False)"
   ]
  },
  {
   "cell_type": "markdown",
   "metadata": {},
   "source": [
    "### 1.2 Training"
   ]
  },
  {
   "cell_type": "code",
   "execution_count": null,
   "metadata": {
    "ExecuteTime": {
     "start_time": "2024-10-26T00:00:27.913670Z"
    },
    "editable": true,
    "execution": {
     "iopub.execute_input": "2025-09-18T08:28:16.382264Z",
     "iopub.status.busy": "2025-09-18T08:28:16.382013Z",
     "iopub.status.idle": "2025-09-18T12:58:23.599009Z",
     "shell.execute_reply": "2025-09-18T12:58:23.597652Z"
    },
    "id": "TrfpdECs-AM9",
    "jupyter": {
     "is_executing": true
    },
    "outputId": "21d89b78-d94c-442e-9bc2-517654c0b614",
    "slideshow": {
     "slide_type": ""
    },
    "tags": []
   },
   "outputs": [
    {
     "name": "stdout",
     "output_type": "stream",
     "text": [
      "Training model...\n",
      "Epoch 1/20\n"
     ]
    },
    {
     "name": "stderr",
     "output_type": "stream",
     "text": [
      "I0000 00:00:1759330349.726191    1140 service.cc:148] XLA service 0x798788006ea0 initialized for platform CUDA (this does not guarantee that XLA will be used). Devices:\n",
      "I0000 00:00:1759330349.726228    1140 service.cc:156]   StreamExecutor device (0): NVIDIA GeForce RTX 3050 Ti Laptop GPU, Compute Capability 8.6\n",
      "2025-10-01 16:52:29.777225: I tensorflow/compiler/mlir/tensorflow/utils/dump_mlir_util.cc:268] disabling MLIR crash reproducer, set env var `MLIR_CRASH_REPRODUCER_DIRECTORY` to enable.\n",
      "I0000 00:00:1759330349.880372    1140 cuda_dnn.cc:529] Loaded cuDNN version 90101\n",
      "2025-10-01 16:52:30.406609: I external/local_xla/xla/stream_executor/cuda/cuda_asm_compiler.cc:397] ptxas warning : Registers are spilled to local memory in function 'gemm_fusion_dot_92', 4 bytes spill stores, 4 bytes spill loads\n",
      "\n",
      "2025-10-01 16:52:30.444136: I external/local_xla/xla/stream_executor/cuda/cuda_asm_compiler.cc:397] ptxas warning : Registers are spilled to local memory in function 'gemm_fusion_dot_92', 364 bytes spill stores, 364 bytes spill loads\n",
      "\n"
     ]
    },
    {
     "name": "stdout",
     "output_type": "stream",
     "text": [
      "\u001b[1m   1/1055\u001b[0m \u001b[37m━━━━━━━━━━━━━━━━━━━━\u001b[0m \u001b[1m34:07\u001b[0m 2s/step - accuracy: 0.1250 - loss: 158.8383"
     ]
    },
    {
     "name": "stderr",
     "output_type": "stream",
     "text": [
      "I0000 00:00:1759330351.171614    1140 device_compiler.h:188] Compiled cluster using XLA!  This line is logged at most once for the lifetime of the process.\n"
     ]
    },
    {
     "name": "stdout",
     "output_type": "stream",
     "text": [
      "\u001b[1m1054/1055\u001b[0m \u001b[32m━━━━━━━━━━━━━━━━━━━\u001b[0m\u001b[37m━\u001b[0m \u001b[1m0s\u001b[0m 393ms/step - accuracy: 0.2242 - loss: 4290.3291"
     ]
    },
    {
     "name": "stderr",
     "output_type": "stream",
     "text": [
      "2025-10-01 16:59:25.462757: I external/local_xla/xla/stream_executor/cuda/cuda_asm_compiler.cc:397] ptxas warning : Registers are spilled to local memory in function 'gemm_fusion_dot_92', 156 bytes spill stores, 156 bytes spill loads\n",
      "\n"
     ]
    },
    {
     "name": "stdout",
     "output_type": "stream",
     "text": [
      "\u001b[1m1055/1055\u001b[0m \u001b[32m━━━━━━━━━━━━━━━━━━━━\u001b[0m\u001b[37m\u001b[0m \u001b[1m0s\u001b[0m 394ms/step - accuracy: 0.2243 - loss: 4289.9243"
     ]
    },
    {
     "name": "stderr",
     "output_type": "stream",
     "text": [
      "2025-10-01 17:00:08.013303: I external/local_xla/xla/stream_executor/cuda/cuda_asm_compiler.cc:397] ptxas warning : Registers are spilled to local memory in function 'gemm_fusion_dot_54', 104 bytes spill stores, 104 bytes spill loads\n",
      "\n"
     ]
    },
    {
     "name": "stdout",
     "output_type": "stream",
     "text": [
      "\n",
      "Epoch 1: val_accuracy improved from None to 0.27040, saving model to model.keras\n",
      "\u001b[1m1055/1055\u001b[0m \u001b[32m━━━━━━━━━━━━━━━━━━━━\u001b[0m\u001b[37m\u001b[0m \u001b[1m459s\u001b[0m 434ms/step - accuracy: 0.2543 - loss: 3863.4570 - val_accuracy: 0.2704 - val_loss: 3510.7112 - learning_rate: 0.0010\n",
      "Epoch 2/20\n",
      "\u001b[1m1055/1055\u001b[0m \u001b[32m━━━━━━━━━━━━━━━━━━━━\u001b[0m\u001b[37m\u001b[0m \u001b[1m0s\u001b[0m 362ms/step - accuracy: 0.2952 - loss: 3318.4053\n",
      "Epoch 2: val_accuracy did not improve from 0.27040\n",
      "\u001b[1m1055/1055\u001b[0m \u001b[32m━━━━━━━━━━━━━━━━━━━━\u001b[0m\u001b[37m\u001b[0m \u001b[1m427s\u001b[0m 405ms/step - accuracy: 0.3034 - loss: 3445.2390 - val_accuracy: 0.2597 - val_loss: 3431.4346 - learning_rate: 0.0010\n",
      "Epoch 3/20\n",
      "\u001b[1m1055/1055\u001b[0m \u001b[32m━━━━━━━━━━━━━━━━━━━━\u001b[0m\u001b[37m\u001b[0m \u001b[1m0s\u001b[0m 294ms/step - accuracy: 0.3133 - loss: 3520.5972\n",
      "Epoch 3: val_accuracy improved from 0.27040 to 0.27947, saving model to model.keras\n",
      "\u001b[1m1055/1055\u001b[0m \u001b[32m━━━━━━━━━━━━━━━━━━━━\u001b[0m\u001b[37m\u001b[0m \u001b[1m342s\u001b[0m 325ms/step - accuracy: 0.3124 - loss: 3593.4204 - val_accuracy: 0.2795 - val_loss: 5921.1841 - learning_rate: 0.0010\n",
      "Epoch 4/20\n",
      "\u001b[1m1055/1055\u001b[0m \u001b[32m━━━━━━━━━━━━━━━━━━━━\u001b[0m\u001b[37m\u001b[0m \u001b[1m0s\u001b[0m 255ms/step - accuracy: 0.3256 - loss: 3453.2078\n",
      "Epoch 4: val_accuracy improved from 0.27947 to 0.30187, saving model to model.keras\n",
      "\u001b[1m1055/1055\u001b[0m \u001b[32m━━━━━━━━━━━━━━━━━━━━\u001b[0m\u001b[37m\u001b[0m \u001b[1m299s\u001b[0m 284ms/step - accuracy: 0.3245 - loss: 3420.2588 - val_accuracy: 0.3019 - val_loss: 4639.8716 - learning_rate: 0.0010\n",
      "Epoch 5/20\n",
      "\u001b[1m1055/1055\u001b[0m \u001b[32m━━━━━━━━━━━━━━━━━━━━\u001b[0m\u001b[37m\u001b[0m \u001b[1m0s\u001b[0m 252ms/step - accuracy: 0.3345 - loss: 3379.0737\n",
      "Epoch 5: val_accuracy did not improve from 0.30187\n",
      "\u001b[1m1055/1055\u001b[0m \u001b[32m━━━━━━━━━━━━━━━━━━━━\u001b[0m\u001b[37m\u001b[0m \u001b[1m298s\u001b[0m 282ms/step - accuracy: 0.3296 - loss: 3442.0398 - val_accuracy: 0.2912 - val_loss: 3659.2603 - learning_rate: 0.0010\n",
      "Epoch 6/20\n",
      "\u001b[1m1055/1055\u001b[0m \u001b[32m━━━━━━━━━━━━━━━━━━━━\u001b[0m\u001b[37m\u001b[0m \u001b[1m0s\u001b[0m 247ms/step - accuracy: 0.3520 - loss: 3120.7043\n",
      "Epoch 6: val_accuracy improved from 0.30187 to 0.32587, saving model to model.keras\n",
      "\u001b[1m1055/1055\u001b[0m \u001b[32m━━━━━━━━━━━━━━━━━━━━\u001b[0m\u001b[37m\u001b[0m \u001b[1m293s\u001b[0m 278ms/step - accuracy: 0.3430 - loss: 3238.0659 - val_accuracy: 0.3259 - val_loss: 3008.5664 - learning_rate: 0.0010\n",
      "Epoch 7/20\n",
      "\u001b[1m1055/1055\u001b[0m \u001b[32m━━━━━━━━━━━━━━━━━━━━\u001b[0m\u001b[37m\u001b[0m \u001b[1m0s\u001b[0m 248ms/step - accuracy: 0.3427 - loss: 3193.8154\n",
      "Epoch 7: val_accuracy did not improve from 0.32587\n",
      "\u001b[1m1055/1055\u001b[0m \u001b[32m━━━━━━━━━━━━━━━━━━━━\u001b[0m\u001b[37m\u001b[0m \u001b[1m305s\u001b[0m 289ms/step - accuracy: 0.3438 - loss: 3305.3003 - val_accuracy: 0.3019 - val_loss: 3736.1179 - learning_rate: 0.0010\n",
      "Epoch 8/20\n",
      "\u001b[1m1055/1055\u001b[0m \u001b[32m━━━━━━━━━━━━━━━━━━━━\u001b[0m\u001b[37m\u001b[0m \u001b[1m0s\u001b[0m 239ms/step - accuracy: 0.3486 - loss: 3239.6257\n",
      "Epoch 8: val_accuracy did not improve from 0.32587\n",
      "\u001b[1m1055/1055\u001b[0m \u001b[32m━━━━━━━━━━━━━━━━━━━━\u001b[0m\u001b[37m\u001b[0m \u001b[1m289s\u001b[0m 274ms/step - accuracy: 0.3414 - loss: 3368.9329 - val_accuracy: 0.3227 - val_loss: 3582.7844 - learning_rate: 0.0010\n",
      "Epoch 9/20\n",
      "\u001b[1m1055/1055\u001b[0m \u001b[32m━━━━━━━━━━━━━━━━━━━━\u001b[0m\u001b[37m\u001b[0m \u001b[1m0s\u001b[0m 233ms/step - accuracy: 0.3484 - loss: 3550.0120\n",
      "Epoch 9: val_accuracy did not improve from 0.32587\n",
      "\u001b[1m1055/1055\u001b[0m \u001b[32m━━━━━━━━━━━━━━━━━━━━\u001b[0m\u001b[37m\u001b[0m \u001b[1m285s\u001b[0m 271ms/step - accuracy: 0.3484 - loss: 3535.3535 - val_accuracy: 0.3184 - val_loss: 3703.6655 - learning_rate: 0.0010\n",
      "Epoch 10/20\n",
      "\u001b[1m1055/1055\u001b[0m \u001b[32m━━━━━━━━━━━━━━━━━━━━\u001b[0m\u001b[37m\u001b[0m \u001b[1m0s\u001b[0m 236ms/step - accuracy: 0.3667 - loss: 3135.2231\n",
      "Epoch 10: val_accuracy improved from 0.32587 to 0.37280, saving model to model.keras\n",
      "\u001b[1m1055/1055\u001b[0m \u001b[32m━━━━━━━━━━━━━━━━━━━━\u001b[0m\u001b[37m\u001b[0m \u001b[1m290s\u001b[0m 275ms/step - accuracy: 0.3544 - loss: 3291.9941 - val_accuracy: 0.3728 - val_loss: 4322.1982 - learning_rate: 0.0010\n",
      "Epoch 11/20\n",
      "\u001b[1m1055/1055\u001b[0m \u001b[32m━━━━━━━━━━━━━━━━━━━━\u001b[0m\u001b[37m\u001b[0m \u001b[1m0s\u001b[0m 228ms/step - accuracy: 0.3620 - loss: 3317.9341\n",
      "Epoch 11: val_accuracy did not improve from 0.37280\n",
      "\u001b[1m1055/1055\u001b[0m \u001b[32m━━━━━━━━━━━━━━━━━━━━\u001b[0m\u001b[37m\u001b[0m \u001b[1m277s\u001b[0m 263ms/step - accuracy: 0.3543 - loss: 3297.9138 - val_accuracy: 0.3707 - val_loss: 3304.2271 - learning_rate: 0.0010\n",
      "Epoch 12/20\n",
      "\u001b[1m1055/1055\u001b[0m \u001b[32m━━━━━━━━━━━━━━━━━━━━\u001b[0m\u001b[37m\u001b[0m \u001b[1m0s\u001b[0m 217ms/step - accuracy: 0.3562 - loss: 3309.2979\n",
      "Epoch 12: val_accuracy did not improve from 0.37280\n",
      "\u001b[1m1055/1055\u001b[0m \u001b[32m━━━━━━━━━━━━━━━━━━━━\u001b[0m\u001b[37m\u001b[0m \u001b[1m316s\u001b[0m 300ms/step - accuracy: 0.3556 - loss: 3265.4785 - val_accuracy: 0.3131 - val_loss: 3022.5112 - learning_rate: 0.0010\n",
      "Epoch 13/20\n",
      "\u001b[1m 563/1055\u001b[0m \u001b[32m━━━━━━━━━━\u001b[0m\u001b[37m━━━━━━━━━━\u001b[0m \u001b[1m1:44\u001b[0m 212ms/step - accuracy: 0.3744 - loss: 3156.8782"
     ]
    }
   ],
   "source": [
    "print('Training model...')\n",
    "\n",
    "EPOCHS = 20\n",
    "train_steps = math.ceil(len(objs_train)/BATCH_SIZE)\n",
    "valid_steps = math.ceil(len(objs_valid)/BATCH_SIZE)\n",
    "\n",
    "h = model.fit(train_generator, \n",
    "              steps_per_epoch=train_steps, \n",
    "              validation_data=valid_generator, \n",
    "              validation_steps=valid_steps, \n",
    "              epochs=EPOCHS, \n",
    "              callbacks=callbacks, \n",
    "              verbose=1)\n",
    "\n",
    "# Best validation model\n",
    "best_idx = int(np.argmax(h.history['val_accuracy']))\n",
    "best_value = np.max(h.history['val_accuracy'])\n",
    "print('Best validation model: epoch ' + str(best_idx+1), ' - val_accuracy ' + str(best_value))"
   ]
  },
  {
   "cell_type": "markdown",
   "metadata": {
    "editable": true,
    "id": "8IMMO_mT-AM9",
    "slideshow": {
     "slide_type": ""
    },
    "tags": []
   },
   "source": [
    "### 1.3 Validation\n",
    "Compute validation metrics."
   ]
  },
  {
   "cell_type": "code",
   "execution_count": null,
   "metadata": {
    "execution": {
     "iopub.execute_input": "2025-09-18T12:58:23.603258Z",
     "iopub.status.busy": "2025-09-18T12:58:23.602956Z",
     "iopub.status.idle": "2025-09-18T12:58:24.340498Z",
     "shell.execute_reply": "2025-09-18T12:58:24.339307Z"
    },
    "id": "HAanJ-V0-AM1"
   },
   "outputs": [],
   "source": [
    "def draw_confusion_matrix(cm, categories):\n",
    "    # Draw confusion matrix\n",
    "    fig = plt.figure(figsize=[6.4*pow(len(categories), 0.5), 4.8*pow(len(categories), 0.5)])\n",
    "    ax = fig.add_subplot(111)\n",
    "    cm = cm.astype('float') / np.maximum(cm.sum(axis=1)[:, np.newaxis], np.finfo(np.float64).eps)\n",
    "    im = ax.imshow(cm, interpolation='nearest', cmap=plt.colormaps['Blues'])\n",
    "    ax.figure.colorbar(im, ax=ax)\n",
    "    ax.set(xticks=np.arange(cm.shape[1]), yticks=np.arange(cm.shape[0]), xticklabels=list(categories.values()), yticklabels=list(categories.values()), ylabel='Annotation', xlabel='Prediction')\n",
    "    # Rotate the tick labels and set their alignment\n",
    "    plt.setp(ax.get_xticklabels(), rotation=45, ha=\"right\", rotation_mode=\"anchor\")\n",
    "    # Loop over data dimensions and create text annotations\n",
    "    thresh = cm.max() / 2.0\n",
    "    for i in range(cm.shape[0]):\n",
    "        for j in range(cm.shape[1]):\n",
    "            ax.text(j, i, format(cm[i, j], '.2f'), ha=\"center\", va=\"center\", color=\"white\" if cm[i, j] > thresh else \"black\", fontsize=int(20-pow(len(categories), 0.5)))\n",
    "    fig.tight_layout()\n",
    "    plt.show()"
   ]
  },
  {
   "cell_type": "code",
   "execution_count": null,
   "metadata": {
    "execution": {
     "iopub.execute_input": "2025-09-18T12:58:24.345003Z",
     "iopub.status.busy": "2025-09-18T12:58:24.344477Z",
     "iopub.status.idle": "2025-09-18T13:01:22.017111Z",
     "shell.execute_reply": "2025-09-18T13:01:22.016333Z"
    }
   },
   "outputs": [],
   "source": [
    "model.load_weights('model.keras')\n",
    "y_true, y_pred = [], []\n",
    "for ann in anns_valid:\n",
    "    # Load image\n",
    "    image = load_geoimage(ann.filename)\n",
    "    for obj_pred in ann.objects:\n",
    "        # Generate prediction\n",
    "        warped_image = np.expand_dims(image, 0)\n",
    "        predictions = model.predict(warped_image, verbose=0)\n",
    "        # Save prediction\n",
    "        pred_category = list(categories.values())[np.argmax(predictions)]\n",
    "        pred_score = np.max(predictions)\n",
    "        y_true.append(obj_pred.category)\n",
    "        y_pred.append(pred_category)"
   ]
  },
  {
   "cell_type": "code",
   "execution_count": null,
   "metadata": {
    "execution": {
     "iopub.execute_input": "2025-09-18T13:01:22.019704Z",
     "iopub.status.busy": "2025-09-18T13:01:22.019551Z",
     "iopub.status.idle": "2025-09-18T13:01:22.740150Z",
     "shell.execute_reply": "2025-09-18T13:01:22.739387Z"
    }
   },
   "outputs": [],
   "source": [
    "# Compute the confusion matrix\n",
    "cm = confusion_matrix(y_true, y_pred, labels=list(categories.values()))\n",
    "draw_confusion_matrix(cm, categories)"
   ]
  },
  {
   "cell_type": "code",
   "execution_count": null,
   "metadata": {
    "execution": {
     "iopub.execute_input": "2025-09-18T13:01:22.742591Z",
     "iopub.status.busy": "2025-09-18T13:01:22.742443Z",
     "iopub.status.idle": "2025-09-18T13:01:22.750853Z",
     "shell.execute_reply": "2025-09-18T13:01:22.749931Z"
    }
   },
   "outputs": [],
   "source": [
    "# Compute the accuracy\n",
    "correct_samples_class = np.diag(cm).astype(float)\n",
    "total_samples_class = np.sum(cm, axis=1).astype(float)\n",
    "total_predicts_class = np.sum(cm, axis=0).astype(float)\n",
    "print('Mean Accuracy: %.3f%%' % (np.sum(correct_samples_class) / np.sum(total_samples_class) * 100))\n",
    "acc = correct_samples_class / np.maximum(total_samples_class, np.finfo(np.float64).eps)\n",
    "print('Mean Recall: %.3f%%' % (acc.mean() * 100))\n",
    "acc = correct_samples_class / np.maximum(total_predicts_class, np.finfo(np.float64).eps)\n",
    "print('Mean Precision: %.3f%%' % (acc.mean() * 100))\n",
    "for idx in range(len(categories)):\n",
    "    # True/False Positives (TP/FP) refer to the number of predicted positives that were correct/incorrect.\n",
    "    # True/False Negatives (TN/FN) refer to the number of predicted negatives that were correct/incorrect.\n",
    "    tp = cm[idx, idx]\n",
    "    fp = sum(cm[:, idx]) - tp\n",
    "    fn = sum(cm[idx, :]) - tp\n",
    "    tn = sum(np.delete(sum(cm) - cm[idx, :], idx))\n",
    "    # True Positive Rate: proportion of real positive cases that were correctly predicted as positive.\n",
    "    recall = tp / np.maximum(tp+fn, np.finfo(np.float64).eps)\n",
    "    # Precision: proportion of predicted positive cases that were truly real positives.\n",
    "    precision = tp / np.maximum(tp+fp, np.finfo(np.float64).eps)\n",
    "    # True Negative Rate: proportion of real negative cases that were correctly predicted as negative.\n",
    "    specificity = tn / np.maximum(tn+fp, np.finfo(np.float64).eps)\n",
    "    # Dice coefficient refers to two times the intersection of two sets divided by the sum of their areas.\n",
    "    # Dice = 2 |A∩B| / (|A|+|B|) = 2 TP / (2 TP + FP + FN)\n",
    "    f1_score = 2 * ((precision * recall) / np.maximum(precision+recall, np.finfo(np.float64).eps))\n",
    "    print('> %s: Recall: %.3f%% Precision: %.3f%% Specificity: %.3f%% Dice: %.3f%%' % (list(categories.values())[idx], recall*100, precision*100, specificity*100, f1_score*100))"
   ]
  },
  {
   "cell_type": "markdown",
   "metadata": {},
   "source": [
    "### 1.4 Testing\n",
    "Trying to improve the results provided in the competition."
   ]
  },
  {
   "cell_type": "code",
   "execution_count": null,
   "metadata": {
    "execution": {
     "iopub.execute_input": "2025-09-18T13:01:22.753680Z",
     "iopub.status.busy": "2025-09-18T13:01:22.753432Z",
     "iopub.status.idle": "2025-09-18T13:01:22.832351Z",
     "shell.execute_reply": "2025-09-18T13:01:22.831293Z"
    },
    "id": "tJr_-xCt-AM-"
   },
   "outputs": [],
   "source": [
    "anns = []\n",
    "for (dirpath, dirnames, filenames) in os.walk('../PROJECT/xview_recognition/xview_test'):\n",
    "    for filename in filenames:\n",
    "        image = GenericImage(dirpath[29:] + '/' + filename)\n",
    "        image.tile = np.array([0, 0, 224, 224])\n",
    "        obj = GenericObject()\n",
    "        obj.bb = (0, 0, 224, 224)\n",
    "        obj.category = dirpath[dirpath.rfind('/')+1:]\n",
    "        image.add_object(obj)\n",
    "        anns.append(image)\n",
    "print('Number of testing images: ' + str(len(anns)))"
   ]
  },
  {
   "cell_type": "code",
   "execution_count": null,
   "metadata": {
    "execution": {
     "iopub.execute_input": "2025-09-18T13:01:22.837502Z",
     "iopub.status.busy": "2025-09-18T13:01:22.837113Z",
     "iopub.status.idle": "2025-09-18T13:03:24.835373Z",
     "shell.execute_reply": "2025-09-18T13:03:24.834773Z"
    },
    "id": "TGs2zqfv-AM_"
   },
   "outputs": [],
   "source": [
    "model.load_weights('model.keras')\n",
    "predictions_data = {\"images\": {}, \"annotations\": {}}\n",
    "for idx, ann in enumerate(anns):\n",
    "    image_data = {\"image_id\": ann.filename.split('/')[-1], \"filename\": ann.filename, \"width\": int(ann.tile[2]), \"height\": int(ann.tile[3])}\n",
    "    predictions_data[\"images\"][idx] = image_data\n",
    "    # Load image\n",
    "    image = load_geoimage(ann.filename)\n",
    "    for obj_pred in ann.objects:\n",
    "        # Generate prediction\n",
    "        warped_image = np.expand_dims(image, 0)\n",
    "        predictions = model.predict(warped_image, verbose=0)\n",
    "        # Save prediction\n",
    "        pred_category = list(categories.values())[np.argmax(predictions)]\n",
    "        pred_score = np.max(predictions)\n",
    "        annotation_data = {\"image_id\": ann.filename.split('/')[-1], \"category_id\": pred_category, \"bbox\": [int(x) for x in obj_pred.bb]}\n",
    "        predictions_data[\"annotations\"][idx] = annotation_data"
   ]
  },
  {
   "cell_type": "code",
   "execution_count": null,
   "metadata": {
    "execution": {
     "iopub.execute_input": "2025-09-18T13:03:24.837935Z",
     "iopub.status.busy": "2025-09-18T13:03:24.837770Z",
     "iopub.status.idle": "2025-09-18T13:03:24.871502Z",
     "shell.execute_reply": "2025-09-18T13:03:24.870824Z"
    }
   },
   "outputs": [],
   "source": [
    "with open(\"prediction.json\", \"w\") as outfile:\n",
    "    json.dump(predictions_data, outfile)"
   ]
  }
 ],
 "metadata": {
  "colab": {
   "provenance": []
  },
  "kernelspec": {
   "display_name": "cv",
   "language": "python",
   "name": "python3"
  },
  "language_info": {
   "codemirror_mode": {
    "name": "ipython",
    "version": 3
   },
   "file_extension": ".py",
   "mimetype": "text/x-python",
   "name": "python",
   "nbconvert_exporter": "python",
   "pygments_lexer": "ipython3",
   "version": "3.12.11"
  }
 },
 "nbformat": 4,
 "nbformat_minor": 4
}
