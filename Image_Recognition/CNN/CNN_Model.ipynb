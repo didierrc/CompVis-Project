{
 "cells": [
  {
   "cell_type": "markdown",
   "id": "37c61406",
   "metadata": {
    "editable": true,
    "id": "QYuALZOG-AMq",
    "papermill": {
     "duration": 0.00633,
     "end_time": "2025-10-15T09:02:39.770021",
     "exception": false,
     "start_time": "2025-10-15T09:02:39.763691",
     "status": "completed"
    },
    "slideshow": {
     "slide_type": ""
    },
    "tags": []
   },
   "source": [
    "# CV Course Project: Assignment - Image Recognition\n",
    "\n",
    "---\n",
    "\n",
    "**Group:**\n",
    "- Alumno 1: San Millan Rodrigues, Nadine (n.srodrigues@alumnos.upm.es)\n",
    "- Alumno 2: Sukhorukova, Anastasia (anastasia.s@alumnos.upm.es)\n",
    "- Alumno 3: Reyes Castro, Didier Yamil (didier.reyes.castro@alumnos.upm.es)\n",
    "\n",
    "**Course:** Computer Vision (CV) - 2025/26\n",
    "\n",
    "**Institution:** Polytechnic University of Madrid (UPM)\n",
    "\n",
    "**Date:** January 2026\n",
    "\n",
    "---\n",
    "\n",
    "## Goals\n",
    "\n",
    "The goals of the assignment are:\n",
    "* Develop proficiency in using Tensorflow/Keras for training Neural Nets (NNs).\n",
    "* Put into practice the acquired knowledge to optimize the parameters and architecture of a feedforward Neural Net (ffNN), in the context of an image recognition problem.\n",
    "* Put into practice NNs specially conceived for analysing images. Design and optimize the parameters of a Convolutional Neural Net (CNN) to deal with previous task.\n",
    "* Train popular architectures from scratch (e.g., GoogLeNet, VGG, ResNet, ...), and compare the results with the ones provided by their pre-trained versions using transfer learning.\n",
    "\n",
    "Follow the link below to download the classification data set  “xview_recognition”: [https://drive.upm.es/s/2DDPE2zHw5dbM3G](https://drive.upm.es/s/2DDPE2zHw5dbM3G)"
   ]
  },
  {
   "cell_type": "markdown",
   "id": "327f980f",
   "metadata": {
    "papermill": {
     "duration": 0.004838,
     "end_time": "2025-10-15T09:02:39.780636",
     "exception": false,
     "start_time": "2025-10-15T09:02:39.775798",
     "status": "completed"
    },
    "tags": []
   },
   "source": [
    "## 0 Setup and Data Loading"
   ]
  },
  {
   "cell_type": "markdown",
   "id": "01e750d8",
   "metadata": {
    "papermill": {
     "duration": 0.004565,
     "end_time": "2025-10-15T09:02:39.789950",
     "exception": false,
     "start_time": "2025-10-15T09:02:39.785385",
     "status": "completed"
    },
    "tags": []
   },
   "source": [
    "### 0.1 Install and Import Required Libraries"
   ]
  },
  {
   "cell_type": "code",
   "execution_count": null,
   "id": "608285ae",
   "metadata": {
    "execution": {
     "iopub.execute_input": "2025-10-15T09:02:39.800957Z",
     "iopub.status.busy": "2025-10-15T09:02:39.800692Z",
     "iopub.status.idle": "2025-10-15T09:02:47.700120Z",
     "shell.execute_reply": "2025-10-15T09:02:47.699319Z"
    },
    "papermill": {
     "duration": 7.906864,
     "end_time": "2025-10-15T09:02:47.701785",
     "exception": false,
     "start_time": "2025-10-15T09:02:39.794921",
     "status": "completed"
    },
    "tags": []
   },
   "outputs": [],
   "source": [
    "!pip install tensorflow numpy rasterio scikit-learn matplotlib keras"
   ]
  },
  {
   "cell_type": "markdown",
   "id": "3a672d60",
   "metadata": {
    "papermill": {
     "duration": 0.00554,
     "end_time": "2025-10-15T09:02:47.713986",
     "exception": false,
     "start_time": "2025-10-15T09:02:47.708446",
     "status": "completed"
    },
    "tags": []
   },
   "source": [
    "Loading the necessary libraries."
   ]
  },
  {
   "cell_type": "code",
   "execution_count": null,
   "id": "7a44e065",
   "metadata": {
    "execution": {
     "iopub.execute_input": "2025-10-15T09:02:47.726820Z",
     "iopub.status.busy": "2025-10-15T09:02:47.726184Z",
     "iopub.status.idle": "2025-10-15T09:03:13.067241Z",
     "shell.execute_reply": "2025-10-15T09:03:13.066579Z"
    },
    "papermill": {
     "duration": 25.349112,
     "end_time": "2025-10-15T09:03:13.068655",
     "exception": false,
     "start_time": "2025-10-15T09:02:47.719543",
     "status": "completed"
    },
    "tags": []
   },
   "outputs": [
    {
     "name": "stderr",
     "output_type": "stream",
     "text": [
      "2025-10-18 15:32:38.687522: I tensorflow/core/util/port.cc:153] oneDNN custom operations are on. You may see slightly different numerical results due to floating-point round-off errors from different computation orders. To turn them off, set the environment variable `TF_ENABLE_ONEDNN_OPTS=0`.\n",
      "2025-10-18 15:32:38.709191: E external/local_xla/xla/stream_executor/cuda/cuda_fft.cc:477] Unable to register cuFFT factory: Attempting to register factory for plugin cuFFT when one has already been registered\n",
      "WARNING: All log messages before absl::InitializeLog() is called are written to STDERR\n",
      "E0000 00:00:1760794358.727901  109253 cuda_dnn.cc:8310] Unable to register cuDNN factory: Attempting to register factory for plugin cuDNN when one has already been registered\n",
      "E0000 00:00:1760794358.733417  109253 cuda_blas.cc:1418] Unable to register cuBLAS factory: Attempting to register factory for plugin cuBLAS when one has already been registered\n",
      "2025-10-18 15:32:38.761882: I tensorflow/core/platform/cpu_feature_guard.cc:210] This TensorFlow binary is optimized to use available CPU instructions in performance-critical operations.\n",
      "To enable the following instructions: SSE4.1 SSE4.2 AVX AVX2 AVX_VNNI FMA, in other operations, rebuild TensorFlow with the appropriate compiler flags.\n"
     ]
    }
   ],
   "source": [
    "# Python libraries\n",
    "import uuid\n",
    "import warnings\n",
    "import json\n",
    "import os\n",
    "import math\n",
    "\n",
    "# External libraries\n",
    "import numpy as np\n",
    "import rasterio\n",
    "import matplotlib.pyplot as plt\n",
    "\n",
    "from sklearn.model_selection import train_test_split\n",
    "from sklearn.metrics import confusion_matrix\n",
    "\n",
    "import tensorflow as tf\n",
    "from tensorflow.keras import Input\n",
    "from tensorflow.keras.models import Sequential\n",
    "from tensorflow.keras.layers import Dense, Flatten, Rescaling, BatchNormalization, Dropout, LeakyReLU, Conv2D, MaxPooling2D\n",
    "from tensorflow.keras.optimizers import Adam, AdamW\n",
    "from tensorflow.keras.callbacks import TerminateOnNaN, EarlyStopping, ReduceLROnPlateau, ModelCheckpoint\n"
   ]
  },
  {
   "cell_type": "markdown",
   "id": "700a08b7",
   "metadata": {
    "papermill": {
     "duration": 0.00536,
     "end_time": "2025-10-15T09:03:13.080213",
     "exception": false,
     "start_time": "2025-10-15T09:03:13.074853",
     "status": "completed"
    },
    "tags": []
   },
   "source": [
    "Check if GPU is available for training the models."
   ]
  },
  {
   "cell_type": "code",
   "execution_count": 3,
   "id": "12c23f03",
   "metadata": {
    "ExecuteTime": {
     "end_time": "2024-10-26T00:00:21.031186Z",
     "start_time": "2024-10-26T00:00:17.131476Z"
    },
    "editable": true,
    "execution": {
     "iopub.execute_input": "2025-10-15T09:03:13.092321Z",
     "iopub.status.busy": "2025-10-15T09:03:13.091451Z",
     "iopub.status.idle": "2025-10-15T09:03:14.506453Z",
     "shell.execute_reply": "2025-10-15T09:03:14.505556Z"
    },
    "papermill": {
     "duration": 1.422399,
     "end_time": "2025-10-15T09:03:14.508012",
     "exception": false,
     "start_time": "2025-10-15T09:03:13.085613",
     "status": "completed"
    },
    "slideshow": {
     "slide_type": ""
    },
    "tags": []
   },
   "outputs": [
    {
     "name": "stdout",
     "output_type": "stream",
     "text": [
      "[PhysicalDevice(name='/physical_device:GPU:0', device_type='GPU')]\n"
     ]
    }
   ],
   "source": [
    "print(tf.config.list_physical_devices('GPU'))"
   ]
  },
  {
   "cell_type": "markdown",
   "id": "63a5e834",
   "metadata": {
    "papermill": {
     "duration": 0.006277,
     "end_time": "2025-10-15T09:03:14.521309",
     "exception": false,
     "start_time": "2025-10-15T09:03:14.515032",
     "status": "completed"
    },
    "tags": []
   },
   "source": [
    "### 0.2 Load the Dataset & Image Loader\n",
    "\n",
    "Before loading the dataset, set the path to the folder containing the images."
   ]
  },
  {
   "cell_type": "code",
   "execution_count": null,
   "id": "8dd10d7a",
   "metadata": {
    "execution": {
     "iopub.execute_input": "2025-10-15T09:03:14.535069Z",
     "iopub.status.busy": "2025-10-15T09:03:14.534752Z",
     "iopub.status.idle": "2025-10-15T09:03:14.538830Z",
     "shell.execute_reply": "2025-10-15T09:03:14.538056Z"
    },
    "papermill": {
     "duration": 0.012506,
     "end_time": "2025-10-15T09:03:14.540130",
     "exception": false,
     "start_time": "2025-10-15T09:03:14.527624",
     "status": "completed"
    },
    "tags": []
   },
   "outputs": [],
   "source": [
    "IMAGES_PATH = '/kaggle/input/xview-dataset/xview_recognition/'"
   ]
  },
  {
   "cell_type": "code",
   "execution_count": 5,
   "id": "3c783db6",
   "metadata": {
    "ExecuteTime": {
     "end_time": "2024-10-26T00:00:21.066937Z",
     "start_time": "2024-10-26T00:00:21.059126Z"
    },
    "editable": true,
    "execution": {
     "iopub.execute_input": "2025-10-15T09:03:14.554500Z",
     "iopub.status.busy": "2025-10-15T09:03:14.553737Z",
     "iopub.status.idle": "2025-10-15T09:03:14.559588Z",
     "shell.execute_reply": "2025-10-15T09:03:14.558947Z"
    },
    "id": "OYtqD3Oh-AMw",
    "papermill": {
     "duration": 0.014139,
     "end_time": "2025-10-15T09:03:14.560905",
     "exception": false,
     "start_time": "2025-10-15T09:03:14.546766",
     "status": "completed"
    },
    "slideshow": {
     "slide_type": ""
    },
    "tags": []
   },
   "outputs": [],
   "source": [
    "class GenericObject:\n",
    "    \"\"\"\n",
    "    Generic object data.\n",
    "    \"\"\"\n",
    "    def __init__(self):\n",
    "        self.id = uuid.uuid4()\n",
    "        self.bb = (-1, -1, -1, -1)\n",
    "        self.category= -1\n",
    "        self.score = -1\n",
    "\n",
    "class GenericImage:\n",
    "    \"\"\"\n",
    "    Generic image data.\n",
    "    \"\"\"\n",
    "    def __init__(self, filename):\n",
    "        self.filename = filename\n",
    "        self.tile = np.array([-1, -1, -1, -1])  # (pt_x, pt_y, pt_x+width, pt_y+height)\n",
    "        self.objects = list([])\n",
    "\n",
    "    def add_object(self, obj: GenericObject):\n",
    "        self.objects.append(obj)"
   ]
  },
  {
   "cell_type": "code",
   "execution_count": 6,
   "id": "1062ee1a",
   "metadata": {
    "ExecuteTime": {
     "end_time": "2024-10-26T00:00:21.153693Z",
     "start_time": "2024-10-26T00:00:21.149079Z"
    },
    "execution": {
     "iopub.execute_input": "2025-10-15T09:03:14.575177Z",
     "iopub.status.busy": "2025-10-15T09:03:14.574453Z",
     "iopub.status.idle": "2025-10-15T09:03:14.578685Z",
     "shell.execute_reply": "2025-10-15T09:03:14.578041Z"
    },
    "id": "I_GygShu-AMz",
    "papermill": {
     "duration": 0.012246,
     "end_time": "2025-10-15T09:03:14.579713",
     "exception": false,
     "start_time": "2025-10-15T09:03:14.567467",
     "status": "completed"
    },
    "tags": []
   },
   "outputs": [],
   "source": [
    "categories = {0: 'Cargo plane', 1: 'Small car', 2: 'Bus', 3: 'Truck', 4: 'Motorboat', 5: 'Fishing vessel', 6: 'Dump truck', 7: 'Excavator', 8: 'Building', 9: 'Helipad', 10: 'Storage tank', 11: 'Shipping container', 12: 'Pylon'}"
   ]
  },
  {
   "cell_type": "code",
   "execution_count": 7,
   "id": "6ed71b99",
   "metadata": {
    "ExecuteTime": {
     "end_time": "2024-10-26T00:00:21.292654Z",
     "start_time": "2024-10-26T00:00:21.205321Z"
    },
    "editable": true,
    "execution": {
     "iopub.execute_input": "2025-10-15T09:03:14.593956Z",
     "iopub.status.busy": "2025-10-15T09:03:14.593199Z",
     "iopub.status.idle": "2025-10-15T09:03:14.598745Z",
     "shell.execute_reply": "2025-10-15T09:03:14.597983Z"
    },
    "id": "fRBA7ReQ-AM0",
    "papermill": {
     "duration": 0.014099,
     "end_time": "2025-10-15T09:03:14.600094",
     "exception": false,
     "start_time": "2025-10-15T09:03:14.585995",
     "status": "completed"
    },
    "slideshow": {
     "slide_type": ""
    },
    "tags": []
   },
   "outputs": [],
   "source": [
    "def load_geoimage(filename):\n",
    "    warnings.filterwarnings('ignore', category=rasterio.errors.NotGeoreferencedWarning)\n",
    "    src_raster = rasterio.open(IMAGES_PATH + filename, 'r')\n",
    "    # RasterIO to OpenCV (see inconsistencies between libjpeg and libjpeg-turbo)\n",
    "    input_type = src_raster.profile['dtype']\n",
    "    input_channels = src_raster.count\n",
    "    img = np.zeros((src_raster.height, src_raster.width, src_raster.count), dtype=input_type)\n",
    "    for band in range(input_channels):\n",
    "        img[:, :, band] = src_raster.read(band+1)\n",
    "    return img"
   ]
  },
  {
   "cell_type": "code",
   "execution_count": 8,
   "id": "cdd3db88",
   "metadata": {
    "ExecuteTime": {
     "end_time": "2024-10-26T00:00:21.416449Z",
     "start_time": "2024-10-26T00:00:21.311510Z"
    },
    "editable": true,
    "execution": {
     "iopub.execute_input": "2025-10-15T09:03:14.614391Z",
     "iopub.status.busy": "2025-10-15T09:03:14.613971Z",
     "iopub.status.idle": "2025-10-15T09:03:14.756879Z",
     "shell.execute_reply": "2025-10-15T09:03:14.756186Z"
    },
    "id": "Orto292C-AM3",
    "papermill": {
     "duration": 0.151708,
     "end_time": "2025-10-15T09:03:14.758430",
     "exception": false,
     "start_time": "2025-10-15T09:03:14.606722",
     "status": "completed"
    },
    "slideshow": {
     "slide_type": ""
    },
    "tags": []
   },
   "outputs": [],
   "source": [
    "# Load database\n",
    "json_file = IMAGES_PATH + 'xview_ann_train.json'\n",
    "with open(json_file) as ifs:\n",
    "    json_data = json.load(ifs)\n",
    "ifs.close()"
   ]
  },
  {
   "cell_type": "code",
   "execution_count": 9,
   "id": "49200c90",
   "metadata": {
    "ExecuteTime": {
     "end_time": "2024-10-26T00:00:22.874518Z",
     "start_time": "2024-10-26T00:00:22.204948Z"
    },
    "execution": {
     "iopub.execute_input": "2025-10-15T09:03:14.772449Z",
     "iopub.status.busy": "2025-10-15T09:03:14.772157Z",
     "iopub.status.idle": "2025-10-15T09:03:15.183095Z",
     "shell.execute_reply": "2025-10-15T09:03:15.182188Z"
    },
    "id": "4GjFLHs4-AM4",
    "outputId": "5581df22-d4e9-42ac-9f94-061fd8c7acd9",
    "papermill": {
     "duration": 0.419367,
     "end_time": "2025-10-15T09:03:15.184504",
     "exception": false,
     "start_time": "2025-10-15T09:03:14.765137",
     "status": "completed"
    },
    "tags": []
   },
   "outputs": [
    {
     "name": "stdout",
     "output_type": "stream",
     "text": [
      "{'Cargo plane': 635, 'Small car': 3324, 'Bus': 1768, 'Truck': 2210, 'Motorboat': 1069, 'Fishing vessel': 706, 'Dump truck': 1236, 'Excavator': 789, 'Building': 3594, 'Helipad': 111, 'Storage tank': 1469, 'Shipping container': 1523, 'Pylon': 312}\n"
     ]
    }
   ],
   "source": [
    "counts = dict.fromkeys(categories.values(), 0)\n",
    "anns_dataset = []\n",
    "for json_img, json_ann in zip(json_data['images'].values(), json_data['annotations'].values()):\n",
    "    image = GenericImage(json_img['filename'])\n",
    "    image.tile = np.array([0, 0, json_img['width'], json_img['height']])\n",
    "    obj = GenericObject()\n",
    "    obj.bb = (int(json_ann['bbox'][0]), int(json_ann['bbox'][1]), int(json_ann['bbox'][2]), int(json_ann['bbox'][3]))\n",
    "    obj.category = json_ann['category_id']\n",
    "    # Resampling strategy to reduce training time\n",
    "    counts[obj.category] += 1\n",
    "    image.add_object(obj)\n",
    "    anns_dataset.append(image)\n",
    "print(counts)"
   ]
  },
  {
   "cell_type": "code",
   "execution_count": 10,
   "id": "be796ed1",
   "metadata": {
    "execution": {
     "iopub.execute_input": "2025-10-15T09:03:15.197995Z",
     "iopub.status.busy": "2025-10-15T09:03:15.197739Z",
     "iopub.status.idle": "2025-10-15T09:03:15.203144Z",
     "shell.execute_reply": "2025-10-15T09:03:15.202401Z"
    },
    "papermill": {
     "duration": 0.013596,
     "end_time": "2025-10-15T09:03:15.204454",
     "exception": false,
     "start_time": "2025-10-15T09:03:15.190858",
     "status": "completed"
    },
    "tags": []
   },
   "outputs": [],
   "source": [
    "def generator_images(objs, batch_size, do_shuffle=False):\n",
    "    while True:\n",
    "        if do_shuffle:\n",
    "            np.random.shuffle(objs)\n",
    "        groups = [objs[i:i+batch_size] for i in range(0, len(objs), batch_size)]\n",
    "        for group in groups:\n",
    "            images, labels = [], []\n",
    "            for (filename, obj) in group:\n",
    "                # Load image\n",
    "                images.append(load_geoimage(filename))\n",
    "                probabilities = np.zeros(len(categories))\n",
    "                probabilities[list(categories.values()).index(obj.category)] = 1\n",
    "                labels.append(probabilities)\n",
    "            images = np.array(images).astype(np.float32)\n",
    "            labels = np.array(labels).astype(np.float32)\n",
    "            yield images, labels"
   ]
  },
  {
   "cell_type": "markdown",
   "id": "b95216ec",
   "metadata": {
    "papermill": {
     "duration": 0.005781,
     "end_time": "2025-10-15T09:03:15.216041",
     "exception": false,
     "start_time": "2025-10-15T09:03:15.210260",
     "status": "completed"
    },
    "tags": []
   },
   "source": [
    "### 0.3 Setup"
   ]
  },
  {
   "cell_type": "code",
   "execution_count": 11,
   "id": "14027642",
   "metadata": {
    "execution": {
     "iopub.execute_input": "2025-10-15T09:03:15.228263Z",
     "iopub.status.busy": "2025-10-15T09:03:15.228057Z",
     "iopub.status.idle": "2025-10-15T09:03:15.232225Z",
     "shell.execute_reply": "2025-10-15T09:03:15.231469Z"
    },
    "papermill": {
     "duration": 0.011274,
     "end_time": "2025-10-15T09:03:15.233216",
     "exception": false,
     "start_time": "2025-10-15T09:03:15.221942",
     "status": "completed"
    },
    "tags": []
   },
   "outputs": [],
   "source": [
    "# Fix random seed for reproducibility\n",
    "RANDOM_SEED = 42\n",
    "def set_seed(seed_value):\n",
    "    np.random.seed(seed_value)\n",
    "    tf.random.set_seed(seed_value)\n",
    "set_seed(RANDOM_SEED)\n",
    "\n",
    "# Number of categories for classification\n",
    "NUM_CATEGORIES = len(categories)"
   ]
  },
  {
   "cell_type": "markdown",
   "id": "8f004f4a",
   "metadata": {
    "papermill": {
     "duration": 0.005138,
     "end_time": "2025-10-15T09:03:15.244096",
     "exception": false,
     "start_time": "2025-10-15T09:03:15.238958",
     "status": "completed"
    },
    "tags": []
   },
   "source": [
    "## 1 CNN Model\n",
    "\n",
    "Taking the best ffNN model as a baseline, we designed and trained a Convolutional Neural Network (CNN) to improve the results.\n",
    "\n",
    "**How to Improve the Model?**\n",
    "- Add **Data Augmentation** techniques to increase the diversity of the training data.\n",
    "- Include **Dropout Layers** to prevent overfitting and **Batch Normalization** to stabilize and accelerate training.\n",
    "- Network Architecture: Experiment with different architectures, such as adding more convolutional layers, changing filter sizes, and adjusting the number of neurons in dense layers.\n",
    "- Hyperparameter Tuning: Optimize learning rate, batch size, number of epochs, and optimizer \n",
    "\n",
    "---\n",
    "### Log of Changes\n",
    "\n",
    "- Model 1: Simplification of ffNN architecture to a CNN architecture -> RESULTS: Less training time, better validation accuracy.\n",
    "  - 1 Conv2D layer (32 filters, 3x3 kernel) followed by a single Softmax Dense layer (1).\n",
    "  - ReLU activation.\n",
    "  - Adam optimizer (learning rate: 1e-4).\n",
    "  - Epochs: 20\n",
    "  - Batch: 16\n",
    "- Model 2: FOCUS ON NETWORK ARCHITECTURE\n",
    "  - Test 1: 3 Conv2D layers (32, 64, 128 filters; 3x3 kernel) followed by a single Softmax Dense layer. -> RESULTS: Even less training time (1h) but slightly worse validation accuracy. Huge Overfitting (0.99 train acc vs 0.60 val acc).\n",
    "  - Test 2: Lets see what happens when Pooling layers are added after each Conv2D layer. --> RESULTS: Highest validation accuracy (0.64) so far, but still overfitting (0.93 train acc vs 0.64 val acc).\n"
   ]
  },
  {
   "cell_type": "markdown",
   "id": "10fee5a1",
   "metadata": {
    "papermill": {
     "duration": 0.005292,
     "end_time": "2025-10-15T09:03:15.254807",
     "exception": false,
     "start_time": "2025-10-15T09:03:15.249515",
     "status": "completed"
    },
    "tags": []
   },
   "source": [
    "### 1.1 Setup"
   ]
  },
  {
   "cell_type": "code",
   "execution_count": 12,
   "id": "80d541c1",
   "metadata": {
    "execution": {
     "iopub.execute_input": "2025-10-15T09:03:15.266602Z",
     "iopub.status.busy": "2025-10-15T09:03:15.266354Z",
     "iopub.status.idle": "2025-10-15T09:03:15.303694Z",
     "shell.execute_reply": "2025-10-15T09:03:15.303034Z"
    },
    "papermill": {
     "duration": 0.044644,
     "end_time": "2025-10-15T09:03:15.304842",
     "exception": false,
     "start_time": "2025-10-15T09:03:15.260198",
     "status": "completed"
    },
    "tags": []
   },
   "outputs": [
    {
     "name": "stdout",
     "output_type": "stream",
     "text": [
      "Number of training images: 16871\n",
      "Number of validation images: 1875\n"
     ]
    }
   ],
   "source": [
    "train2, val2 = train_test_split(anns_dataset,\n",
    "                                test_size=0.1, \n",
    "                                random_state=RANDOM_SEED, \n",
    "                                stratify=[obj.category for ann in anns_dataset for obj in ann.objects])\n",
    "print('Number of training images: ' + str(len(train2)))\n",
    "print('Number of validation images: ' + str(len(val2)))"
   ]
  },
  {
   "cell_type": "code",
   "execution_count": null,
   "id": "a3d9efaa",
   "metadata": {
    "execution": {
     "iopub.execute_input": "2025-10-15T09:03:15.333021Z",
     "iopub.status.busy": "2025-10-15T09:03:15.332843Z",
     "iopub.status.idle": "2025-10-15T09:03:17.717044Z",
     "shell.execute_reply": "2025-10-15T09:03:17.716339Z"
    },
    "papermill": {
     "duration": 2.391617,
     "end_time": "2025-10-15T09:03:17.718525",
     "exception": false,
     "start_time": "2025-10-15T09:03:15.326908",
     "status": "completed"
    },
    "tags": []
   },
   "outputs": [
    {
     "name": "stdout",
     "output_type": "stream",
     "text": [
      "Compiling the model...\n"
     ]
    },
    {
     "name": "stderr",
     "output_type": "stream",
     "text": [
      "I0000 00:00:1760794560.841348  109253 gpu_device.cc:2022] Created device /job:localhost/replica:0/task:0/device:GPU:0 with 1751 MB memory:  -> device: 0, name: NVIDIA GeForce RTX 3050 Ti Laptop GPU, pci bus id: 0000:01:00.0, compute capability: 8.6\n"
     ]
    },
    {
     "data": {
      "text/html": [
       "<pre style=\"white-space:pre;overflow-x:auto;line-height:normal;font-family:Menlo,'DejaVu Sans Mono',consolas,'Courier New',monospace\"><span style=\"font-weight: bold\">Model: \"sequential\"</span>\n",
       "</pre>\n"
      ],
      "text/plain": [
       "\u001b[1mModel: \"sequential\"\u001b[0m\n"
      ]
     },
     "metadata": {},
     "output_type": "display_data"
    },
    {
     "data": {
      "text/html": [
       "<pre style=\"white-space:pre;overflow-x:auto;line-height:normal;font-family:Menlo,'DejaVu Sans Mono',consolas,'Courier New',monospace\">┏━━━━━━━━━━━━━━━━━━━━━━━━━━━━━━━━━┳━━━━━━━━━━━━━━━━━━━━━━━━┳━━━━━━━━━━━━━━━┓\n",
       "┃<span style=\"font-weight: bold\"> Layer (type)                    </span>┃<span style=\"font-weight: bold\"> Output Shape           </span>┃<span style=\"font-weight: bold\">       Param # </span>┃\n",
       "┡━━━━━━━━━━━━━━━━━━━━━━━━━━━━━━━━━╇━━━━━━━━━━━━━━━━━━━━━━━━╇━━━━━━━━━━━━━━━┩\n",
       "│ rescaling (<span style=\"color: #0087ff; text-decoration-color: #0087ff\">Rescaling</span>)           │ (<span style=\"color: #00d7ff; text-decoration-color: #00d7ff\">None</span>, <span style=\"color: #00af00; text-decoration-color: #00af00\">224</span>, <span style=\"color: #00af00; text-decoration-color: #00af00\">224</span>, <span style=\"color: #00af00; text-decoration-color: #00af00\">3</span>)    │             <span style=\"color: #00af00; text-decoration-color: #00af00\">0</span> │\n",
       "├─────────────────────────────────┼────────────────────────┼───────────────┤\n",
       "│ conv2d (<span style=\"color: #0087ff; text-decoration-color: #0087ff\">Conv2D</span>)                 │ (<span style=\"color: #00d7ff; text-decoration-color: #00d7ff\">None</span>, <span style=\"color: #00af00; text-decoration-color: #00af00\">222</span>, <span style=\"color: #00af00; text-decoration-color: #00af00\">222</span>, <span style=\"color: #00af00; text-decoration-color: #00af00\">32</span>)   │           <span style=\"color: #00af00; text-decoration-color: #00af00\">896</span> │\n",
       "├─────────────────────────────────┼────────────────────────┼───────────────┤\n",
       "│ conv2d_1 (<span style=\"color: #0087ff; text-decoration-color: #0087ff\">Conv2D</span>)               │ (<span style=\"color: #00d7ff; text-decoration-color: #00d7ff\">None</span>, <span style=\"color: #00af00; text-decoration-color: #00af00\">220</span>, <span style=\"color: #00af00; text-decoration-color: #00af00\">220</span>, <span style=\"color: #00af00; text-decoration-color: #00af00\">64</span>)   │        <span style=\"color: #00af00; text-decoration-color: #00af00\">18,496</span> │\n",
       "├─────────────────────────────────┼────────────────────────┼───────────────┤\n",
       "│ conv2d_2 (<span style=\"color: #0087ff; text-decoration-color: #0087ff\">Conv2D</span>)               │ (<span style=\"color: #00d7ff; text-decoration-color: #00d7ff\">None</span>, <span style=\"color: #00af00; text-decoration-color: #00af00\">218</span>, <span style=\"color: #00af00; text-decoration-color: #00af00\">218</span>, <span style=\"color: #00af00; text-decoration-color: #00af00\">128</span>)  │        <span style=\"color: #00af00; text-decoration-color: #00af00\">73,856</span> │\n",
       "├─────────────────────────────────┼────────────────────────┼───────────────┤\n",
       "│ flatten (<span style=\"color: #0087ff; text-decoration-color: #0087ff\">Flatten</span>)               │ (<span style=\"color: #00d7ff; text-decoration-color: #00d7ff\">None</span>, <span style=\"color: #00af00; text-decoration-color: #00af00\">6083072</span>)        │             <span style=\"color: #00af00; text-decoration-color: #00af00\">0</span> │\n",
       "├─────────────────────────────────┼────────────────────────┼───────────────┤\n",
       "│ dense (<span style=\"color: #0087ff; text-decoration-color: #0087ff\">Dense</span>)                   │ (<span style=\"color: #00d7ff; text-decoration-color: #00d7ff\">None</span>, <span style=\"color: #00af00; text-decoration-color: #00af00\">13</span>)             │    <span style=\"color: #00af00; text-decoration-color: #00af00\">79,079,949</span> │\n",
       "└─────────────────────────────────┴────────────────────────┴───────────────┘\n",
       "</pre>\n"
      ],
      "text/plain": [
       "┏━━━━━━━━━━━━━━━━━━━━━━━━━━━━━━━━━┳━━━━━━━━━━━━━━━━━━━━━━━━┳━━━━━━━━━━━━━━━┓\n",
       "┃\u001b[1m \u001b[0m\u001b[1mLayer (type)                   \u001b[0m\u001b[1m \u001b[0m┃\u001b[1m \u001b[0m\u001b[1mOutput Shape          \u001b[0m\u001b[1m \u001b[0m┃\u001b[1m \u001b[0m\u001b[1m      Param #\u001b[0m\u001b[1m \u001b[0m┃\n",
       "┡━━━━━━━━━━━━━━━━━━━━━━━━━━━━━━━━━╇━━━━━━━━━━━━━━━━━━━━━━━━╇━━━━━━━━━━━━━━━┩\n",
       "│ rescaling (\u001b[38;5;33mRescaling\u001b[0m)           │ (\u001b[38;5;45mNone\u001b[0m, \u001b[38;5;34m224\u001b[0m, \u001b[38;5;34m224\u001b[0m, \u001b[38;5;34m3\u001b[0m)    │             \u001b[38;5;34m0\u001b[0m │\n",
       "├─────────────────────────────────┼────────────────────────┼───────────────┤\n",
       "│ conv2d (\u001b[38;5;33mConv2D\u001b[0m)                 │ (\u001b[38;5;45mNone\u001b[0m, \u001b[38;5;34m222\u001b[0m, \u001b[38;5;34m222\u001b[0m, \u001b[38;5;34m32\u001b[0m)   │           \u001b[38;5;34m896\u001b[0m │\n",
       "├─────────────────────────────────┼────────────────────────┼───────────────┤\n",
       "│ conv2d_1 (\u001b[38;5;33mConv2D\u001b[0m)               │ (\u001b[38;5;45mNone\u001b[0m, \u001b[38;5;34m220\u001b[0m, \u001b[38;5;34m220\u001b[0m, \u001b[38;5;34m64\u001b[0m)   │        \u001b[38;5;34m18,496\u001b[0m │\n",
       "├─────────────────────────────────┼────────────────────────┼───────────────┤\n",
       "│ conv2d_2 (\u001b[38;5;33mConv2D\u001b[0m)               │ (\u001b[38;5;45mNone\u001b[0m, \u001b[38;5;34m218\u001b[0m, \u001b[38;5;34m218\u001b[0m, \u001b[38;5;34m128\u001b[0m)  │        \u001b[38;5;34m73,856\u001b[0m │\n",
       "├─────────────────────────────────┼────────────────────────┼───────────────┤\n",
       "│ flatten (\u001b[38;5;33mFlatten\u001b[0m)               │ (\u001b[38;5;45mNone\u001b[0m, \u001b[38;5;34m6083072\u001b[0m)        │             \u001b[38;5;34m0\u001b[0m │\n",
       "├─────────────────────────────────┼────────────────────────┼───────────────┤\n",
       "│ dense (\u001b[38;5;33mDense\u001b[0m)                   │ (\u001b[38;5;45mNone\u001b[0m, \u001b[38;5;34m13\u001b[0m)             │    \u001b[38;5;34m79,079,949\u001b[0m │\n",
       "└─────────────────────────────────┴────────────────────────┴───────────────┘\n"
      ]
     },
     "metadata": {},
     "output_type": "display_data"
    },
    {
     "data": {
      "text/html": [
       "<pre style=\"white-space:pre;overflow-x:auto;line-height:normal;font-family:Menlo,'DejaVu Sans Mono',consolas,'Courier New',monospace\"><span style=\"font-weight: bold\"> Total params: </span><span style=\"color: #00af00; text-decoration-color: #00af00\">79,173,197</span> (302.02 MB)\n",
       "</pre>\n"
      ],
      "text/plain": [
       "\u001b[1m Total params: \u001b[0m\u001b[38;5;34m79,173,197\u001b[0m (302.02 MB)\n"
      ]
     },
     "metadata": {},
     "output_type": "display_data"
    },
    {
     "data": {
      "text/html": [
       "<pre style=\"white-space:pre;overflow-x:auto;line-height:normal;font-family:Menlo,'DejaVu Sans Mono',consolas,'Courier New',monospace\"><span style=\"font-weight: bold\"> Trainable params: </span><span style=\"color: #00af00; text-decoration-color: #00af00\">79,173,197</span> (302.02 MB)\n",
       "</pre>\n"
      ],
      "text/plain": [
       "\u001b[1m Trainable params: \u001b[0m\u001b[38;5;34m79,173,197\u001b[0m (302.02 MB)\n"
      ]
     },
     "metadata": {},
     "output_type": "display_data"
    },
    {
     "data": {
      "text/html": [
       "<pre style=\"white-space:pre;overflow-x:auto;line-height:normal;font-family:Menlo,'DejaVu Sans Mono',consolas,'Courier New',monospace\"><span style=\"font-weight: bold\"> Non-trainable params: </span><span style=\"color: #00af00; text-decoration-color: #00af00\">0</span> (0.00 B)\n",
       "</pre>\n"
      ],
      "text/plain": [
       "\u001b[1m Non-trainable params: \u001b[0m\u001b[38;5;34m0\u001b[0m (0.00 B)\n"
      ]
     },
     "metadata": {},
     "output_type": "display_data"
    }
   ],
   "source": [
    "print('Compiling the model...')\n",
    "\n",
    "\n",
    "# Conv2D(filters, kernel_size, strides=(1, 1), padding='valid', data_format=None, dilation_rate=(1, 1), \n",
    "# groups=1, activation=None, use_bias=True, kernel_initializer='glorot_uniform', bias_initializer='zeros', \n",
    "# kernel_regularizer=None, bias_regularizer=None, activity_regularizer=None, kernel_constraint=None, bias_constraint=None, **kwargs)\n",
    "\n",
    "model = Sequential([\n",
    "    Input(shape=(224, 224, 3)), # 224x224 images with 3 channels (RGB)\n",
    "    Rescaling(1./255), # Rescale pixel values to [0, 1]\n",
    "\n",
    "    # --- Feature extraction ---\n",
    "\n",
    "    Conv2D(32, (3, 3), activation='relu'), # Convolution with 32 filters and 3x3 kernel\n",
    "    MaxPooling2D((2, 2)),\n",
    "\n",
    "    Conv2D(64, (3, 3), activation='relu'), # Convolution with 64 filters and 3x3 kernel\n",
    "    MaxPooling2D((2, 2)),\n",
    "\n",
    "    Conv2D(128, (3, 3), activation='relu'), # Convolution with 128 filters and 3x3 kernel\n",
    "    MaxPooling2D((2, 2)),\n",
    "\n",
    "    # --- Classification ---\n",
    "    Flatten(),\n",
    "\n",
    "    Dense(NUM_CATEGORIES, activation='softmax') # Output layer with softmax activation\n",
    "])\n",
    "\n",
    "model.summary()\n",
    "\n",
    "\n",
    "opt =  Adam(learning_rate=1e-4)\n",
    "model.compile(optimizer=opt, loss='categorical_crossentropy', metrics=['accuracy'])"
   ]
  },
  {
   "cell_type": "code",
   "execution_count": 14,
   "id": "4086028a",
   "metadata": {
    "execution": {
     "iopub.execute_input": "2025-10-15T09:03:17.735397Z",
     "iopub.status.busy": "2025-10-15T09:03:17.734730Z",
     "iopub.status.idle": "2025-10-15T09:03:17.739851Z",
     "shell.execute_reply": "2025-10-15T09:03:17.739101Z"
    },
    "papermill": {
     "duration": 0.014734,
     "end_time": "2025-10-15T09:03:17.741138",
     "exception": false,
     "start_time": "2025-10-15T09:03:17.726404",
     "status": "completed"
    },
    "tags": []
   },
   "outputs": [],
   "source": [
    "# Callbacks\n",
    "MODEL_NAME = 'ffNN_model.keras'\n",
    "\n",
    "model_checkpoint = ModelCheckpoint(MODEL_NAME, monitor='val_accuracy', verbose=1, save_best_only=True)\n",
    "reduce_lr = ReduceLROnPlateau(monitor='val_accuracy', factor=0.1, patience=10, verbose=1)\n",
    "early_stop = EarlyStopping(monitor='val_accuracy', patience=20, verbose=1)\n",
    "terminate = TerminateOnNaN()\n",
    "callbacks = [model_checkpoint, reduce_lr, early_stop, terminate]"
   ]
  },
  {
   "cell_type": "code",
   "execution_count": 15,
   "id": "77f1674b",
   "metadata": {
    "execution": {
     "iopub.execute_input": "2025-10-15T09:03:17.757286Z",
     "iopub.status.busy": "2025-10-15T09:03:17.756466Z",
     "iopub.status.idle": "2025-10-15T09:03:17.779389Z",
     "shell.execute_reply": "2025-10-15T09:03:17.778733Z"
    },
    "papermill": {
     "duration": 0.032129,
     "end_time": "2025-10-15T09:03:17.780750",
     "exception": false,
     "start_time": "2025-10-15T09:03:17.748621",
     "status": "completed"
    },
    "tags": []
   },
   "outputs": [],
   "source": [
    "# Generate the list of objects from annotations\n",
    "objs_train = [(ann.filename, obj) for ann in train2 for obj in ann.objects]\n",
    "objs_valid = [(ann.filename, obj) for ann in val2 for obj in ann.objects]\n",
    "\n",
    "# Generators\n",
    "BATCH_SIZE = 16\n",
    "train_generator = generator_images(objs_train, BATCH_SIZE, do_shuffle=True)\n",
    "valid_generator = generator_images(objs_valid, BATCH_SIZE, do_shuffle=False)"
   ]
  },
  {
   "cell_type": "markdown",
   "id": "07d0405f",
   "metadata": {
    "papermill": {
     "duration": 0.006815,
     "end_time": "2025-10-15T09:03:17.795214",
     "exception": false,
     "start_time": "2025-10-15T09:03:17.788399",
     "status": "completed"
    },
    "tags": []
   },
   "source": [
    "### 1.2 Training"
   ]
  },
  {
   "cell_type": "code",
   "execution_count": null,
   "id": "21008c81",
   "metadata": {
    "execution": {
     "iopub.execute_input": "2025-10-15T09:03:17.819509Z",
     "iopub.status.busy": "2025-10-15T09:03:17.818953Z",
     "iopub.status.idle": "2025-10-15T10:47:12.145658Z",
     "shell.execute_reply": "2025-10-15T10:47:12.144683Z"
    },
    "papermill": {
     "duration": 6234.34475,
     "end_time": "2025-10-15T10:47:12.147114",
     "exception": false,
     "start_time": "2025-10-15T09:03:17.802364",
     "status": "completed"
    },
    "tags": []
   },
   "outputs": [
    {
     "name": "stdout",
     "output_type": "stream",
     "text": [
      "Training model...\n",
      "Epoch 1/20\n"
     ]
    },
    {
     "name": "stderr",
     "output_type": "stream",
     "text": [
      "I0000 00:00:1760794573.476492  110194 service.cc:148] XLA service 0x793d78017b60 initialized for platform CUDA (this does not guarantee that XLA will be used). Devices:\n",
      "I0000 00:00:1760794573.476539  110194 service.cc:156]   StreamExecutor device (0): NVIDIA GeForce RTX 3050 Ti Laptop GPU, Compute Capability 8.6\n",
      "2025-10-18 15:36:13.537970: I tensorflow/compiler/mlir/tensorflow/utils/dump_mlir_util.cc:268] disabling MLIR crash reproducer, set env var `MLIR_CRASH_REPRODUCER_DIRECTORY` to enable.\n",
      "I0000 00:00:1760794573.691529  110194 cuda_dnn.cc:529] Loaded cuDNN version 90101\n",
      "2025-10-18 15:36:24.418284: W external/local_xla/xla/tsl/framework/bfc_allocator.cc:497] Allocator (GPU_0_bfc) ran out of memory trying to allocate 371.28MiB (rounded to 389316608)requested by op \n",
      "2025-10-18 15:36:24.418352: I external/local_xla/xla/tsl/framework/bfc_allocator.cc:1053] BFCAllocator dump for GPU_0_bfc\n",
      "2025-10-18 15:36:24.418359: I external/local_xla/xla/tsl/framework/bfc_allocator.cc:1060] Bin (256): \tTotal Chunks: 21, Chunks in use: 21. 5.2KiB allocated for chunks. 5.2KiB in use in bin. 944B client-requested in use in bin.\n",
      "2025-10-18 15:36:24.418362: I external/local_xla/xla/tsl/framework/bfc_allocator.cc:1060] Bin (512): \tTotal Chunks: 2, Chunks in use: 2. 1.0KiB allocated for chunks. 1.0KiB in use in bin. 1.0KiB client-requested in use in bin.\n",
      "2025-10-18 15:36:24.418365: I external/local_xla/xla/tsl/framework/bfc_allocator.cc:1060] Bin (1024): \tTotal Chunks: 2, Chunks in use: 2. 2.2KiB allocated for chunks. 2.2KiB in use in bin. 1.8KiB client-requested in use in bin.\n",
      "2025-10-18 15:36:24.418369: I external/local_xla/xla/tsl/framework/bfc_allocator.cc:1060] Bin (2048): \tTotal Chunks: 2, Chunks in use: 2. 7.0KiB allocated for chunks. 7.0KiB in use in bin. 6.8KiB client-requested in use in bin.\n",
      "2025-10-18 15:36:24.418372: I external/local_xla/xla/tsl/framework/bfc_allocator.cc:1060] Bin (4096): \tTotal Chunks: 0, Chunks in use: 0. 0B allocated for chunks. 0B in use in bin. 0B client-requested in use in bin.\n",
      "2025-10-18 15:36:24.418374: I external/local_xla/xla/tsl/framework/bfc_allocator.cc:1060] Bin (8192): \tTotal Chunks: 0, Chunks in use: 0. 0B allocated for chunks. 0B in use in bin. 0B client-requested in use in bin.\n",
      "2025-10-18 15:36:24.418377: I external/local_xla/xla/tsl/framework/bfc_allocator.cc:1060] Bin (16384): \tTotal Chunks: 0, Chunks in use: 0. 0B allocated for chunks. 0B in use in bin. 0B client-requested in use in bin.\n",
      "2025-10-18 15:36:24.418379: I external/local_xla/xla/tsl/framework/bfc_allocator.cc:1060] Bin (32768): \tTotal Chunks: 0, Chunks in use: 0. 0B allocated for chunks. 0B in use in bin. 0B client-requested in use in bin.\n",
      "2025-10-18 15:36:24.418382: I external/local_xla/xla/tsl/framework/bfc_allocator.cc:1060] Bin (65536): \tTotal Chunks: 1, Chunks in use: 1. 72.0KiB allocated for chunks. 72.0KiB in use in bin. 72.0KiB client-requested in use in bin.\n",
      "2025-10-18 15:36:24.418385: I external/local_xla/xla/tsl/framework/bfc_allocator.cc:1060] Bin (131072): \tTotal Chunks: 1, Chunks in use: 1. 143.2KiB allocated for chunks. 143.2KiB in use in bin. 72.0KiB client-requested in use in bin.\n",
      "2025-10-18 15:36:24.418388: I external/local_xla/xla/tsl/framework/bfc_allocator.cc:1060] Bin (262144): \tTotal Chunks: 1, Chunks in use: 1. 288.0KiB allocated for chunks. 288.0KiB in use in bin. 288.0KiB client-requested in use in bin.\n",
      "2025-10-18 15:36:24.418390: I external/local_xla/xla/tsl/framework/bfc_allocator.cc:1060] Bin (524288): \tTotal Chunks: 1, Chunks in use: 1. 575.8KiB allocated for chunks. 575.8KiB in use in bin. 288.0KiB client-requested in use in bin.\n",
      "2025-10-18 15:36:24.418392: I external/local_xla/xla/tsl/framework/bfc_allocator.cc:1060] Bin (1048576): \tTotal Chunks: 0, Chunks in use: 0. 0B allocated for chunks. 0B in use in bin. 0B client-requested in use in bin.\n",
      "2025-10-18 15:36:24.418395: I external/local_xla/xla/tsl/framework/bfc_allocator.cc:1060] Bin (2097152): \tTotal Chunks: 0, Chunks in use: 0. 0B allocated for chunks. 0B in use in bin. 0B client-requested in use in bin.\n",
      "2025-10-18 15:36:24.418397: I external/local_xla/xla/tsl/framework/bfc_allocator.cc:1060] Bin (4194304): \tTotal Chunks: 0, Chunks in use: 0. 0B allocated for chunks. 0B in use in bin. 0B client-requested in use in bin.\n",
      "2025-10-18 15:36:24.418400: I external/local_xla/xla/tsl/framework/bfc_allocator.cc:1060] Bin (8388608): \tTotal Chunks: 1, Chunks in use: 1. 9.19MiB allocated for chunks. 9.19MiB in use in bin. 9.19MiB client-requested in use in bin.\n",
      "2025-10-18 15:36:24.418403: I external/local_xla/xla/tsl/framework/bfc_allocator.cc:1060] Bin (16777216): \tTotal Chunks: 4, Chunks in use: 4. 64.00MiB allocated for chunks. 64.00MiB in use in bin. 64.00MiB client-requested in use in bin.\n",
      "2025-10-18 15:36:24.418405: I external/local_xla/xla/tsl/framework/bfc_allocator.cc:1060] Bin (33554432): \tTotal Chunks: 0, Chunks in use: 0. 0B allocated for chunks. 0B in use in bin. 0B client-requested in use in bin.\n",
      "2025-10-18 15:36:24.418407: I external/local_xla/xla/tsl/framework/bfc_allocator.cc:1060] Bin (67108864): \tTotal Chunks: 0, Chunks in use: 0. 0B allocated for chunks. 0B in use in bin. 0B client-requested in use in bin.\n",
      "2025-10-18 15:36:24.418410: I external/local_xla/xla/tsl/framework/bfc_allocator.cc:1060] Bin (134217728): \tTotal Chunks: 2, Chunks in use: 0. 385.16MiB allocated for chunks. 0B in use in bin. 0B client-requested in use in bin.\n",
      "2025-10-18 15:36:24.418412: I external/local_xla/xla/tsl/framework/bfc_allocator.cc:1060] Bin (268435456): \tTotal Chunks: 4, Chunks in use: 4. 1.26GiB allocated for chunks. 1.26GiB in use in bin. 1.26GiB client-requested in use in bin.\n",
      "2025-10-18 15:36:24.418418: I external/local_xla/xla/tsl/framework/bfc_allocator.cc:1076] Bin for 371.28MiB was 256.00MiB, Chunk State: \n",
      "2025-10-18 15:36:24.418420: I external/local_xla/xla/tsl/framework/bfc_allocator.cc:1089] Next region of size 1836790528\n",
      "2025-10-18 15:36:24.418511: I external/local_xla/xla/tsl/framework/bfc_allocator.cc:1109] InUse at 604c00000 of size 1280 next 1\n",
      "2025-10-18 15:36:24.418515: I external/local_xla/xla/tsl/framework/bfc_allocator.cc:1109] InUse at 604c00500 of size 256 next 2\n",
      "2025-10-18 15:36:24.418517: I external/local_xla/xla/tsl/framework/bfc_allocator.cc:1109] InUse at 604c00600 of size 256 next 3\n",
      "2025-10-18 15:36:24.418519: I external/local_xla/xla/tsl/framework/bfc_allocator.cc:1109] InUse at 604c00700 of size 256 next 4\n",
      "2025-10-18 15:36:24.418521: I external/local_xla/xla/tsl/framework/bfc_allocator.cc:1109] InUse at 604c00800 of size 256 next 5\n",
      "2025-10-18 15:36:24.418522: I external/local_xla/xla/tsl/framework/bfc_allocator.cc:1109] InUse at 604c00900 of size 256 next 7\n",
      "2025-10-18 15:36:24.418524: I external/local_xla/xla/tsl/framework/bfc_allocator.cc:1109] InUse at 604c00a00 of size 256 next 8\n",
      "2025-10-18 15:36:24.418526: I external/local_xla/xla/tsl/framework/bfc_allocator.cc:1109] InUse at 604c00b00 of size 256 next 6\n",
      "2025-10-18 15:36:24.418528: I external/local_xla/xla/tsl/framework/bfc_allocator.cc:1109] InUse at 604c00c00 of size 256 next 9\n",
      "2025-10-18 15:36:24.418529: I external/local_xla/xla/tsl/framework/bfc_allocator.cc:1109] InUse at 604c00d00 of size 256 next 14\n",
      "2025-10-18 15:36:24.418531: I external/local_xla/xla/tsl/framework/bfc_allocator.cc:1109] InUse at 604c00e00 of size 256 next 12\n",
      "2025-10-18 15:36:24.418534: I external/local_xla/xla/tsl/framework/bfc_allocator.cc:1109] InUse at 604c00f00 of size 512 next 13\n",
      "2025-10-18 15:36:24.418535: I external/local_xla/xla/tsl/framework/bfc_allocator.cc:1109] InUse at 604c01100 of size 256 next 19\n",
      "2025-10-18 15:36:24.418537: I external/local_xla/xla/tsl/framework/bfc_allocator.cc:1109] InUse at 604c01200 of size 256 next 17\n",
      "2025-10-18 15:36:24.418539: I external/local_xla/xla/tsl/framework/bfc_allocator.cc:1109] InUse at 604c01300 of size 256 next 18\n",
      "2025-10-18 15:36:24.418541: I external/local_xla/xla/tsl/framework/bfc_allocator.cc:1109] InUse at 604c01400 of size 256 next 24\n",
      "2025-10-18 15:36:24.418543: I external/local_xla/xla/tsl/framework/bfc_allocator.cc:1109] InUse at 604c01500 of size 256 next 22\n",
      "2025-10-18 15:36:24.418545: I external/local_xla/xla/tsl/framework/bfc_allocator.cc:1109] InUse at 604c01600 of size 256 next 23\n",
      "2025-10-18 15:36:24.418547: I external/local_xla/xla/tsl/framework/bfc_allocator.cc:1109] InUse at 604c01700 of size 512 next 28\n",
      "2025-10-18 15:36:24.418548: I external/local_xla/xla/tsl/framework/bfc_allocator.cc:1109] InUse at 604c01900 of size 256 next 29\n",
      "2025-10-18 15:36:24.418550: I external/local_xla/xla/tsl/framework/bfc_allocator.cc:1109] InUse at 604c01a00 of size 3584 next 10\n",
      "2025-10-18 15:36:24.418553: I external/local_xla/xla/tsl/framework/bfc_allocator.cc:1109] InUse at 604c02800 of size 3584 next 11\n",
      "2025-10-18 15:36:24.418555: I external/local_xla/xla/tsl/framework/bfc_allocator.cc:1109] InUse at 604c03600 of size 256 next 30\n",
      "2025-10-18 15:36:24.418556: I external/local_xla/xla/tsl/framework/bfc_allocator.cc:1109] InUse at 604c03700 of size 256 next 31\n",
      "2025-10-18 15:36:24.418558: I external/local_xla/xla/tsl/framework/bfc_allocator.cc:1109] InUse at 604c03800 of size 256 next 32\n",
      "2025-10-18 15:36:24.418560: I external/local_xla/xla/tsl/framework/bfc_allocator.cc:1109] InUse at 604c03900 of size 146688 next 16\n",
      "2025-10-18 15:36:24.418563: I external/local_xla/xla/tsl/framework/bfc_allocator.cc:1109] InUse at 604c27600 of size 73728 next 15\n",
      "2025-10-18 15:36:24.418565: I external/local_xla/xla/tsl/framework/bfc_allocator.cc:1109] InUse at 604c39600 of size 256 next 33\n",
      "2025-10-18 15:36:24.418567: I external/local_xla/xla/tsl/framework/bfc_allocator.cc:1109] InUse at 604c39700 of size 589568 next 21\n",
      "2025-10-18 15:36:24.418569: I external/local_xla/xla/tsl/framework/bfc_allocator.cc:1109] InUse at 604cc9600 of size 294912 next 20\n",
      "2025-10-18 15:36:24.418572: I external/local_xla/xla/tsl/framework/bfc_allocator.cc:1109] InUse at 604d11600 of size 316319744 next 27\n",
      "2025-10-18 15:36:24.418574: I external/local_xla/xla/tsl/framework/bfc_allocator.cc:1109] InUse at 617abbe00 of size 1024 next 34\n",
      "2025-10-18 15:36:24.418576: I external/local_xla/xla/tsl/framework/bfc_allocator.cc:1109] InUse at 617abc200 of size 9633792 next 35\n",
      "2025-10-18 15:36:24.418578: I external/local_xla/xla/tsl/framework/bfc_allocator.cc:1109] InUse at 6183ec200 of size 16778240 next 36\n",
      "2025-10-18 15:36:24.418580: I external/local_xla/xla/tsl/framework/bfc_allocator.cc:1109] InUse at 6193ec600 of size 16777472 next 37\n",
      "2025-10-18 15:36:24.418581: I external/local_xla/xla/tsl/framework/bfc_allocator.cc:1109] InUse at 61a3ec700 of size 16777472 next 38\n",
      "2025-10-18 15:36:24.418583: I external/local_xla/xla/tsl/framework/bfc_allocator.cc:1109] InUse at 61b3ec800 of size 16778240 next 39\n",
      "2025-10-18 15:36:24.418585: I external/local_xla/xla/tsl/framework/bfc_allocator.cc:1109] Free  at 61c3ecc00 of size 239573504 next 26\n",
      "2025-10-18 15:36:24.418587: I external/local_xla/xla/tsl/framework/bfc_allocator.cc:1109] InUse at 62a866600 of size 316319744 next 25\n",
      "2025-10-18 15:36:24.418589: I external/local_xla/xla/tsl/framework/bfc_allocator.cc:1109] InUse at 63d610e00 of size 333096960 next 40\n",
      "2025-10-18 15:36:24.418591: I external/local_xla/xla/tsl/framework/bfc_allocator.cc:1109] InUse at 6513bb600 of size 389316608 next 41\n",
      "2025-10-18 15:36:24.418593: I external/local_xla/xla/tsl/framework/bfc_allocator.cc:1109] Free  at 668703600 of size 164297984 next 18446744073709551615\n",
      "2025-10-18 15:36:24.418595: I external/local_xla/xla/tsl/framework/bfc_allocator.cc:1114]      Summary of in-use Chunks by size: \n",
      "2025-10-18 15:36:24.418599: I external/local_xla/xla/tsl/framework/bfc_allocator.cc:1117] 21 Chunks of size 256 totalling 5.2KiB\n",
      "2025-10-18 15:36:24.418601: I external/local_xla/xla/tsl/framework/bfc_allocator.cc:1117] 2 Chunks of size 512 totalling 1.0KiB\n",
      "2025-10-18 15:36:24.418603: I external/local_xla/xla/tsl/framework/bfc_allocator.cc:1117] 1 Chunks of size 1024 totalling 1.0KiB\n",
      "2025-10-18 15:36:24.418606: I external/local_xla/xla/tsl/framework/bfc_allocator.cc:1117] 1 Chunks of size 1280 totalling 1.2KiB\n",
      "2025-10-18 15:36:24.418608: I external/local_xla/xla/tsl/framework/bfc_allocator.cc:1117] 2 Chunks of size 3584 totalling 7.0KiB\n",
      "2025-10-18 15:36:24.418610: I external/local_xla/xla/tsl/framework/bfc_allocator.cc:1117] 1 Chunks of size 73728 totalling 72.0KiB\n",
      "2025-10-18 15:36:24.418612: I external/local_xla/xla/tsl/framework/bfc_allocator.cc:1117] 1 Chunks of size 146688 totalling 143.2KiB\n",
      "2025-10-18 15:36:24.418614: I external/local_xla/xla/tsl/framework/bfc_allocator.cc:1117] 1 Chunks of size 294912 totalling 288.0KiB\n",
      "2025-10-18 15:36:24.418616: I external/local_xla/xla/tsl/framework/bfc_allocator.cc:1117] 1 Chunks of size 589568 totalling 575.8KiB\n",
      "2025-10-18 15:36:24.418618: I external/local_xla/xla/tsl/framework/bfc_allocator.cc:1117] 1 Chunks of size 9633792 totalling 9.19MiB\n",
      "2025-10-18 15:36:24.418621: I external/local_xla/xla/tsl/framework/bfc_allocator.cc:1117] 2 Chunks of size 16777472 totalling 32.00MiB\n",
      "2025-10-18 15:36:24.418623: I external/local_xla/xla/tsl/framework/bfc_allocator.cc:1117] 2 Chunks of size 16778240 totalling 32.00MiB\n",
      "2025-10-18 15:36:24.418625: I external/local_xla/xla/tsl/framework/bfc_allocator.cc:1117] 2 Chunks of size 316319744 totalling 603.33MiB\n",
      "2025-10-18 15:36:24.418627: I external/local_xla/xla/tsl/framework/bfc_allocator.cc:1117] 1 Chunks of size 333096960 totalling 317.67MiB\n",
      "2025-10-18 15:36:24.418629: I external/local_xla/xla/tsl/framework/bfc_allocator.cc:1117] 1 Chunks of size 389316608 totalling 371.28MiB\n",
      "2025-10-18 15:36:24.418632: I external/local_xla/xla/tsl/framework/bfc_allocator.cc:1121] Sum Total of in-use chunks: 1.33GiB\n",
      "2025-10-18 15:36:24.418643: I external/local_xla/xla/tsl/framework/bfc_allocator.cc:1123] Total bytes in pool: 1836790528 memory_limit_: 1836790580 available bytes: 52 curr_region_allocation_bytes_: 3673581568\n",
      "2025-10-18 15:36:24.418650: I external/local_xla/xla/tsl/framework/bfc_allocator.cc:1128] Stats: \n",
      "Limit:                      1836790580\n",
      "InUse:                      1432919040\n",
      "MaxInUse:                   1437114368\n",
      "NumAllocs:                         101\n",
      "MaxAllocSize:                389316608\n",
      "Reserved:                            0\n",
      "PeakReserved:                        0\n",
      "LargestFreeBlock:                    0\n",
      "\n",
      "2025-10-18 15:36:24.418655: W external/local_xla/xla/tsl/framework/bfc_allocator.cc:508] **********************____________**********************************************************________\n",
      "2025-10-18 15:36:34.429362: W external/local_xla/xla/tsl/framework/bfc_allocator.cc:497] Allocator (GPU_0_bfc) ran out of memory trying to allocate 371.28MiB (rounded to 389316608)requested by op \n",
      "2025-10-18 15:36:34.429415: I external/local_xla/xla/tsl/framework/bfc_allocator.cc:1053] BFCAllocator dump for GPU_0_bfc\n",
      "2025-10-18 15:36:34.429422: I external/local_xla/xla/tsl/framework/bfc_allocator.cc:1060] Bin (256): \tTotal Chunks: 21, Chunks in use: 21. 5.2KiB allocated for chunks. 5.2KiB in use in bin. 944B client-requested in use in bin.\n",
      "2025-10-18 15:36:34.429426: I external/local_xla/xla/tsl/framework/bfc_allocator.cc:1060] Bin (512): \tTotal Chunks: 2, Chunks in use: 2. 1.0KiB allocated for chunks. 1.0KiB in use in bin. 1.0KiB client-requested in use in bin.\n",
      "2025-10-18 15:36:34.429428: I external/local_xla/xla/tsl/framework/bfc_allocator.cc:1060] Bin (1024): \tTotal Chunks: 2, Chunks in use: 2. 2.2KiB allocated for chunks. 2.2KiB in use in bin. 1.8KiB client-requested in use in bin.\n",
      "2025-10-18 15:36:34.429431: I external/local_xla/xla/tsl/framework/bfc_allocator.cc:1060] Bin (2048): \tTotal Chunks: 2, Chunks in use: 2. 7.0KiB allocated for chunks. 7.0KiB in use in bin. 6.8KiB client-requested in use in bin.\n",
      "2025-10-18 15:36:34.429434: I external/local_xla/xla/tsl/framework/bfc_allocator.cc:1060] Bin (4096): \tTotal Chunks: 0, Chunks in use: 0. 0B allocated for chunks. 0B in use in bin. 0B client-requested in use in bin.\n",
      "2025-10-18 15:36:34.429436: I external/local_xla/xla/tsl/framework/bfc_allocator.cc:1060] Bin (8192): \tTotal Chunks: 0, Chunks in use: 0. 0B allocated for chunks. 0B in use in bin. 0B client-requested in use in bin.\n",
      "2025-10-18 15:36:34.429439: I external/local_xla/xla/tsl/framework/bfc_allocator.cc:1060] Bin (16384): \tTotal Chunks: 0, Chunks in use: 0. 0B allocated for chunks. 0B in use in bin. 0B client-requested in use in bin.\n",
      "2025-10-18 15:36:34.429441: I external/local_xla/xla/tsl/framework/bfc_allocator.cc:1060] Bin (32768): \tTotal Chunks: 0, Chunks in use: 0. 0B allocated for chunks. 0B in use in bin. 0B client-requested in use in bin.\n",
      "2025-10-18 15:36:34.429444: I external/local_xla/xla/tsl/framework/bfc_allocator.cc:1060] Bin (65536): \tTotal Chunks: 1, Chunks in use: 1. 72.0KiB allocated for chunks. 72.0KiB in use in bin. 72.0KiB client-requested in use in bin.\n",
      "2025-10-18 15:36:34.429447: I external/local_xla/xla/tsl/framework/bfc_allocator.cc:1060] Bin (131072): \tTotal Chunks: 1, Chunks in use: 1. 143.2KiB allocated for chunks. 143.2KiB in use in bin. 72.0KiB client-requested in use in bin.\n",
      "2025-10-18 15:36:34.429449: I external/local_xla/xla/tsl/framework/bfc_allocator.cc:1060] Bin (262144): \tTotal Chunks: 1, Chunks in use: 1. 288.0KiB allocated for chunks. 288.0KiB in use in bin. 288.0KiB client-requested in use in bin.\n",
      "2025-10-18 15:36:34.429452: I external/local_xla/xla/tsl/framework/bfc_allocator.cc:1060] Bin (524288): \tTotal Chunks: 1, Chunks in use: 1. 575.8KiB allocated for chunks. 575.8KiB in use in bin. 288.0KiB client-requested in use in bin.\n",
      "2025-10-18 15:36:34.429454: I external/local_xla/xla/tsl/framework/bfc_allocator.cc:1060] Bin (1048576): \tTotal Chunks: 0, Chunks in use: 0. 0B allocated for chunks. 0B in use in bin. 0B client-requested in use in bin.\n",
      "2025-10-18 15:36:34.429457: I external/local_xla/xla/tsl/framework/bfc_allocator.cc:1060] Bin (2097152): \tTotal Chunks: 0, Chunks in use: 0. 0B allocated for chunks. 0B in use in bin. 0B client-requested in use in bin.\n",
      "2025-10-18 15:36:34.429459: I external/local_xla/xla/tsl/framework/bfc_allocator.cc:1060] Bin (4194304): \tTotal Chunks: 0, Chunks in use: 0. 0B allocated for chunks. 0B in use in bin. 0B client-requested in use in bin.\n",
      "2025-10-18 15:36:34.429462: I external/local_xla/xla/tsl/framework/bfc_allocator.cc:1060] Bin (8388608): \tTotal Chunks: 1, Chunks in use: 1. 9.19MiB allocated for chunks. 9.19MiB in use in bin. 9.19MiB client-requested in use in bin.\n",
      "2025-10-18 15:36:34.429464: I external/local_xla/xla/tsl/framework/bfc_allocator.cc:1060] Bin (16777216): \tTotal Chunks: 4, Chunks in use: 4. 64.00MiB allocated for chunks. 64.00MiB in use in bin. 64.00MiB client-requested in use in bin.\n",
      "2025-10-18 15:36:34.429467: I external/local_xla/xla/tsl/framework/bfc_allocator.cc:1060] Bin (33554432): \tTotal Chunks: 0, Chunks in use: 0. 0B allocated for chunks. 0B in use in bin. 0B client-requested in use in bin.\n",
      "2025-10-18 15:36:34.429473: I external/local_xla/xla/tsl/framework/bfc_allocator.cc:1060] Bin (67108864): \tTotal Chunks: 0, Chunks in use: 0. 0B allocated for chunks. 0B in use in bin. 0B client-requested in use in bin.\n",
      "2025-10-18 15:36:34.429476: I external/local_xla/xla/tsl/framework/bfc_allocator.cc:1060] Bin (134217728): \tTotal Chunks: 2, Chunks in use: 0. 385.16MiB allocated for chunks. 0B in use in bin. 0B client-requested in use in bin.\n",
      "2025-10-18 15:36:34.429478: I external/local_xla/xla/tsl/framework/bfc_allocator.cc:1060] Bin (268435456): \tTotal Chunks: 4, Chunks in use: 4. 1.26GiB allocated for chunks. 1.26GiB in use in bin. 1.26GiB client-requested in use in bin.\n",
      "2025-10-18 15:36:34.429481: I external/local_xla/xla/tsl/framework/bfc_allocator.cc:1076] Bin for 371.28MiB was 256.00MiB, Chunk State: \n",
      "2025-10-18 15:36:34.429483: I external/local_xla/xla/tsl/framework/bfc_allocator.cc:1089] Next region of size 1836790528\n",
      "2025-10-18 15:36:34.429488: I external/local_xla/xla/tsl/framework/bfc_allocator.cc:1109] InUse at 604c00000 of size 1280 next 1\n",
      "2025-10-18 15:36:34.429491: I external/local_xla/xla/tsl/framework/bfc_allocator.cc:1109] InUse at 604c00500 of size 256 next 2\n",
      "2025-10-18 15:36:34.429492: I external/local_xla/xla/tsl/framework/bfc_allocator.cc:1109] InUse at 604c00600 of size 256 next 3\n",
      "2025-10-18 15:36:34.429494: I external/local_xla/xla/tsl/framework/bfc_allocator.cc:1109] InUse at 604c00700 of size 256 next 4\n",
      "2025-10-18 15:36:34.429496: I external/local_xla/xla/tsl/framework/bfc_allocator.cc:1109] InUse at 604c00800 of size 256 next 5\n",
      "2025-10-18 15:36:34.429497: I external/local_xla/xla/tsl/framework/bfc_allocator.cc:1109] InUse at 604c00900 of size 256 next 7\n",
      "2025-10-18 15:36:34.429499: I external/local_xla/xla/tsl/framework/bfc_allocator.cc:1109] InUse at 604c00a00 of size 256 next 8\n",
      "2025-10-18 15:36:34.429501: I external/local_xla/xla/tsl/framework/bfc_allocator.cc:1109] InUse at 604c00b00 of size 256 next 6\n",
      "2025-10-18 15:36:34.429502: I external/local_xla/xla/tsl/framework/bfc_allocator.cc:1109] InUse at 604c00c00 of size 256 next 9\n",
      "2025-10-18 15:36:34.429504: I external/local_xla/xla/tsl/framework/bfc_allocator.cc:1109] InUse at 604c00d00 of size 256 next 14\n",
      "2025-10-18 15:36:34.429506: I external/local_xla/xla/tsl/framework/bfc_allocator.cc:1109] InUse at 604c00e00 of size 256 next 12\n",
      "2025-10-18 15:36:34.429508: I external/local_xla/xla/tsl/framework/bfc_allocator.cc:1109] InUse at 604c00f00 of size 512 next 13\n",
      "2025-10-18 15:36:34.429510: I external/local_xla/xla/tsl/framework/bfc_allocator.cc:1109] InUse at 604c01100 of size 256 next 19\n",
      "2025-10-18 15:36:34.429512: I external/local_xla/xla/tsl/framework/bfc_allocator.cc:1109] InUse at 604c01200 of size 256 next 17\n",
      "2025-10-18 15:36:34.429514: I external/local_xla/xla/tsl/framework/bfc_allocator.cc:1109] InUse at 604c01300 of size 256 next 18\n",
      "2025-10-18 15:36:34.429516: I external/local_xla/xla/tsl/framework/bfc_allocator.cc:1109] InUse at 604c01400 of size 256 next 24\n",
      "2025-10-18 15:36:34.429517: I external/local_xla/xla/tsl/framework/bfc_allocator.cc:1109] InUse at 604c01500 of size 256 next 22\n",
      "2025-10-18 15:36:34.429519: I external/local_xla/xla/tsl/framework/bfc_allocator.cc:1109] InUse at 604c01600 of size 256 next 23\n",
      "2025-10-18 15:36:34.429521: I external/local_xla/xla/tsl/framework/bfc_allocator.cc:1109] InUse at 604c01700 of size 512 next 28\n",
      "2025-10-18 15:36:34.429523: I external/local_xla/xla/tsl/framework/bfc_allocator.cc:1109] InUse at 604c01900 of size 256 next 29\n",
      "2025-10-18 15:36:34.429525: I external/local_xla/xla/tsl/framework/bfc_allocator.cc:1109] InUse at 604c01a00 of size 3584 next 10\n",
      "2025-10-18 15:36:34.429527: I external/local_xla/xla/tsl/framework/bfc_allocator.cc:1109] InUse at 604c02800 of size 3584 next 11\n",
      "2025-10-18 15:36:34.429529: I external/local_xla/xla/tsl/framework/bfc_allocator.cc:1109] InUse at 604c03600 of size 256 next 30\n",
      "2025-10-18 15:36:34.429531: I external/local_xla/xla/tsl/framework/bfc_allocator.cc:1109] InUse at 604c03700 of size 256 next 31\n",
      "2025-10-18 15:36:34.429533: I external/local_xla/xla/tsl/framework/bfc_allocator.cc:1109] InUse at 604c03800 of size 256 next 32\n",
      "2025-10-18 15:36:34.429535: I external/local_xla/xla/tsl/framework/bfc_allocator.cc:1109] InUse at 604c03900 of size 146688 next 16\n",
      "2025-10-18 15:36:34.429537: I external/local_xla/xla/tsl/framework/bfc_allocator.cc:1109] InUse at 604c27600 of size 73728 next 15\n",
      "2025-10-18 15:36:34.429539: I external/local_xla/xla/tsl/framework/bfc_allocator.cc:1109] InUse at 604c39600 of size 256 next 33\n",
      "2025-10-18 15:36:34.429541: I external/local_xla/xla/tsl/framework/bfc_allocator.cc:1109] InUse at 604c39700 of size 589568 next 21\n",
      "2025-10-18 15:36:34.429543: I external/local_xla/xla/tsl/framework/bfc_allocator.cc:1109] InUse at 604cc9600 of size 294912 next 20\n",
      "2025-10-18 15:36:34.429546: I external/local_xla/xla/tsl/framework/bfc_allocator.cc:1109] InUse at 604d11600 of size 316319744 next 27\n",
      "2025-10-18 15:36:34.429548: I external/local_xla/xla/tsl/framework/bfc_allocator.cc:1109] InUse at 617abbe00 of size 1024 next 34\n",
      "2025-10-18 15:36:34.429549: I external/local_xla/xla/tsl/framework/bfc_allocator.cc:1109] InUse at 617abc200 of size 9633792 next 35\n",
      "2025-10-18 15:36:34.429552: I external/local_xla/xla/tsl/framework/bfc_allocator.cc:1109] InUse at 6183ec200 of size 16778240 next 36\n",
      "2025-10-18 15:36:34.429553: I external/local_xla/xla/tsl/framework/bfc_allocator.cc:1109] InUse at 6193ec600 of size 16777472 next 37\n",
      "2025-10-18 15:36:34.429555: I external/local_xla/xla/tsl/framework/bfc_allocator.cc:1109] InUse at 61a3ec700 of size 16777472 next 38\n",
      "2025-10-18 15:36:34.429557: I external/local_xla/xla/tsl/framework/bfc_allocator.cc:1109] InUse at 61b3ec800 of size 16778240 next 39\n",
      "2025-10-18 15:36:34.429559: I external/local_xla/xla/tsl/framework/bfc_allocator.cc:1109] Free  at 61c3ecc00 of size 239573504 next 26\n",
      "2025-10-18 15:36:34.429561: I external/local_xla/xla/tsl/framework/bfc_allocator.cc:1109] InUse at 62a866600 of size 316319744 next 25\n",
      "2025-10-18 15:36:34.429563: I external/local_xla/xla/tsl/framework/bfc_allocator.cc:1109] InUse at 63d610e00 of size 333096960 next 40\n",
      "2025-10-18 15:36:34.429565: I external/local_xla/xla/tsl/framework/bfc_allocator.cc:1109] InUse at 6513bb600 of size 389316608 next 41\n",
      "2025-10-18 15:36:34.429567: I external/local_xla/xla/tsl/framework/bfc_allocator.cc:1109] Free  at 668703600 of size 164297984 next 18446744073709551615\n",
      "2025-10-18 15:36:34.429569: I external/local_xla/xla/tsl/framework/bfc_allocator.cc:1114]      Summary of in-use Chunks by size: \n",
      "2025-10-18 15:36:34.429572: I external/local_xla/xla/tsl/framework/bfc_allocator.cc:1117] 21 Chunks of size 256 totalling 5.2KiB\n",
      "2025-10-18 15:36:34.429574: I external/local_xla/xla/tsl/framework/bfc_allocator.cc:1117] 2 Chunks of size 512 totalling 1.0KiB\n",
      "2025-10-18 15:36:34.429576: I external/local_xla/xla/tsl/framework/bfc_allocator.cc:1117] 1 Chunks of size 1024 totalling 1.0KiB\n",
      "2025-10-18 15:36:34.429578: I external/local_xla/xla/tsl/framework/bfc_allocator.cc:1117] 1 Chunks of size 1280 totalling 1.2KiB\n",
      "2025-10-18 15:36:34.429580: I external/local_xla/xla/tsl/framework/bfc_allocator.cc:1117] 2 Chunks of size 3584 totalling 7.0KiB\n",
      "2025-10-18 15:36:34.429582: I external/local_xla/xla/tsl/framework/bfc_allocator.cc:1117] 1 Chunks of size 73728 totalling 72.0KiB\n",
      "2025-10-18 15:36:34.429585: I external/local_xla/xla/tsl/framework/bfc_allocator.cc:1117] 1 Chunks of size 146688 totalling 143.2KiB\n",
      "2025-10-18 15:36:34.429587: I external/local_xla/xla/tsl/framework/bfc_allocator.cc:1117] 1 Chunks of size 294912 totalling 288.0KiB\n",
      "2025-10-18 15:36:34.429589: I external/local_xla/xla/tsl/framework/bfc_allocator.cc:1117] 1 Chunks of size 589568 totalling 575.8KiB\n",
      "2025-10-18 15:36:34.429591: I external/local_xla/xla/tsl/framework/bfc_allocator.cc:1117] 1 Chunks of size 9633792 totalling 9.19MiB\n",
      "2025-10-18 15:36:34.429593: I external/local_xla/xla/tsl/framework/bfc_allocator.cc:1117] 2 Chunks of size 16777472 totalling 32.00MiB\n",
      "2025-10-18 15:36:34.429596: I external/local_xla/xla/tsl/framework/bfc_allocator.cc:1117] 2 Chunks of size 16778240 totalling 32.00MiB\n",
      "2025-10-18 15:36:34.429598: I external/local_xla/xla/tsl/framework/bfc_allocator.cc:1117] 2 Chunks of size 316319744 totalling 603.33MiB\n",
      "2025-10-18 15:36:34.429600: I external/local_xla/xla/tsl/framework/bfc_allocator.cc:1117] 1 Chunks of size 333096960 totalling 317.67MiB\n",
      "2025-10-18 15:36:34.429603: I external/local_xla/xla/tsl/framework/bfc_allocator.cc:1117] 1 Chunks of size 389316608 totalling 371.28MiB\n",
      "2025-10-18 15:36:34.429605: I external/local_xla/xla/tsl/framework/bfc_allocator.cc:1121] Sum Total of in-use chunks: 1.33GiB\n",
      "2025-10-18 15:36:34.429607: I external/local_xla/xla/tsl/framework/bfc_allocator.cc:1123] Total bytes in pool: 1836790528 memory_limit_: 1836790580 available bytes: 52 curr_region_allocation_bytes_: 3673581568\n",
      "2025-10-18 15:36:34.429612: I external/local_xla/xla/tsl/framework/bfc_allocator.cc:1128] Stats: \n",
      "Limit:                      1836790580\n",
      "InUse:                      1432919040\n",
      "MaxInUse:                   1437114368\n",
      "NumAllocs:                         101\n",
      "MaxAllocSize:                389316608\n",
      "Reserved:                            0\n",
      "PeakReserved:                        0\n",
      "LargestFreeBlock:                    0\n",
      "\n",
      "2025-10-18 15:36:34.429617: W external/local_xla/xla/tsl/framework/bfc_allocator.cc:508] **********************____________**********************************************************________\n",
      "2025-10-18 15:36:44.431348: W external/local_xla/xla/tsl/framework/bfc_allocator.cc:497] Allocator (GPU_0_bfc) ran out of memory trying to allocate 371.28MiB (rounded to 389316608)requested by op \n",
      "2025-10-18 15:36:44.431407: I external/local_xla/xla/tsl/framework/bfc_allocator.cc:1053] BFCAllocator dump for GPU_0_bfc\n",
      "2025-10-18 15:36:44.431413: I external/local_xla/xla/tsl/framework/bfc_allocator.cc:1060] Bin (256): \tTotal Chunks: 21, Chunks in use: 21. 5.2KiB allocated for chunks. 5.2KiB in use in bin. 944B client-requested in use in bin.\n",
      "2025-10-18 15:36:44.431417: I external/local_xla/xla/tsl/framework/bfc_allocator.cc:1060] Bin (512): \tTotal Chunks: 2, Chunks in use: 2. 1.0KiB allocated for chunks. 1.0KiB in use in bin. 1.0KiB client-requested in use in bin.\n",
      "2025-10-18 15:36:44.431419: I external/local_xla/xla/tsl/framework/bfc_allocator.cc:1060] Bin (1024): \tTotal Chunks: 2, Chunks in use: 2. 2.2KiB allocated for chunks. 2.2KiB in use in bin. 1.8KiB client-requested in use in bin.\n",
      "2025-10-18 15:36:44.431422: I external/local_xla/xla/tsl/framework/bfc_allocator.cc:1060] Bin (2048): \tTotal Chunks: 2, Chunks in use: 2. 7.0KiB allocated for chunks. 7.0KiB in use in bin. 6.8KiB client-requested in use in bin.\n",
      "2025-10-18 15:36:44.431425: I external/local_xla/xla/tsl/framework/bfc_allocator.cc:1060] Bin (4096): \tTotal Chunks: 0, Chunks in use: 0. 0B allocated for chunks. 0B in use in bin. 0B client-requested in use in bin.\n",
      "2025-10-18 15:36:44.431428: I external/local_xla/xla/tsl/framework/bfc_allocator.cc:1060] Bin (8192): \tTotal Chunks: 0, Chunks in use: 0. 0B allocated for chunks. 0B in use in bin. 0B client-requested in use in bin.\n",
      "2025-10-18 15:36:44.431430: I external/local_xla/xla/tsl/framework/bfc_allocator.cc:1060] Bin (16384): \tTotal Chunks: 0, Chunks in use: 0. 0B allocated for chunks. 0B in use in bin. 0B client-requested in use in bin.\n",
      "2025-10-18 15:36:44.431432: I external/local_xla/xla/tsl/framework/bfc_allocator.cc:1060] Bin (32768): \tTotal Chunks: 0, Chunks in use: 0. 0B allocated for chunks. 0B in use in bin. 0B client-requested in use in bin.\n",
      "2025-10-18 15:36:44.431435: I external/local_xla/xla/tsl/framework/bfc_allocator.cc:1060] Bin (65536): \tTotal Chunks: 1, Chunks in use: 1. 72.0KiB allocated for chunks. 72.0KiB in use in bin. 72.0KiB client-requested in use in bin.\n",
      "2025-10-18 15:36:44.431438: I external/local_xla/xla/tsl/framework/bfc_allocator.cc:1060] Bin (131072): \tTotal Chunks: 1, Chunks in use: 1. 143.2KiB allocated for chunks. 143.2KiB in use in bin. 72.0KiB client-requested in use in bin.\n",
      "2025-10-18 15:36:44.431441: I external/local_xla/xla/tsl/framework/bfc_allocator.cc:1060] Bin (262144): \tTotal Chunks: 1, Chunks in use: 1. 288.0KiB allocated for chunks. 288.0KiB in use in bin. 288.0KiB client-requested in use in bin.\n",
      "2025-10-18 15:36:44.431443: I external/local_xla/xla/tsl/framework/bfc_allocator.cc:1060] Bin (524288): \tTotal Chunks: 1, Chunks in use: 1. 575.8KiB allocated for chunks. 575.8KiB in use in bin. 288.0KiB client-requested in use in bin.\n",
      "2025-10-18 15:36:44.431446: I external/local_xla/xla/tsl/framework/bfc_allocator.cc:1060] Bin (1048576): \tTotal Chunks: 0, Chunks in use: 0. 0B allocated for chunks. 0B in use in bin. 0B client-requested in use in bin.\n",
      "2025-10-18 15:36:44.431448: I external/local_xla/xla/tsl/framework/bfc_allocator.cc:1060] Bin (2097152): \tTotal Chunks: 0, Chunks in use: 0. 0B allocated for chunks. 0B in use in bin. 0B client-requested in use in bin.\n",
      "2025-10-18 15:36:44.431450: I external/local_xla/xla/tsl/framework/bfc_allocator.cc:1060] Bin (4194304): \tTotal Chunks: 0, Chunks in use: 0. 0B allocated for chunks. 0B in use in bin. 0B client-requested in use in bin.\n",
      "2025-10-18 15:36:44.431453: I external/local_xla/xla/tsl/framework/bfc_allocator.cc:1060] Bin (8388608): \tTotal Chunks: 1, Chunks in use: 1. 9.19MiB allocated for chunks. 9.19MiB in use in bin. 9.19MiB client-requested in use in bin.\n",
      "2025-10-18 15:36:44.431455: I external/local_xla/xla/tsl/framework/bfc_allocator.cc:1060] Bin (16777216): \tTotal Chunks: 4, Chunks in use: 4. 64.00MiB allocated for chunks. 64.00MiB in use in bin. 64.00MiB client-requested in use in bin.\n",
      "2025-10-18 15:36:44.431462: I external/local_xla/xla/tsl/framework/bfc_allocator.cc:1060] Bin (33554432): \tTotal Chunks: 0, Chunks in use: 0. 0B allocated for chunks. 0B in use in bin. 0B client-requested in use in bin.\n",
      "2025-10-18 15:36:44.431464: I external/local_xla/xla/tsl/framework/bfc_allocator.cc:1060] Bin (67108864): \tTotal Chunks: 0, Chunks in use: 0. 0B allocated for chunks. 0B in use in bin. 0B client-requested in use in bin.\n",
      "2025-10-18 15:36:44.431467: I external/local_xla/xla/tsl/framework/bfc_allocator.cc:1060] Bin (134217728): \tTotal Chunks: 2, Chunks in use: 0. 385.16MiB allocated for chunks. 0B in use in bin. 0B client-requested in use in bin.\n",
      "2025-10-18 15:36:44.431469: I external/local_xla/xla/tsl/framework/bfc_allocator.cc:1060] Bin (268435456): \tTotal Chunks: 4, Chunks in use: 4. 1.26GiB allocated for chunks. 1.26GiB in use in bin. 1.26GiB client-requested in use in bin.\n",
      "2025-10-18 15:36:44.431472: I external/local_xla/xla/tsl/framework/bfc_allocator.cc:1076] Bin for 371.28MiB was 256.00MiB, Chunk State: \n",
      "2025-10-18 15:36:44.431474: I external/local_xla/xla/tsl/framework/bfc_allocator.cc:1089] Next region of size 1836790528\n",
      "2025-10-18 15:36:44.431480: I external/local_xla/xla/tsl/framework/bfc_allocator.cc:1109] InUse at 604c00000 of size 1280 next 1\n",
      "2025-10-18 15:36:44.431482: I external/local_xla/xla/tsl/framework/bfc_allocator.cc:1109] InUse at 604c00500 of size 256 next 2\n",
      "2025-10-18 15:36:44.431484: I external/local_xla/xla/tsl/framework/bfc_allocator.cc:1109] InUse at 604c00600 of size 256 next 3\n",
      "2025-10-18 15:36:44.431485: I external/local_xla/xla/tsl/framework/bfc_allocator.cc:1109] InUse at 604c00700 of size 256 next 4\n",
      "2025-10-18 15:36:44.431487: I external/local_xla/xla/tsl/framework/bfc_allocator.cc:1109] InUse at 604c00800 of size 256 next 5\n",
      "2025-10-18 15:36:44.431488: I external/local_xla/xla/tsl/framework/bfc_allocator.cc:1109] InUse at 604c00900 of size 256 next 7\n",
      "2025-10-18 15:36:44.431490: I external/local_xla/xla/tsl/framework/bfc_allocator.cc:1109] InUse at 604c00a00 of size 256 next 8\n",
      "2025-10-18 15:36:44.431492: I external/local_xla/xla/tsl/framework/bfc_allocator.cc:1109] InUse at 604c00b00 of size 256 next 6\n",
      "2025-10-18 15:36:44.431493: I external/local_xla/xla/tsl/framework/bfc_allocator.cc:1109] InUse at 604c00c00 of size 256 next 9\n",
      "2025-10-18 15:36:44.431495: I external/local_xla/xla/tsl/framework/bfc_allocator.cc:1109] InUse at 604c00d00 of size 256 next 14\n",
      "2025-10-18 15:36:44.431497: I external/local_xla/xla/tsl/framework/bfc_allocator.cc:1109] InUse at 604c00e00 of size 256 next 12\n",
      "2025-10-18 15:36:44.431499: I external/local_xla/xla/tsl/framework/bfc_allocator.cc:1109] InUse at 604c00f00 of size 512 next 13\n",
      "2025-10-18 15:36:44.431501: I external/local_xla/xla/tsl/framework/bfc_allocator.cc:1109] InUse at 604c01100 of size 256 next 19\n",
      "2025-10-18 15:36:44.431503: I external/local_xla/xla/tsl/framework/bfc_allocator.cc:1109] InUse at 604c01200 of size 256 next 17\n",
      "2025-10-18 15:36:44.431505: I external/local_xla/xla/tsl/framework/bfc_allocator.cc:1109] InUse at 604c01300 of size 256 next 18\n",
      "2025-10-18 15:36:44.431506: I external/local_xla/xla/tsl/framework/bfc_allocator.cc:1109] InUse at 604c01400 of size 256 next 24\n",
      "2025-10-18 15:36:44.431508: I external/local_xla/xla/tsl/framework/bfc_allocator.cc:1109] InUse at 604c01500 of size 256 next 22\n",
      "2025-10-18 15:36:44.431510: I external/local_xla/xla/tsl/framework/bfc_allocator.cc:1109] InUse at 604c01600 of size 256 next 23\n",
      "2025-10-18 15:36:44.431512: I external/local_xla/xla/tsl/framework/bfc_allocator.cc:1109] InUse at 604c01700 of size 512 next 28\n",
      "2025-10-18 15:36:44.431514: I external/local_xla/xla/tsl/framework/bfc_allocator.cc:1109] InUse at 604c01900 of size 256 next 29\n",
      "2025-10-18 15:36:44.431516: I external/local_xla/xla/tsl/framework/bfc_allocator.cc:1109] InUse at 604c01a00 of size 3584 next 10\n",
      "2025-10-18 15:36:44.431518: I external/local_xla/xla/tsl/framework/bfc_allocator.cc:1109] InUse at 604c02800 of size 3584 next 11\n",
      "2025-10-18 15:36:44.431520: I external/local_xla/xla/tsl/framework/bfc_allocator.cc:1109] InUse at 604c03600 of size 256 next 30\n",
      "2025-10-18 15:36:44.431522: I external/local_xla/xla/tsl/framework/bfc_allocator.cc:1109] InUse at 604c03700 of size 256 next 31\n",
      "2025-10-18 15:36:44.431524: I external/local_xla/xla/tsl/framework/bfc_allocator.cc:1109] InUse at 604c03800 of size 256 next 32\n",
      "2025-10-18 15:36:44.431526: I external/local_xla/xla/tsl/framework/bfc_allocator.cc:1109] InUse at 604c03900 of size 146688 next 16\n",
      "2025-10-18 15:36:44.431528: I external/local_xla/xla/tsl/framework/bfc_allocator.cc:1109] InUse at 604c27600 of size 73728 next 15\n",
      "2025-10-18 15:36:44.431530: I external/local_xla/xla/tsl/framework/bfc_allocator.cc:1109] InUse at 604c39600 of size 256 next 33\n",
      "2025-10-18 15:36:44.431532: I external/local_xla/xla/tsl/framework/bfc_allocator.cc:1109] InUse at 604c39700 of size 589568 next 21\n",
      "2025-10-18 15:36:44.431534: I external/local_xla/xla/tsl/framework/bfc_allocator.cc:1109] InUse at 604cc9600 of size 294912 next 20\n",
      "2025-10-18 15:36:44.431536: I external/local_xla/xla/tsl/framework/bfc_allocator.cc:1109] InUse at 604d11600 of size 316319744 next 27\n",
      "2025-10-18 15:36:44.431538: I external/local_xla/xla/tsl/framework/bfc_allocator.cc:1109] InUse at 617abbe00 of size 1024 next 34\n",
      "2025-10-18 15:36:44.431540: I external/local_xla/xla/tsl/framework/bfc_allocator.cc:1109] InUse at 617abc200 of size 9633792 next 35\n",
      "2025-10-18 15:36:44.431542: I external/local_xla/xla/tsl/framework/bfc_allocator.cc:1109] InUse at 6183ec200 of size 16778240 next 36\n",
      "2025-10-18 15:36:44.431544: I external/local_xla/xla/tsl/framework/bfc_allocator.cc:1109] InUse at 6193ec600 of size 16777472 next 37\n",
      "2025-10-18 15:36:44.431546: I external/local_xla/xla/tsl/framework/bfc_allocator.cc:1109] InUse at 61a3ec700 of size 16777472 next 38\n",
      "2025-10-18 15:36:44.431548: I external/local_xla/xla/tsl/framework/bfc_allocator.cc:1109] InUse at 61b3ec800 of size 16778240 next 39\n",
      "2025-10-18 15:36:44.431550: I external/local_xla/xla/tsl/framework/bfc_allocator.cc:1109] Free  at 61c3ecc00 of size 239573504 next 26\n",
      "2025-10-18 15:36:44.431552: I external/local_xla/xla/tsl/framework/bfc_allocator.cc:1109] InUse at 62a866600 of size 316319744 next 25\n",
      "2025-10-18 15:36:44.431554: I external/local_xla/xla/tsl/framework/bfc_allocator.cc:1109] InUse at 63d610e00 of size 333096960 next 40\n",
      "2025-10-18 15:36:44.431555: I external/local_xla/xla/tsl/framework/bfc_allocator.cc:1109] InUse at 6513bb600 of size 389316608 next 41\n",
      "2025-10-18 15:36:44.431558: I external/local_xla/xla/tsl/framework/bfc_allocator.cc:1109] Free  at 668703600 of size 164297984 next 18446744073709551615\n",
      "2025-10-18 15:36:44.431560: I external/local_xla/xla/tsl/framework/bfc_allocator.cc:1114]      Summary of in-use Chunks by size: \n",
      "2025-10-18 15:36:44.431562: I external/local_xla/xla/tsl/framework/bfc_allocator.cc:1117] 21 Chunks of size 256 totalling 5.2KiB\n",
      "2025-10-18 15:36:44.431565: I external/local_xla/xla/tsl/framework/bfc_allocator.cc:1117] 2 Chunks of size 512 totalling 1.0KiB\n",
      "2025-10-18 15:36:44.431567: I external/local_xla/xla/tsl/framework/bfc_allocator.cc:1117] 1 Chunks of size 1024 totalling 1.0KiB\n",
      "2025-10-18 15:36:44.431569: I external/local_xla/xla/tsl/framework/bfc_allocator.cc:1117] 1 Chunks of size 1280 totalling 1.2KiB\n",
      "2025-10-18 15:36:44.431571: I external/local_xla/xla/tsl/framework/bfc_allocator.cc:1117] 2 Chunks of size 3584 totalling 7.0KiB\n",
      "2025-10-18 15:36:44.431573: I external/local_xla/xla/tsl/framework/bfc_allocator.cc:1117] 1 Chunks of size 73728 totalling 72.0KiB\n",
      "2025-10-18 15:36:44.431575: I external/local_xla/xla/tsl/framework/bfc_allocator.cc:1117] 1 Chunks of size 146688 totalling 143.2KiB\n",
      "2025-10-18 15:36:44.431577: I external/local_xla/xla/tsl/framework/bfc_allocator.cc:1117] 1 Chunks of size 294912 totalling 288.0KiB\n",
      "2025-10-18 15:36:44.431579: I external/local_xla/xla/tsl/framework/bfc_allocator.cc:1117] 1 Chunks of size 589568 totalling 575.8KiB\n",
      "2025-10-18 15:36:44.431582: I external/local_xla/xla/tsl/framework/bfc_allocator.cc:1117] 1 Chunks of size 9633792 totalling 9.19MiB\n",
      "2025-10-18 15:36:44.431584: I external/local_xla/xla/tsl/framework/bfc_allocator.cc:1117] 2 Chunks of size 16777472 totalling 32.00MiB\n",
      "2025-10-18 15:36:44.431586: I external/local_xla/xla/tsl/framework/bfc_allocator.cc:1117] 2 Chunks of size 16778240 totalling 32.00MiB\n",
      "2025-10-18 15:36:44.431589: I external/local_xla/xla/tsl/framework/bfc_allocator.cc:1117] 2 Chunks of size 316319744 totalling 603.33MiB\n",
      "2025-10-18 15:36:44.431591: I external/local_xla/xla/tsl/framework/bfc_allocator.cc:1117] 1 Chunks of size 333096960 totalling 317.67MiB\n",
      "2025-10-18 15:36:44.431593: I external/local_xla/xla/tsl/framework/bfc_allocator.cc:1117] 1 Chunks of size 389316608 totalling 371.28MiB\n",
      "2025-10-18 15:36:44.431595: I external/local_xla/xla/tsl/framework/bfc_allocator.cc:1121] Sum Total of in-use chunks: 1.33GiB\n",
      "2025-10-18 15:36:44.431597: I external/local_xla/xla/tsl/framework/bfc_allocator.cc:1123] Total bytes in pool: 1836790528 memory_limit_: 1836790580 available bytes: 52 curr_region_allocation_bytes_: 3673581568\n",
      "2025-10-18 15:36:44.431602: I external/local_xla/xla/tsl/framework/bfc_allocator.cc:1128] Stats: \n",
      "Limit:                      1836790580\n",
      "InUse:                      1432919040\n",
      "MaxInUse:                   1437114368\n",
      "NumAllocs:                         101\n",
      "MaxAllocSize:                389316608\n",
      "Reserved:                            0\n",
      "PeakReserved:                        0\n",
      "LargestFreeBlock:                    0\n",
      "\n",
      "2025-10-18 15:36:44.431607: W external/local_xla/xla/tsl/framework/bfc_allocator.cc:508] **********************____________**********************************************************________\n"
     ]
    }
   ],
   "source": [
    "print('Training model...')\n",
    "\n",
    "EPOCHS = 20\n",
    "train_steps = math.ceil(len(objs_train)/BATCH_SIZE)\n",
    "valid_steps = math.ceil(len(objs_valid)/BATCH_SIZE)\n",
    "\n",
    "h1 = model.fit(train_generator, \n",
    "              steps_per_epoch=train_steps, \n",
    "              validation_data=valid_generator, \n",
    "              validation_steps=valid_steps, \n",
    "              epochs=EPOCHS, \n",
    "              callbacks=callbacks, \n",
    "              verbose=1)\n",
    "\n",
    "# Best validation model\n",
    "best_idx = int(np.argmax(h1.history['val_accuracy']))\n",
    "best_value = np.max(h1.history['val_accuracy'])\n",
    "print('Best validation model: epoch ' + str(best_idx+1), ' - val_accuracy ' + str(best_value))"
   ]
  },
  {
   "cell_type": "markdown",
   "id": "412115a0",
   "metadata": {
    "papermill": {
     "duration": 1.909093,
     "end_time": "2025-10-15T10:47:16.010294",
     "exception": false,
     "start_time": "2025-10-15T10:47:14.101201",
     "status": "completed"
    },
    "tags": []
   },
   "source": [
    "- Training time: ~1h\n",
    "- GPU: KAGGLE T4\n",
    "- Best validation model: Epoch 17 - Validation accuracy: 0.6011"
   ]
  },
  {
   "cell_type": "code",
   "execution_count": null,
   "id": "3e326fe2",
   "metadata": {},
   "outputs": [],
   "source": [
    "# Create a figure with two subplots\n",
    "fig, (ax1, ax2) = plt.subplots(1, 2, figsize=(15, 5))\n",
    "\n",
    "# --- Plot 1: Model Accuracy ---\n",
    "ax1.plot(h1.history['accuracy'])\n",
    "ax1.plot(h1.history['val_accuracy'])\n",
    "ax1.set_title('Model Accuracy')\n",
    "ax1.set_ylabel('Accuracy')\n",
    "ax1.set_xlabel('Epoch')\n",
    "ax1.legend(['Train', 'Validation'], loc='upper left')\n",
    "ax1.grid(True)\n",
    "\n",
    "# --- Plot 2: Model Loss ---\n",
    "ax2.plot(h1.history['loss'])\n",
    "ax2.plot(h1.history['val_loss'])\n",
    "ax2.set_title('Model Loss')\n",
    "ax2.set_ylabel('Loss')\n",
    "ax2.set_xlabel('Epoch')\n",
    "ax2.legend(['Train', 'Validation'], loc='upper right')\n",
    "ax2.grid(True)\n",
    "\n",
    "# Show the plots\n",
    "plt.tight_layout()\n",
    "plt.show()\n",
    "plt.savefig('training_plots.png')\n",
    "\n",
    "# --- Your code for printing the best model can go here ---\n",
    "best_idx = int(np.argmax(h1.history['val_accuracy']))\n",
    "best_value = np.max(h1.history['val_accuracy'])\n",
    "print('Best validation model: epoch ' + str(best_idx+1), ' - val_accuracy ' + str(best_value))"
   ]
  },
  {
   "cell_type": "markdown",
   "id": "7bd7237b",
   "metadata": {
    "papermill": {
     "duration": 1.798758,
     "end_time": "2025-10-15T10:47:19.728943",
     "exception": false,
     "start_time": "2025-10-15T10:47:17.930185",
     "status": "completed"
    },
    "tags": []
   },
   "source": [
    "### 2.3 Validation"
   ]
  },
  {
   "cell_type": "code",
   "execution_count": null,
   "id": "67fea23e",
   "metadata": {
    "execution": {
     "iopub.execute_input": "2025-10-15T10:47:23.458255Z",
     "iopub.status.busy": "2025-10-15T10:47:23.457950Z",
     "iopub.status.idle": "2025-10-15T10:47:23.465680Z",
     "shell.execute_reply": "2025-10-15T10:47:23.464764Z"
    },
    "papermill": {
     "duration": 1.866565,
     "end_time": "2025-10-15T10:47:23.466920",
     "exception": false,
     "start_time": "2025-10-15T10:47:21.600355",
     "status": "completed"
    },
    "tags": []
   },
   "outputs": [],
   "source": [
    "def draw_confusion_matrix(cm, categories):\n",
    "    # Draw confusion matrix\n",
    "    fig = plt.figure(figsize=[6.4*pow(len(categories), 0.5), 4.8*pow(len(categories), 0.5)])\n",
    "    ax = fig.add_subplot(111)\n",
    "    cm = cm.astype('float') / np.maximum(cm.sum(axis=1)[:, np.newaxis], np.finfo(np.float64).eps)\n",
    "    im = ax.imshow(cm, interpolation='nearest', cmap=plt.colormaps['Blues'])\n",
    "    ax.figure.colorbar(im, ax=ax)\n",
    "    ax.set(xticks=np.arange(cm.shape[1]), yticks=np.arange(cm.shape[0]), xticklabels=list(categories.values()), yticklabels=list(categories.values()), ylabel='Annotation', xlabel='Prediction')\n",
    "    # Rotate the tick labels and set their alignment\n",
    "    plt.setp(ax.get_xticklabels(), rotation=45, ha=\"right\", rotation_mode=\"anchor\")\n",
    "    # Loop over data dimensions and create text annotations\n",
    "    thresh = cm.max() / 2.0\n",
    "    for i in range(cm.shape[0]):\n",
    "        for j in range(cm.shape[1]):\n",
    "            ax.text(j, i, format(cm[i, j], '.2f'), ha=\"center\", va=\"center\", color=\"white\" if cm[i, j] > thresh else \"black\", fontsize=int(20-pow(len(categories), 0.5)))\n",
    "    fig.tight_layout()\n",
    "    plt.show()\n",
    "\n",
    "    # Save confusion matrix figure\n",
    "    fig.savefig('confusion_matrix.png')"
   ]
  },
  {
   "cell_type": "code",
   "execution_count": null,
   "id": "2de426c4",
   "metadata": {
    "execution": {
     "iopub.execute_input": "2025-10-15T10:47:27.078903Z",
     "iopub.status.busy": "2025-10-15T10:47:27.078616Z",
     "iopub.status.idle": "2025-10-15T10:51:01.275771Z",
     "shell.execute_reply": "2025-10-15T10:51:01.275054Z"
    },
    "papermill": {
     "duration": 216.003494,
     "end_time": "2025-10-15T10:51:01.277358",
     "exception": false,
     "start_time": "2025-10-15T10:47:25.273864",
     "status": "completed"
    },
    "tags": []
   },
   "outputs": [],
   "source": [
    "model.load_weights(MODEL_NAME)\n",
    "y_true, y_pred = [], []\n",
    "for ann in val2:\n",
    "    # Load image\n",
    "    image = load_geoimage(ann.filename)\n",
    "    for obj_pred in ann.objects:\n",
    "        # Generate prediction\n",
    "        warped_image = np.expand_dims(image, 0)\n",
    "        predictions = model.predict(warped_image, verbose=0)\n",
    "        # Save prediction\n",
    "        pred_category = list(categories.values())[np.argmax(predictions)]\n",
    "        pred_score = np.max(predictions)\n",
    "        y_true.append(obj_pred.category)\n",
    "        y_pred.append(pred_category)"
   ]
  },
  {
   "cell_type": "code",
   "execution_count": null,
   "id": "50b5ae4b",
   "metadata": {
    "execution": {
     "iopub.execute_input": "2025-10-15T10:51:04.970847Z",
     "iopub.status.busy": "2025-10-15T10:51:04.970169Z",
     "iopub.status.idle": "2025-10-15T10:51:06.286898Z",
     "shell.execute_reply": "2025-10-15T10:51:06.286146Z"
    },
    "papermill": {
     "duration": 3.152091,
     "end_time": "2025-10-15T10:51:06.290312",
     "exception": false,
     "start_time": "2025-10-15T10:51:03.138221",
     "status": "completed"
    },
    "tags": []
   },
   "outputs": [],
   "source": [
    "# Compute the confusion matrix\n",
    "cm = confusion_matrix(y_true, y_pred, labels=list(categories.values()))\n",
    "draw_confusion_matrix(cm, categories)"
   ]
  },
  {
   "cell_type": "code",
   "execution_count": null,
   "id": "316d5582",
   "metadata": {
    "execution": {
     "iopub.execute_input": "2025-10-15T10:51:09.953258Z",
     "iopub.status.busy": "2025-10-15T10:51:09.952966Z",
     "iopub.status.idle": "2025-10-15T10:51:09.963598Z",
     "shell.execute_reply": "2025-10-15T10:51:09.962933Z"
    },
    "papermill": {
     "duration": 1.829009,
     "end_time": "2025-10-15T10:51:09.964708",
     "exception": false,
     "start_time": "2025-10-15T10:51:08.135699",
     "status": "completed"
    },
    "tags": []
   },
   "outputs": [],
   "source": [
    "# Compute the accuracy\n",
    "correct_samples_class = np.diag(cm).astype(float)\n",
    "total_samples_class = np.sum(cm, axis=1).astype(float)\n",
    "total_predicts_class = np.sum(cm, axis=0).astype(float)\n",
    "print('Mean Accuracy: %.3f%%' % (np.sum(correct_samples_class) / np.sum(total_samples_class) * 100))\n",
    "acc = correct_samples_class / np.maximum(total_samples_class, np.finfo(np.float64).eps)\n",
    "print('Mean Recall: %.3f%%' % (acc.mean() * 100))\n",
    "acc = correct_samples_class / np.maximum(total_predicts_class, np.finfo(np.float64).eps)\n",
    "print('Mean Precision: %.3f%%' % (acc.mean() * 100))\n",
    "for idx in range(len(categories)):\n",
    "    # True/False Positives (TP/FP) refer to the number of predicted positives that were correct/incorrect.\n",
    "    # True/False Negatives (TN/FN) refer to the number of predicted negatives that were correct/incorrect.\n",
    "    tp = cm[idx, idx]\n",
    "    fp = sum(cm[:, idx]) - tp\n",
    "    fn = sum(cm[idx, :]) - tp\n",
    "    tn = sum(np.delete(sum(cm) - cm[idx, :], idx))\n",
    "    # True Positive Rate: proportion of real positive cases that were correctly predicted as positive.\n",
    "    recall = tp / np.maximum(tp+fn, np.finfo(np.float64).eps)\n",
    "    # Precision: proportion of predicted positive cases that were truly real positives.\n",
    "    precision = tp / np.maximum(tp+fp, np.finfo(np.float64).eps)\n",
    "    # True Negative Rate: proportion of real negative cases that were correctly predicted as negative.\n",
    "    specificity = tn / np.maximum(tn+fp, np.finfo(np.float64).eps)\n",
    "    # Dice coefficient refers to two times the intersection of two sets divided by the sum of their areas.\n",
    "    # Dice = 2 |A∩B| / (|A|+|B|) = 2 TP / (2 TP + FP + FN)\n",
    "    f1_score = 2 * ((precision * recall) / np.maximum(precision+recall, np.finfo(np.float64).eps))\n",
    "    print('> %s: Recall: %.3f%% Precision: %.3f%% Specificity: %.3f%% Dice: %.3f%%' % (list(categories.values())[idx], recall*100, precision*100, specificity*100, f1_score*100))"
   ]
  },
  {
   "cell_type": "markdown",
   "id": "68036693",
   "metadata": {
    "papermill": {
     "duration": 1.834041,
     "end_time": "2025-10-15T10:51:13.621643",
     "exception": false,
     "start_time": "2025-10-15T10:51:11.787602",
     "status": "completed"
    },
    "tags": []
   },
   "source": [
    "### 2.4 Testing"
   ]
  },
  {
   "cell_type": "code",
   "execution_count": null,
   "id": "df2af741",
   "metadata": {
    "execution": {
     "iopub.execute_input": "2025-10-15T10:51:17.237633Z",
     "iopub.status.busy": "2025-10-15T10:51:17.237300Z",
     "iopub.status.idle": "2025-10-15T10:51:18.210833Z",
     "shell.execute_reply": "2025-10-15T10:51:18.210038Z"
    },
    "papermill": {
     "duration": 2.789876,
     "end_time": "2025-10-15T10:51:18.212076",
     "exception": false,
     "start_time": "2025-10-15T10:51:15.422200",
     "status": "completed"
    },
    "tags": []
   },
   "outputs": [],
   "source": [
    "anns = []\n",
    "i = 0\n",
    "for (dirpath, dirnames, filenames) in os.walk('/kaggle/input/xview-dataset/xview_recognition/xview_test/'):\n",
    "    for filename in filenames:\n",
    "        image = GenericImage(dirpath + '/' + filename)\n",
    "        image.tile = np.array([0, 0, 224, 224])\n",
    "        obj = GenericObject()\n",
    "        obj.bb = (0, 0, 224, 224)\n",
    "        obj.category = dirpath[dirpath.rfind('/')+1:]\n",
    "        image.add_object(obj)\n",
    "        anns.append(image)\n",
    "print('Number of testing images: ' + str(len(anns)))"
   ]
  },
  {
   "cell_type": "code",
   "execution_count": null,
   "id": "812f0919",
   "metadata": {
    "execution": {
     "iopub.execute_input": "2025-10-15T10:51:21.852637Z",
     "iopub.status.busy": "2025-10-15T10:51:21.852309Z",
     "iopub.status.idle": "2025-10-15T10:55:56.030899Z",
     "shell.execute_reply": "2025-10-15T10:55:56.030032Z"
    },
    "papermill": {
     "duration": 275.996801,
     "end_time": "2025-10-15T10:55:56.032660",
     "exception": false,
     "start_time": "2025-10-15T10:51:20.035859",
     "status": "completed"
    },
    "tags": []
   },
   "outputs": [],
   "source": [
    "model.load_weights(MODEL_NAME)\n",
    "predictions_data = {\"images\": {}, \"annotations\": {}}\n",
    "\n",
    "for idx, ann in enumerate(anns):\n",
    "    image_data = {\"image_id\": ann.filename.split('/')[-1], \"filename\": ann.filename, \"width\": int(ann.tile[2]), \"height\": int(ann.tile[3])}\n",
    "    predictions_data[\"images\"][idx] = image_data\n",
    "    # Load image\n",
    "    image = load_geoimage(\"/\".join(ann.filename.split('/')[-3:]))\n",
    "    for obj_pred in ann.objects:\n",
    "        # Generate prediction\n",
    "        warped_image = np.expand_dims(image, 0)\n",
    "        predictions = model.predict(warped_image, verbose=0)\n",
    "        # Save prediction\n",
    "        pred_category = list(categories.values())[np.argmax(predictions)]\n",
    "        pred_score = np.max(predictions)\n",
    "        annotation_data = {\"image_id\": ann.filename.split('/')[-1], \"category_id\": pred_category, \"bbox\": [int(x) for x in obj_pred.bb]}\n",
    "        predictions_data[\"annotations\"][idx] = annotation_data"
   ]
  },
  {
   "cell_type": "code",
   "execution_count": null,
   "id": "32900808",
   "metadata": {
    "execution": {
     "iopub.execute_input": "2025-10-15T10:55:59.739411Z",
     "iopub.status.busy": "2025-10-15T10:55:59.739094Z",
     "iopub.status.idle": "2025-10-15T10:55:59.778440Z",
     "shell.execute_reply": "2025-10-15T10:55:59.777878Z"
    },
    "papermill": {
     "duration": 1.878065,
     "end_time": "2025-10-15T10:55:59.779664",
     "exception": false,
     "start_time": "2025-10-15T10:55:57.901599",
     "status": "completed"
    },
    "tags": []
   },
   "outputs": [],
   "source": [
    "with open(\"prediction.json\", \"w\") as outfile:\n",
    "    json.dump(predictions_data, outfile)"
   ]
  }
 ],
 "metadata": {
  "colab": {
   "provenance": []
  },
  "kaggle": {
   "accelerator": "nvidiaTeslaT4",
   "dataSources": [
    {
     "datasetId": 8497306,
     "sourceId": 13391266,
     "sourceType": "datasetVersion"
    }
   ],
   "isGpuEnabled": true,
   "isInternetEnabled": true,
   "language": "python",
   "sourceType": "notebook"
  },
  "kernelspec": {
   "display_name": "cv",
   "language": "python",
   "name": "python3"
  },
  "language_info": {
   "codemirror_mode": {
    "name": "ipython",
    "version": 3
   },
   "file_extension": ".py",
   "mimetype": "text/x-python",
   "name": "python",
   "nbconvert_exporter": "python",
   "pygments_lexer": "ipython3",
   "version": "3.12.11"
  },
  "papermill": {
   "default_parameters": {},
   "duration": 6811.157254,
   "end_time": "2025-10-15T10:56:05.306284",
   "environment_variables": {},
   "exception": null,
   "input_path": "__notebook__.ipynb",
   "output_path": "__notebook__.ipynb",
   "parameters": {},
   "start_time": "2025-10-15T09:02:34.149030",
   "version": "2.6.0"
  }
 },
 "nbformat": 4,
 "nbformat_minor": 5
}
